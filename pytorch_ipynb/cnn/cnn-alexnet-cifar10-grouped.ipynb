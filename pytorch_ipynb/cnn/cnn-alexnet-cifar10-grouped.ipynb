{
 "cells": [
  {
   "cell_type": "markdown",
   "metadata": {
    "colab_type": "text",
    "id": "UEBilEjLj5wY"
   },
   "source": [
    "Deep Learning Models -- A collection of various deep learning architectures, models, and tips for TensorFlow and PyTorch in Jupyter Notebooks.\n",
    "- Author: Sebastian Raschka\n",
    "- GitHub Repository: https://github.com/rasbt/deeplearning-models\n",
    "\n",
    "---"
   ]
  },
  {
   "cell_type": "code",
   "execution_count": 1,
   "metadata": {
    "colab": {
     "autoexec": {
      "startup": false,
      "wait_interval": 0
     },
     "base_uri": "https://localhost:8080/",
     "height": 119
    },
    "colab_type": "code",
    "executionInfo": {
     "elapsed": 536,
     "status": "ok",
     "timestamp": 1524974472601,
     "user": {
      "displayName": "Sebastian Raschka",
      "photoUrl": "//lh6.googleusercontent.com/-cxK6yOSQ6uE/AAAAAAAAAAI/AAAAAAAAIfw/P9ar_CHsKOQ/s50-c-k-no/photo.jpg",
      "userId": "118404394130788869227"
     },
     "user_tz": 240
    },
    "id": "GOzuY8Yvj5wb",
    "outputId": "c19362ce-f87a-4cc2-84cc-8d7b4b9e6007"
   },
   "outputs": [
    {
     "name": "stdout",
     "output_type": "stream",
     "text": [
      "Author: Sebastian Raschka\n",
      "\n",
      "Python implementation: CPython\n",
      "Python version       : 3.11.11\n",
      "IPython version      : 9.0.2\n",
      "\n",
      "torch: 2.6.0+cu126\n",
      "\n"
     ]
    }
   ],
   "source": [
    "%load_ext watermark\n",
    "%watermark -a 'Sebastian Raschka' -v -p torch"
   ]
  },
  {
   "cell_type": "markdown",
   "metadata": {
    "colab_type": "text",
    "id": "rH4XmErYj5wm"
   },
   "source": [
    "# AlexNet CIFAR-10 Classifier"
   ]
  },
  {
   "cell_type": "markdown",
   "metadata": {},
   "source": [
    "AlexNet [1][2] trained on CIFAR-10 [3].  \n",
    "AlexNet [1][2] 在CIFAR-10 [3] 上训练。\n",
    "\n",
    "This implementation uses grouped convolutions like in the original AlexNet paper [2]:  \n",
    "该实现使用了像原始AlexNet论文[2]中那样的分组卷积：\n",
    "\n",
    "![](../images/alexnet/alexnet-paper.png) \n",
    "\n",
    "Here, the network is essentially split into two parts to train it on two GPUs with 1.5 Gb RAM each.  \n",
    "在这里，网络实际上被分为两部分，在两个具有1.5 GB RAM的GPU上训练。\n",
    "\n",
    "This was purely done for computational performance reasons (and the video RAM limitation back then).  \n",
    "这纯粹是出于计算性能的考虑（以及当时视频RAM的限制）。\n",
    "\n",
    "However, there are certain benefits to using grouped convolutions ...  \n",
    "然而，使用分组卷积有一些好处……\n",
    "\n",
    "**Taking a step back, how do grouped convolutions work?**  \n",
    "**回顾一下，分组卷积是如何工作的？**\n",
    "\n",
    "In a nutshell, you can think of grouped convolutions as convolutional layers that process part of the input independently and merge the results.  \n",
    "简而言之，您可以将分组卷积视为卷积层，它独立处理输入的一部分并合并结果。\n",
    "\n",
    "So, for example, if you consider grouped convolutions with two filter groups, each filter group would process half of the channels.  \n",
    "例如，如果考虑具有两个滤波器组的分组卷积，则每个滤波器组将处理一半的通道。\n",
    "\n",
    "![](../images/alexnet/grouped-convolutions.png)  \n",
    "\n",
    "**One of the benefits of grouped convolutions is**, as noted by Yani Ioannou [4], that AlexNet has a slightly improved accuracy when using two filter groups:  \n",
    "**分组卷积的一个好处是**，正如Yani Ioannou [4] 所指出的，当使用两个滤波器组时，AlexNet的准确性略有提高：\n",
    "\n",
    "![](../images/alexnet/alexnet-groups.png)  \n",
    "\n",
    "**Another benefit is the reduced parameter size**.  \n",
    "**另一个好处是减少了参数的大小**。\n",
    "\n",
    "Say we have kernels with height 3 and width 3.  \n",
    "假设我们有高度为3，宽度为3的卷积核。\n",
    "\n",
    "The inputs have 6 channels, and the output channels are set to 12.  \n",
    "输入有6个通道，输出通道设置为12。\n",
    "\n",
    "Then, we have kernels with 3x3x6 weight parameters with a regular convolution.  \n",
    "然后，我们有一个常规卷积的3x3x6的卷积核权重参数。\n",
    "\n",
    "Since we have 12 output channels, that's 3x3x6x12=648 parameters in total.  \n",
    "由于我们有12个输出通道，总共有3x3x6x12=648个参数。\n",
    "\n",
    "Now, let's assume we use a grouped convolution with group size 2.  \n",
    "现在，假设我们使用一个组大小为2的分组卷积。\n",
    "\n",
    "We still have a 3x3 kernel height and width.  \n",
    "我们仍然有一个3x3的卷积核的高度和宽度。\n",
    "\n",
    "But now, the number of input channels is split by a factor of 2, so each kernel is 3x3x3.  \n",
    "但现在，输入通道的数量按2的因子分割，因此每个卷积核为3x3x3。\n",
    "\n",
    "The first group produces the first 6 output channels, so we have 3x3x3x6 parameters for the first group.  \n",
    "第一个组生成前6个输出通道，因此第一个组有3x3x3x6个参数。\n",
    "\n",
    "The second group has the same size, so we have (3x3x3x6)x2 = 3x3x3x12 = 324, which is a 2x reduction in parameters compared to the regular convolution.  \n",
    "第二个组具有相同的大小，因此我们有(3x3x3x6)x2 = 3x3x3x12 = 324，与常规卷积相比，参数减少了2倍。\n",
    "\n",
    "**And how do we do this in PyTorch?**  \n",
    "**那么我们如何在PyTorch中实现呢？**\n",
    "\n",
    "Implementing grouped convolutions in PyTorch is now really straightforward.  \n",
    "在PyTorch中实现分组卷积现在非常简单。\n",
    "\n",
    "We just used the `groups` parameter.  \n",
    "我们只需要使用`groups`参数。\n",
    "\n",
    "For example, to implement a grouped convolution with two filter groups we use  \n",
    "例如，为了实现具有两个滤波器组的分组卷积，我们使用\n",
    "\n",
    "    torch.nn.Conv2d(..., groups=2)  \n",
    "    torch.nn.Conv2d(..., groups=2)  \n",
    "\n",
    "Note that a requirement for this is that the number of input and output channels is divisible by groups (here: 2).  \n",
    "请注意，这需要输入和输出通道的数量能够被组数（这里是2）整除。 \n",
    "\n",
    "### References  \n",
    "### 参考文献\n",
    "\n",
    "- [1] L13.7 CNN Architectures & AlexNet (20:17), https://www.youtube.com/watch?v=-IHxe4-09e4  \n",
    "- [1] L13.7 CNN架构与AlexNet (20:17)，https://www.youtube.com/watch?v=-IHxe4-09e4\n",
    "\n",
    "- [2] Imagenet classification with deep convolutional neural networks, https://proceedings.neurips.cc/paper/2012/file/c399862d3b9d6b76c8436e924a68c45b-Paper.pdf  \n",
    "- [2] 使用深度卷积神经网络进行Imagenet分类，https://proceedings.neurips.cc/paper/2012/file/c399862d3b9d6b76c8436e924a68c45b-Paper.pdf\n",
    "\n",
    "- [3] https://en.wikipedia.org/wiki/CIFAR-10  \n",
    "\n",
    "- [4] https://blog.yani.ai/filter-group-tutorial/  "
   ]
  },
  {
   "cell_type": "markdown",
   "metadata": {
    "colab_type": "text",
    "id": "MkoGLH_Tj5wn"
   },
   "source": [
    "## Imports"
   ]
  },
  {
   "cell_type": "code",
   "execution_count": 2,
   "metadata": {
    "colab": {
     "autoexec": {
      "startup": false,
      "wait_interval": 0
     }
    },
    "colab_type": "code",
    "id": "ORj09gnrj5wp"
   },
   "outputs": [],
   "source": [
    "import os\n",
    "import time\n",
    "import random\n",
    "\n",
    "import numpy as np\n",
    "import pandas as pd\n",
    "\n",
    "import torch\n",
    "import torch.nn as nn\n",
    "import torch.nn.functional as F\n",
    "from torch.utils.data import DataLoader\n",
    "from torch.utils.data.dataset import Subset\n",
    "\n",
    "from torchvision import datasets\n",
    "from torchvision import transforms\n",
    "\n",
    "import matplotlib.pyplot as plt\n",
    "from PIL import Image\n",
    "\n",
    "\n",
    "if torch.cuda.is_available():\n",
    "    torch.backends.cudnn.deterministic = True"
   ]
  },
  {
   "cell_type": "markdown",
   "metadata": {
    "colab_type": "text",
    "id": "I6hghKPxj5w0"
   },
   "source": [
    "## Model Settings"
   ]
  },
  {
   "cell_type": "markdown",
   "metadata": {},
   "source": [
    "#### Setting a random seed"
   ]
  },
  {
   "cell_type": "markdown",
   "metadata": {},
   "source": [
    "I recommend using a function like the following one prior to using dataset loaders and initializing a model if you want to ensure the data is shuffled in the same manner if you rerun this notebook and the model gets the same initial random weights:  \n",
    "如果你想确保数据在重新运行该笔记本并且模型得到相同的初始随机权重时以相同的方式被打乱，我建议在使用数据集加载器和初始化模型之前使用如下函数：\n"
   ]
  },
  {
   "cell_type": "code",
   "execution_count": 3,
   "metadata": {},
   "outputs": [],
   "source": [
    "def set_all_seeds(seed):\n",
    "    os.environ[\"PL_GLOBAL_SEED\"] = str(seed)  # 设置全局种子，用于确保训练过程的可重复性\n",
    "    random.seed(seed)  # 设置Python的随机种子\n",
    "    np.random.seed(seed)  # 设置NumPy的随机种子\n",
    "    torch.manual_seed(seed)  # 设置PyTorch的CPU随机种子\n",
    "    torch.cuda.manual_seed_all(seed)  # 设置PyTorch的所有GPU设备的随机种子"
   ]
  },
  {
   "cell_type": "markdown",
   "metadata": {},
   "source": [
    "#### Setting cuDNN and PyTorch algorithmic behavior to deterministic"
   ]
  },
  {
   "cell_type": "markdown",
   "metadata": {},
   "source": [
    "Similar to the `set_all_seeds` function above, I recommend setting the behavior of PyTorch and cuDNN to deterministic (this is particularly relevant when using GPUs).  \n",
    "类似于上面的 `set_all_seeds` 函数，我建议将PyTorch和cuDNN的行为设置为确定性（这在使用GPU时特别重要）。\n",
    "\n",
    "We can also define a function for that:  \n",
    "我们也可以为此定义一个函数："
   ]
  },
  {
   "cell_type": "code",
   "execution_count": 4,
   "metadata": {},
   "outputs": [],
   "source": [
    "def set_deterministic():\n",
    "    if torch.cuda.is_available():  # 如果CUDA可用（有GPU）\n",
    "        torch.backends.cudnn.benchmark = False  # 禁用CUDNN的自动优化，以确保确定性\n",
    "        torch.backends.cudnn.deterministic = True  # 强制CUDNN在GPU上执行确定性的操作\n",
    "    torch.set_deterministic(True)  # 在CPU上设置PyTorch为确定性行为"
   ]
  },
  {
   "cell_type": "code",
   "execution_count": 5,
   "metadata": {
    "colab": {
     "autoexec": {
      "startup": false,
      "wait_interval": 0
     },
     "base_uri": "https://localhost:8080/",
     "height": 85
    },
    "colab_type": "code",
    "executionInfo": {
     "elapsed": 23936,
     "status": "ok",
     "timestamp": 1524974497505,
     "user": {
      "displayName": "Sebastian Raschka",
      "photoUrl": "//lh6.googleusercontent.com/-cxK6yOSQ6uE/AAAAAAAAAAI/AAAAAAAAIfw/P9ar_CHsKOQ/s50-c-k-no/photo.jpg",
      "userId": "118404394130788869227"
     },
     "user_tz": 240
    },
    "id": "NnT0sZIwj5wu",
    "outputId": "55aed925-d17e-4c6a-8c71-0d9b3bde5637"
   },
   "outputs": [],
   "source": [
    "##########################\n",
    "### 设置\n",
    "##########################\n",
    "\n",
    "# 超参数\n",
    "RANDOM_SEED = 1  # 随机种子\n",
    "LEARNING_RATE = 0.0001  # 学习率\n",
    "BATCH_SIZE = 256  # 批次大小\n",
    "NUM_EPOCHS = 40  # 训练轮数\n",
    "\n",
    "# 网络结构\n",
    "NUM_CLASSES = 10  # 类别数\n",
    "\n",
    "# 其他\n",
    "DEVICE = \"cuda:0\"  # 使用的设备（GPU）\n",
    "\n",
    "# 设置所有随机种子以确保可重复性\n",
    "set_all_seeds(RANDOM_SEED)\n",
    "\n",
    "# AdaptiveAvgPool2d 当前不支持确定性行为\n",
    "#set_deterministic()  # 此函数确保在训练过程中具有确定性，但可能会与某些操作（如AdaptiveAvgPool2d）不兼容\n"
   ]
  },
  {
   "cell_type": "markdown",
   "metadata": {},
   "source": [
    "#### Import utility functions"
   ]
  },
  {
   "cell_type": "code",
   "execution_count": 6,
   "metadata": {},
   "outputs": [],
   "source": [
    "import sys\n",
    "\n",
    "sys.path.insert(0, \"..\") # 包含 ../helper_evaluate.py 等文件\n",
    "\n",
    "from helper_evaluate import compute_accuracy\n",
    "from helper_data import get_dataloaders_cifar10\n",
    "from helper_train import train_classifier_simple_v1\n",
    "### 设置随机种子 ###\n",
    "set_all_seeds(RANDOM_SEED)"
   ]
  },
  {
   "cell_type": "markdown",
   "metadata": {},
   "source": [
    "## Dataset"
   ]
  },
  {
   "cell_type": "code",
   "execution_count": 7,
   "metadata": {},
   "outputs": [],
   "source": [
    "##########################\n",
    "### 数据集\n",
    "##########################\n",
    "\n",
    "# 定义训练数据的预处理操作\n",
    "train_transforms = transforms.Compose([transforms.Resize((70, 70)),  # 调整图片大小为70x70\n",
    "                                       transforms.RandomCrop((64, 64)),  # 随机裁剪为64x64\n",
    "                                       transforms.ToTensor()])  # 转换为Tensor格式\n",
    "\n",
    "# 定义测试数据的预处理操作\n",
    "test_transforms = transforms.Compose([transforms.Resize((70, 70)),  # 调整图片大小为70x70\n",
    "                                      transforms.CenterCrop((64, 64)),  # 中心裁剪为64x64\n",
    "                                      transforms.ToTensor()])  # 转换为Tensor格式\n",
    "\n",
    "\n",
    "# 获取 CIFAR-10 数据集的加载器\n",
    "train_loader, valid_loader, test_loader = get_dataloaders_cifar10(\n",
    "    batch_size=BATCH_SIZE, \n",
    "    num_workers=2, \n",
    "    train_transforms=train_transforms,\n",
    "    test_transforms=test_transforms,\n",
    "    validation_fraction=0.1)"
   ]
  },
  {
   "cell_type": "code",
   "execution_count": 8,
   "metadata": {},
   "outputs": [
    {
     "name": "stdout",
     "output_type": "stream",
     "text": [
      "Training Set:\n",
      "\n",
      "Image batch dimensions: torch.Size([256, 3, 64, 64])\n",
      "Image label dimensions: torch.Size([256])\n",
      "tensor([0, 2, 3, 5, 4, 8, 9, 6, 9, 7])\n",
      "\n",
      "Validation Set:\n",
      "Image batch dimensions: torch.Size([256, 3, 64, 64])\n",
      "Image label dimensions: torch.Size([256])\n",
      "tensor([6, 9, 3, 5, 7, 3, 4, 1, 8, 0])\n",
      "\n",
      "Testing Set:\n",
      "Image batch dimensions: torch.Size([256, 3, 64, 64])\n",
      "Image label dimensions: torch.Size([256])\n",
      "tensor([2, 6, 3, 1, 1, 1, 1, 2, 4, 8])\n"
     ]
    }
   ],
   "source": [
    "# 检查验证数据集\n",
    "print('Training Set:\\n')\n",
    "for images, labels in train_loader:  \n",
    "    print('Image batch dimensions:', images.size())\n",
    "    print('Image label dimensions:', labels.size())\n",
    "    print(labels[:10])\n",
    "    break\n",
    "    \n",
    "# 检查验证数据集\n",
    "print('\\nValidation Set:')\n",
    "for images, labels in valid_loader:  \n",
    "    print('Image batch dimensions:', images.size())\n",
    "    print('Image label dimensions:', labels.size())\n",
    "    print(labels[:10])\n",
    "    break\n",
    "\n",
    "# 检查验证数据集\n",
    "print('\\nTesting Set:')\n",
    "for images, labels in train_loader:  \n",
    "    print('Image batch dimensions:', images.size())\n",
    "    print('Image label dimensions:', labels.size())\n",
    "    print(labels[:10])\n",
    "    break"
   ]
  },
  {
   "cell_type": "markdown",
   "metadata": {},
   "source": [
    "## Model"
   ]
  },
  {
   "cell_type": "code",
   "execution_count": 9,
   "metadata": {},
   "outputs": [],
   "source": [
    "##########################\n",
    "### 模型\n",
    "##########################\n",
    "\n",
    "# 定义AlexNet模型\n",
    "class AlexNet(nn.Module):\n",
    "\n",
    "    def __init__(self, num_classes):\n",
    "        super(AlexNet, self).__init__()\n",
    "        self.features = nn.Sequential(\n",
    "            # 第一层卷积层，输入3通道，输出64通道，卷积核大小11，步长4，填充2\n",
    "            nn.Conv2d(3, 64, kernel_size=11, stride=4, padding=2),\n",
    "            nn.ReLU(inplace=True),\n",
    "            nn.MaxPool2d(kernel_size=3, stride=2),  # 最大池化层，池化大小为3，步长为2\n",
    "            \n",
    "            # 第二层卷积层，输入64通道，输出192通道，卷积核大小5，填充2，分组为2\n",
    "            nn.Conv2d(64, 192, kernel_size=5, padding=2, groups=2),\n",
    "            nn.ReLU(inplace=True),\n",
    "            nn.MaxPool2d(kernel_size=3, stride=2),  # 最大池化层\n",
    "            \n",
    "            # 第三层卷积层，输入192通道，输出384通道，卷积核大小3，填充1，分组为2\n",
    "            nn.Conv2d(192, 384, kernel_size=3, padding=1, groups=2),\n",
    "            nn.ReLU(inplace=True),\n",
    "            \n",
    "            # 第四层卷积层，输入384通道，输出256通道，卷积核大小3，填充1，分组为2\n",
    "            nn.Conv2d(384, 256, kernel_size=3, padding=1, groups=2),\n",
    "            nn.ReLU(inplace=True),\n",
    "            \n",
    "            # 第五层卷积层，输入256通道，输出256通道，卷积核大小3，填充1，分组为2\n",
    "            nn.Conv2d(256, 256, kernel_size=3, padding=1, groups=2),\n",
    "            nn.ReLU(inplace=True),\n",
    "            nn.MaxPool2d(kernel_size=3, stride=2),  # 最大池化层\n",
    "        )\n",
    "        self.avgpool = nn.AdaptiveAvgPool2d((6, 6))  # 自适应平均池化层，输出大小为6x6\n",
    "        self.classifier = nn.Sequential(\n",
    "            nn.Dropout(0.5),  # Dropout层，防止过拟合\n",
    "            nn.Linear(256 * 6 * 6, 4096),  # 全连接层，输入维度为256x6x6，输出维度为4096\n",
    "            nn.ReLU(inplace=True),\n",
    "            nn.Dropout(0.5),  # Dropout层\n",
    "            nn.Linear(4096, 4096),  # 全连接层，输入输出维度为4096\n",
    "            nn.ReLU(inplace=True),\n",
    "            nn.Linear(4096, num_classes)  # 最后一层，全连接层，输出类别数\n",
    "        )\n",
    "\n",
    "    def forward(self, x):\n",
    "        x = self.features(x)  # 通过卷积层提取特征\n",
    "        x = self.avgpool(x)  # 进行自适应平均池化\n",
    "        x = x.view(x.size(0), 256 * 6 * 6)  # 将特征图展平\n",
    "        logits = self.classifier(x)  # 通过全连接层\n",
    "        probas = F.softmax(logits, dim=1)  # 计算每个类别的概率\n",
    "        return logits  # 返回logits\n"
   ]
  },
  {
   "cell_type": "code",
   "execution_count": 10,
   "metadata": {
    "colab": {
     "autoexec": {
      "startup": false,
      "wait_interval": 0
     }
    },
    "colab_type": "code",
    "id": "_lza9t_uj5w1"
   },
   "outputs": [],
   "source": [
    "torch.manual_seed(RANDOM_SEED)\n",
    "\n",
    "model = AlexNet(NUM_CLASSES)\n",
    "model.to(DEVICE)\n",
    "\n",
    "optimizer = torch.optim.Adam(model.parameters(), lr=LEARNING_RATE)  "
   ]
  },
  {
   "cell_type": "markdown",
   "metadata": {
    "colab_type": "text",
    "id": "RAodboScj5w6"
   },
   "source": [
    "## Training"
   ]
  },
  {
   "cell_type": "code",
   "execution_count": 11,
   "metadata": {
    "colab": {
     "autoexec": {
      "startup": false,
      "wait_interval": 0
     },
     "base_uri": "https://localhost:8080/",
     "height": 1547
    },
    "colab_type": "code",
    "executionInfo": {
     "elapsed": 2384585,
     "status": "ok",
     "timestamp": 1524976888520,
     "user": {
      "displayName": "Sebastian Raschka",
      "photoUrl": "//lh6.googleusercontent.com/-cxK6yOSQ6uE/AAAAAAAAAAI/AAAAAAAAIfw/P9ar_CHsKOQ/s50-c-k-no/photo.jpg",
      "userId": "118404394130788869227"
     },
     "user_tz": 240
    },
    "id": "Dzh3ROmRj5w7",
    "outputId": "5f8fd8c9-b076-403a-b0b7-fd2d498b48d7",
    "scrolled": true
   },
   "outputs": [
    {
     "name": "stdout",
     "output_type": "stream",
     "text": [
      "Epoch: 001/040 | Batch 0000/0175 | Loss: 2.3019\n",
      "Epoch: 001/040 | Batch 0050/0175 | Loss: 2.0357\n",
      "Epoch: 001/040 | Batch 0100/0175 | Loss: 1.8851\n",
      "Epoch: 001/040 | Batch 0150/0175 | Loss: 1.9109\n",
      "***Epoch: 001/040 | Train. Acc.: 31.453% | Loss: 1.760\n",
      "***Epoch: 001/040 | Valid. Acc.: 32.160% | Loss: 1.725\n",
      "Time elapsed: 0.22 min\n",
      "Epoch: 002/040 | Batch 0000/0175 | Loss: 1.7038\n",
      "Epoch: 002/040 | Batch 0050/0175 | Loss: 1.7065\n",
      "Epoch: 002/040 | Batch 0100/0175 | Loss: 1.6284\n",
      "Epoch: 002/040 | Batch 0150/0175 | Loss: 1.5101\n",
      "***Epoch: 002/040 | Train. Acc.: 42.029% | Loss: 1.541\n",
      "***Epoch: 002/040 | Valid. Acc.: 42.860% | Loss: 1.520\n",
      "Time elapsed: 0.45 min\n",
      "Epoch: 003/040 | Batch 0000/0175 | Loss: 1.4720\n",
      "Epoch: 003/040 | Batch 0050/0175 | Loss: 1.5944\n",
      "Epoch: 003/040 | Batch 0100/0175 | Loss: 1.4508\n",
      "Epoch: 003/040 | Batch 0150/0175 | Loss: 1.3085\n",
      "***Epoch: 003/040 | Train. Acc.: 48.522% | Loss: 1.382\n",
      "***Epoch: 003/040 | Valid. Acc.: 49.120% | Loss: 1.373\n",
      "Time elapsed: 0.68 min\n",
      "Epoch: 004/040 | Batch 0000/0175 | Loss: 1.3712\n",
      "Epoch: 004/040 | Batch 0050/0175 | Loss: 1.3730\n",
      "Epoch: 004/040 | Batch 0100/0175 | Loss: 1.3856\n",
      "Epoch: 004/040 | Batch 0150/0175 | Loss: 1.2857\n",
      "***Epoch: 004/040 | Train. Acc.: 51.770% | Loss: 1.300\n",
      "***Epoch: 004/040 | Valid. Acc.: 52.080% | Loss: 1.294\n",
      "Time elapsed: 0.91 min\n",
      "Epoch: 005/040 | Batch 0000/0175 | Loss: 1.2913\n",
      "Epoch: 005/040 | Batch 0050/0175 | Loss: 1.2324\n",
      "Epoch: 005/040 | Batch 0100/0175 | Loss: 1.2447\n",
      "Epoch: 005/040 | Batch 0150/0175 | Loss: 1.2690\n",
      "***Epoch: 005/040 | Train. Acc.: 54.312% | Loss: 1.247\n",
      "***Epoch: 005/040 | Valid. Acc.: 55.760% | Loss: 1.234\n",
      "Time elapsed: 1.13 min\n",
      "Epoch: 006/040 | Batch 0000/0175 | Loss: 1.2483\n",
      "Epoch: 006/040 | Batch 0050/0175 | Loss: 1.3500\n",
      "Epoch: 006/040 | Batch 0100/0175 | Loss: 1.2150\n",
      "Epoch: 006/040 | Batch 0150/0175 | Loss: 1.1218\n",
      "***Epoch: 006/040 | Train. Acc.: 58.768% | Loss: 1.130\n",
      "***Epoch: 006/040 | Valid. Acc.: 59.440% | Loss: 1.132\n",
      "Time elapsed: 1.36 min\n",
      "Epoch: 007/040 | Batch 0000/0175 | Loss: 1.0874\n",
      "Epoch: 007/040 | Batch 0050/0175 | Loss: 1.1958\n",
      "Epoch: 007/040 | Batch 0100/0175 | Loss: 1.1665\n",
      "Epoch: 007/040 | Batch 0150/0175 | Loss: 1.3036\n",
      "***Epoch: 007/040 | Train. Acc.: 59.993% | Loss: 1.104\n",
      "***Epoch: 007/040 | Valid. Acc.: 60.740% | Loss: 1.106\n",
      "Time elapsed: 1.58 min\n",
      "Epoch: 008/040 | Batch 0000/0175 | Loss: 1.0596\n",
      "Epoch: 008/040 | Batch 0050/0175 | Loss: 1.1185\n",
      "Epoch: 008/040 | Batch 0100/0175 | Loss: 1.1030\n",
      "Epoch: 008/040 | Batch 0150/0175 | Loss: 1.0615\n",
      "***Epoch: 008/040 | Train. Acc.: 60.051% | Loss: 1.100\n",
      "***Epoch: 008/040 | Valid. Acc.: 60.180% | Loss: 1.116\n",
      "Time elapsed: 1.81 min\n",
      "Epoch: 009/040 | Batch 0000/0175 | Loss: 1.1660\n",
      "Epoch: 009/040 | Batch 0050/0175 | Loss: 1.0795\n",
      "Epoch: 009/040 | Batch 0100/0175 | Loss: 1.1174\n",
      "Epoch: 009/040 | Batch 0150/0175 | Loss: 1.0518\n",
      "***Epoch: 009/040 | Train. Acc.: 61.864% | Loss: 1.058\n",
      "***Epoch: 009/040 | Valid. Acc.: 60.800% | Loss: 1.093\n",
      "Time elapsed: 2.04 min\n",
      "Epoch: 010/040 | Batch 0000/0175 | Loss: 1.0154\n",
      "Epoch: 010/040 | Batch 0050/0175 | Loss: 1.0792\n",
      "Epoch: 010/040 | Batch 0100/0175 | Loss: 0.9292\n",
      "Epoch: 010/040 | Batch 0150/0175 | Loss: 1.2222\n",
      "***Epoch: 010/040 | Train. Acc.: 64.304% | Loss: 0.987\n",
      "***Epoch: 010/040 | Valid. Acc.: 62.960% | Loss: 1.038\n",
      "Time elapsed: 2.26 min\n",
      "Epoch: 011/040 | Batch 0000/0175 | Loss: 1.0236\n",
      "Epoch: 011/040 | Batch 0050/0175 | Loss: 1.0476\n",
      "Epoch: 011/040 | Batch 0100/0175 | Loss: 0.9742\n",
      "Epoch: 011/040 | Batch 0150/0175 | Loss: 1.0234\n",
      "***Epoch: 011/040 | Train. Acc.: 65.554% | Loss: 0.950\n",
      "***Epoch: 011/040 | Valid. Acc.: 63.900% | Loss: 0.993\n",
      "Time elapsed: 2.48 min\n",
      "Epoch: 012/040 | Batch 0000/0175 | Loss: 1.0147\n",
      "Epoch: 012/040 | Batch 0050/0175 | Loss: 1.0078\n",
      "Epoch: 012/040 | Batch 0100/0175 | Loss: 0.9298\n",
      "Epoch: 012/040 | Batch 0150/0175 | Loss: 0.9817\n",
      "***Epoch: 012/040 | Train. Acc.: 66.922% | Loss: 0.922\n",
      "***Epoch: 012/040 | Valid. Acc.: 64.680% | Loss: 0.990\n",
      "Time elapsed: 2.71 min\n",
      "Epoch: 013/040 | Batch 0000/0175 | Loss: 0.9448\n",
      "Epoch: 013/040 | Batch 0050/0175 | Loss: 0.9272\n",
      "Epoch: 013/040 | Batch 0100/0175 | Loss: 0.9741\n",
      "Epoch: 013/040 | Batch 0150/0175 | Loss: 0.8801\n",
      "***Epoch: 013/040 | Train. Acc.: 70.011% | Loss: 0.848\n",
      "***Epoch: 013/040 | Valid. Acc.: 67.120% | Loss: 0.921\n",
      "Time elapsed: 2.93 min\n",
      "Epoch: 014/040 | Batch 0000/0175 | Loss: 0.8316\n",
      "Epoch: 014/040 | Batch 0050/0175 | Loss: 1.0017\n",
      "Epoch: 014/040 | Batch 0100/0175 | Loss: 0.9084\n",
      "Epoch: 014/040 | Batch 0150/0175 | Loss: 0.8998\n",
      "***Epoch: 014/040 | Train. Acc.: 70.400% | Loss: 0.833\n",
      "***Epoch: 014/040 | Valid. Acc.: 67.820% | Loss: 0.916\n",
      "Time elapsed: 3.16 min\n",
      "Epoch: 015/040 | Batch 0000/0175 | Loss: 0.9183\n",
      "Epoch: 015/040 | Batch 0050/0175 | Loss: 0.8995\n",
      "Epoch: 015/040 | Batch 0100/0175 | Loss: 0.7459\n",
      "Epoch: 015/040 | Batch 0150/0175 | Loss: 0.7989\n",
      "***Epoch: 015/040 | Train. Acc.: 71.261% | Loss: 0.816\n",
      "***Epoch: 015/040 | Valid. Acc.: 67.300% | Loss: 0.911\n",
      "Time elapsed: 3.39 min\n",
      "Epoch: 016/040 | Batch 0000/0175 | Loss: 0.8293\n",
      "Epoch: 016/040 | Batch 0050/0175 | Loss: 1.0167\n",
      "Epoch: 016/040 | Batch 0100/0175 | Loss: 0.8443\n",
      "Epoch: 016/040 | Batch 0150/0175 | Loss: 0.8445\n",
      "***Epoch: 016/040 | Train. Acc.: 68.384% | Loss: 0.887\n",
      "***Epoch: 016/040 | Valid. Acc.: 64.400% | Loss: 0.988\n",
      "Time elapsed: 3.62 min\n",
      "Epoch: 017/040 | Batch 0000/0175 | Loss: 0.9634\n",
      "Epoch: 017/040 | Batch 0050/0175 | Loss: 0.8765\n",
      "Epoch: 017/040 | Batch 0100/0175 | Loss: 0.7927\n",
      "Epoch: 017/040 | Batch 0150/0175 | Loss: 0.9456\n",
      "***Epoch: 017/040 | Train. Acc.: 73.710% | Loss: 0.747\n",
      "***Epoch: 017/040 | Valid. Acc.: 69.360% | Loss: 0.877\n",
      "Time elapsed: 3.84 min\n",
      "Epoch: 018/040 | Batch 0000/0175 | Loss: 0.7044\n",
      "Epoch: 018/040 | Batch 0050/0175 | Loss: 0.7928\n",
      "Epoch: 018/040 | Batch 0100/0175 | Loss: 0.9205\n",
      "Epoch: 018/040 | Batch 0150/0175 | Loss: 0.8630\n",
      "***Epoch: 018/040 | Train. Acc.: 74.357% | Loss: 0.730\n",
      "***Epoch: 018/040 | Valid. Acc.: 69.820% | Loss: 0.864\n",
      "Time elapsed: 4.07 min\n",
      "Epoch: 019/040 | Batch 0000/0175 | Loss: 0.7375\n",
      "Epoch: 019/040 | Batch 0050/0175 | Loss: 0.7122\n",
      "Epoch: 019/040 | Batch 0100/0175 | Loss: 0.7738\n",
      "Epoch: 019/040 | Batch 0150/0175 | Loss: 0.8320\n",
      "***Epoch: 019/040 | Train. Acc.: 73.527% | Loss: 0.742\n",
      "***Epoch: 019/040 | Valid. Acc.: 68.740% | Loss: 0.902\n",
      "Time elapsed: 4.29 min\n",
      "Epoch: 020/040 | Batch 0000/0175 | Loss: 0.7136\n",
      "Epoch: 020/040 | Batch 0050/0175 | Loss: 0.8122\n",
      "Epoch: 020/040 | Batch 0100/0175 | Loss: 0.8131\n",
      "Epoch: 020/040 | Batch 0150/0175 | Loss: 0.8297\n",
      "***Epoch: 020/040 | Train. Acc.: 76.862% | Loss: 0.672\n",
      "***Epoch: 020/040 | Valid. Acc.: 70.440% | Loss: 0.860\n",
      "Time elapsed: 4.52 min\n",
      "Epoch: 021/040 | Batch 0000/0175 | Loss: 0.6558\n",
      "Epoch: 021/040 | Batch 0050/0175 | Loss: 0.7227\n",
      "Epoch: 021/040 | Batch 0100/0175 | Loss: 0.6116\n",
      "Epoch: 021/040 | Batch 0150/0175 | Loss: 0.8306\n",
      "***Epoch: 021/040 | Train. Acc.: 74.734% | Loss: 0.709\n",
      "***Epoch: 021/040 | Valid. Acc.: 69.640% | Loss: 0.906\n",
      "Time elapsed: 4.75 min\n",
      "Epoch: 022/040 | Batch 0000/0175 | Loss: 0.7036\n",
      "Epoch: 022/040 | Batch 0050/0175 | Loss: 0.6296\n",
      "Epoch: 022/040 | Batch 0100/0175 | Loss: 0.5966\n",
      "Epoch: 022/040 | Batch 0150/0175 | Loss: 0.6410\n",
      "***Epoch: 022/040 | Train. Acc.: 77.600% | Loss: 0.651\n",
      "***Epoch: 022/040 | Valid. Acc.: 70.220% | Loss: 0.870\n",
      "Time elapsed: 4.97 min\n",
      "Epoch: 023/040 | Batch 0000/0175 | Loss: 0.6585\n",
      "Epoch: 023/040 | Batch 0050/0175 | Loss: 0.5850\n",
      "Epoch: 023/040 | Batch 0100/0175 | Loss: 0.8020\n",
      "Epoch: 023/040 | Batch 0150/0175 | Loss: 0.6930\n",
      "***Epoch: 023/040 | Train. Acc.: 78.719% | Loss: 0.609\n",
      "***Epoch: 023/040 | Valid. Acc.: 71.840% | Loss: 0.835\n",
      "Time elapsed: 5.20 min\n",
      "Epoch: 024/040 | Batch 0000/0175 | Loss: 0.6530\n",
      "Epoch: 024/040 | Batch 0050/0175 | Loss: 0.7599\n",
      "Epoch: 024/040 | Batch 0100/0175 | Loss: 0.6326\n",
      "Epoch: 024/040 | Batch 0150/0175 | Loss: 0.6537\n",
      "***Epoch: 024/040 | Train. Acc.: 78.518% | Loss: 0.610\n",
      "***Epoch: 024/040 | Valid. Acc.: 70.100% | Loss: 0.858\n",
      "Time elapsed: 5.43 min\n",
      "Epoch: 025/040 | Batch 0000/0175 | Loss: 0.7055\n",
      "Epoch: 025/040 | Batch 0050/0175 | Loss: 0.6093\n",
      "Epoch: 025/040 | Batch 0100/0175 | Loss: 0.6406\n",
      "Epoch: 025/040 | Batch 0150/0175 | Loss: 0.7049\n",
      "***Epoch: 025/040 | Train. Acc.: 81.310% | Loss: 0.549\n",
      "***Epoch: 025/040 | Valid. Acc.: 71.800% | Loss: 0.811\n",
      "Time elapsed: 5.66 min\n",
      "Epoch: 026/040 | Batch 0000/0175 | Loss: 0.5835\n",
      "Epoch: 026/040 | Batch 0050/0175 | Loss: 0.5186\n",
      "Epoch: 026/040 | Batch 0100/0175 | Loss: 0.6076\n",
      "Epoch: 026/040 | Batch 0150/0175 | Loss: 0.5611\n",
      "***Epoch: 026/040 | Train. Acc.: 81.136% | Loss: 0.535\n",
      "***Epoch: 026/040 | Valid. Acc.: 72.300% | Loss: 0.829\n",
      "Time elapsed: 5.88 min\n",
      "Epoch: 027/040 | Batch 0000/0175 | Loss: 0.5046\n",
      "Epoch: 027/040 | Batch 0050/0175 | Loss: 0.5313\n",
      "Epoch: 027/040 | Batch 0100/0175 | Loss: 0.6515\n",
      "Epoch: 027/040 | Batch 0150/0175 | Loss: 0.5755\n",
      "***Epoch: 027/040 | Train. Acc.: 81.344% | Loss: 0.528\n",
      "***Epoch: 027/040 | Valid. Acc.: 70.940% | Loss: 0.849\n",
      "Time elapsed: 6.12 min\n",
      "Epoch: 028/040 | Batch 0000/0175 | Loss: 0.4944\n",
      "Epoch: 028/040 | Batch 0050/0175 | Loss: 0.5806\n",
      "Epoch: 028/040 | Batch 0100/0175 | Loss: 0.5596\n",
      "Epoch: 028/040 | Batch 0150/0175 | Loss: 0.4309\n",
      "***Epoch: 028/040 | Train. Acc.: 83.054% | Loss: 0.494\n",
      "***Epoch: 028/040 | Valid. Acc.: 72.580% | Loss: 0.845\n",
      "Time elapsed: 6.35 min\n",
      "Epoch: 029/040 | Batch 0000/0175 | Loss: 0.5494\n",
      "Epoch: 029/040 | Batch 0050/0175 | Loss: 0.5278\n",
      "Epoch: 029/040 | Batch 0100/0175 | Loss: 0.6399\n",
      "Epoch: 029/040 | Batch 0150/0175 | Loss: 0.4360\n",
      "***Epoch: 029/040 | Train. Acc.: 81.737% | Loss: 0.517\n",
      "***Epoch: 029/040 | Valid. Acc.: 70.540% | Loss: 0.881\n",
      "Time elapsed: 6.58 min\n",
      "Epoch: 030/040 | Batch 0000/0175 | Loss: 0.5369\n",
      "Epoch: 030/040 | Batch 0050/0175 | Loss: 0.5381\n",
      "Epoch: 030/040 | Batch 0100/0175 | Loss: 0.4329\n",
      "Epoch: 030/040 | Batch 0150/0175 | Loss: 0.6025\n",
      "***Epoch: 030/040 | Train. Acc.: 83.996% | Loss: 0.458\n",
      "***Epoch: 030/040 | Valid. Acc.: 72.220% | Loss: 0.858\n",
      "Time elapsed: 6.81 min\n",
      "Epoch: 031/040 | Batch 0000/0175 | Loss: 0.4689\n",
      "Epoch: 031/040 | Batch 0050/0175 | Loss: 0.4709\n",
      "Epoch: 031/040 | Batch 0100/0175 | Loss: 0.5240\n",
      "Epoch: 031/040 | Batch 0150/0175 | Loss: 0.5126\n",
      "***Epoch: 031/040 | Train. Acc.: 84.172% | Loss: 0.449\n",
      "***Epoch: 031/040 | Valid. Acc.: 71.960% | Loss: 0.862\n",
      "Time elapsed: 7.03 min\n",
      "Epoch: 032/040 | Batch 0000/0175 | Loss: 0.3576\n",
      "Epoch: 032/040 | Batch 0050/0175 | Loss: 0.4123\n",
      "Epoch: 032/040 | Batch 0100/0175 | Loss: 0.3712\n",
      "Epoch: 032/040 | Batch 0150/0175 | Loss: 0.4452\n",
      "***Epoch: 032/040 | Train. Acc.: 82.562% | Loss: 0.495\n",
      "***Epoch: 032/040 | Valid. Acc.: 69.780% | Loss: 0.971\n",
      "Time elapsed: 7.26 min\n",
      "Epoch: 033/040 | Batch 0000/0175 | Loss: 0.4846\n",
      "Epoch: 033/040 | Batch 0050/0175 | Loss: 0.3703\n",
      "Epoch: 033/040 | Batch 0100/0175 | Loss: 0.4919\n",
      "Epoch: 033/040 | Batch 0150/0175 | Loss: 0.4126\n",
      "***Epoch: 033/040 | Train. Acc.: 87.062% | Loss: 0.381\n",
      "***Epoch: 033/040 | Valid. Acc.: 72.700% | Loss: 0.854\n",
      "Time elapsed: 7.49 min\n",
      "Epoch: 034/040 | Batch 0000/0175 | Loss: 0.4402\n",
      "Epoch: 034/040 | Batch 0050/0175 | Loss: 0.4630\n",
      "Epoch: 034/040 | Batch 0100/0175 | Loss: 0.4948\n",
      "Epoch: 034/040 | Batch 0150/0175 | Loss: 0.4214\n",
      "***Epoch: 034/040 | Train. Acc.: 87.054% | Loss: 0.369\n",
      "***Epoch: 034/040 | Valid. Acc.: 72.260% | Loss: 0.880\n",
      "Time elapsed: 7.72 min\n",
      "Epoch: 035/040 | Batch 0000/0175 | Loss: 0.4100\n",
      "Epoch: 035/040 | Batch 0050/0175 | Loss: 0.3925\n",
      "Epoch: 035/040 | Batch 0100/0175 | Loss: 0.4596\n",
      "Epoch: 035/040 | Batch 0150/0175 | Loss: 0.3939\n",
      "***Epoch: 035/040 | Train. Acc.: 86.054% | Loss: 0.394\n",
      "***Epoch: 035/040 | Valid. Acc.: 72.000% | Loss: 0.915\n",
      "Time elapsed: 7.95 min\n",
      "Epoch: 036/040 | Batch 0000/0175 | Loss: 0.4288\n",
      "Epoch: 036/040 | Batch 0050/0175 | Loss: 0.4406\n",
      "Epoch: 036/040 | Batch 0100/0175 | Loss: 0.4590\n",
      "Epoch: 036/040 | Batch 0150/0175 | Loss: 0.3631\n",
      "***Epoch: 036/040 | Train. Acc.: 88.366% | Loss: 0.335\n",
      "***Epoch: 036/040 | Valid. Acc.: 72.520% | Loss: 0.894\n",
      "Time elapsed: 8.17 min\n",
      "Epoch: 037/040 | Batch 0000/0175 | Loss: 0.5175\n",
      "Epoch: 037/040 | Batch 0050/0175 | Loss: 0.3132\n",
      "Epoch: 037/040 | Batch 0100/0175 | Loss: 0.3553\n",
      "Epoch: 037/040 | Batch 0150/0175 | Loss: 0.4084\n",
      "***Epoch: 037/040 | Train. Acc.: 88.411% | Loss: 0.333\n",
      "***Epoch: 037/040 | Valid. Acc.: 72.480% | Loss: 0.893\n",
      "Time elapsed: 8.40 min\n",
      "Epoch: 038/040 | Batch 0000/0175 | Loss: 0.2815\n",
      "Epoch: 038/040 | Batch 0050/0175 | Loss: 0.2767\n",
      "Epoch: 038/040 | Batch 0100/0175 | Loss: 0.2856\n",
      "Epoch: 038/040 | Batch 0150/0175 | Loss: 0.3719\n",
      "***Epoch: 038/040 | Train. Acc.: 90.009% | Loss: 0.293\n",
      "***Epoch: 038/040 | Valid. Acc.: 72.940% | Loss: 0.911\n",
      "Time elapsed: 8.63 min\n",
      "Epoch: 039/040 | Batch 0000/0175 | Loss: 0.2578\n",
      "Epoch: 039/040 | Batch 0050/0175 | Loss: 0.3455\n",
      "Epoch: 039/040 | Batch 0100/0175 | Loss: 0.3238\n",
      "Epoch: 039/040 | Batch 0150/0175 | Loss: 0.2612\n",
      "***Epoch: 039/040 | Train. Acc.: 89.768% | Loss: 0.297\n",
      "***Epoch: 039/040 | Valid. Acc.: 72.800% | Loss: 0.923\n",
      "Time elapsed: 8.85 min\n",
      "Epoch: 040/040 | Batch 0000/0175 | Loss: 0.3419\n",
      "Epoch: 040/040 | Batch 0050/0175 | Loss: 0.3637\n",
      "Epoch: 040/040 | Batch 0100/0175 | Loss: 0.3457\n",
      "Epoch: 040/040 | Batch 0150/0175 | Loss: 0.3834\n",
      "***Epoch: 040/040 | Train. Acc.: 89.915% | Loss: 0.289\n",
      "***Epoch: 040/040 | Valid. Acc.: 72.800% | Loss: 0.976\n",
      "Time elapsed: 9.08 min\n",
      "Total Training Time: 9.08 min\n"
     ]
    }
   ],
   "source": [
    "log_dict = train_classifier_simple_v1(num_epochs=NUM_EPOCHS, model=model, \n",
    "                                      optimizer=optimizer, device=DEVICE, \n",
    "                                      train_loader=train_loader, valid_loader=valid_loader, \n",
    "                                      logging_interval=50)"
   ]
  },
  {
   "cell_type": "markdown",
   "metadata": {},
   "source": [
    "## Evaluation"
   ]
  },
  {
   "cell_type": "code",
   "execution_count": 12,
   "metadata": {},
   "outputs": [],
   "source": [
    "import matplotlib.pyplot as plt\n",
    "%matplotlib inline\n"
   ]
  },
  {
   "cell_type": "code",
   "execution_count": 13,
   "metadata": {},
   "outputs": [
    {
     "data": {
      "image/png": "[encoded data removed]",
      "text/plain": [
       "<Figure size 640x480 with 1 Axes>"
      ]
     },
     "metadata": {},
     "output_type": "display_data"
    }
   ],
   "source": [
    "loss_list = log_dict['train_loss_per_batch']\n",
    "\n",
    "plt.plot(loss_list, label='Minibatch loss')\n",
    "plt.plot(np.convolve(loss_list, \n",
    "                     np.ones(200,)/200, mode='valid'), \n",
    "         label='Running average')\n",
    "\n",
    "plt.ylabel('Cross Entropy')\n",
    "plt.xlabel('Iteration')\n",
    "plt.legend()\n",
    "plt.show()"
   ]
  },
  {
   "cell_type": "code",
   "execution_count": 14,
   "metadata": {},
   "outputs": [
    {
     "data": {
      "image/png": "[encoded data removed]",
      "text/plain": [
       "<Figure size 640x480 with 1 Axes>"
      ]
     },
     "metadata": {},
     "output_type": "display_data"
    }
   ],
   "source": [
    "plt.plot(np.arange(1, NUM_EPOCHS+1), log_dict['train_acc_per_epoch'], label='Training')\n",
    "plt.plot(np.arange(1, NUM_EPOCHS+1), log_dict['valid_acc_per_epoch'], label='Validation')\n",
    "\n",
    "plt.xlabel('Epoch')\n",
    "plt.ylabel('Accuracy')\n",
    "plt.legend()\n",
    "plt.show()"
   ]
  },
  {
   "cell_type": "code",
   "execution_count": 15,
   "metadata": {},
   "outputs": [
    {
     "name": "stdout",
     "output_type": "stream",
     "text": [
      "Train ACC: 72.80%\n",
      "Validation ACC: 72.80%\n",
      "Test ACC: 70.83%\n"
     ]
    }
   ],
   "source": [
    "with torch.set_grad_enabled(False):\n",
    "    \n",
    "    train_acc = compute_accuracy(model=model,\n",
    "                                 data_loader=test_loader,\n",
    "                                 device=DEVICE)\n",
    "    \n",
    "    test_acc = compute_accuracy(model=model,\n",
    "                                data_loader=test_loader,\n",
    "                                device=DEVICE)\n",
    "    \n",
    "    valid_acc = compute_accuracy(model=model,\n",
    "                                 data_loader=valid_loader,\n",
    "                                 device=DEVICE)\n",
    "    \n",
    "\n",
    "print(f'Train ACC: {valid_acc:.2f}%')\n",
    "print(f'Validation ACC: {valid_acc:.2f}%')\n",
    "print(f'Test ACC: {test_acc:.2f}%')"
   ]
  },
  {
   "cell_type": "code",
   "execution_count": 16,
   "metadata": {},
   "outputs": [
    {
     "name": "stdout",
     "output_type": "stream",
     "text": [
      "torch      : 2.6.0+cu126\n",
      "matplotlib : 3.10.1\n",
      "numpy      : 1.26.4\n",
      "torchvision: 0.21.0+cu126\n",
      "sys        : 3.11.11 (main, Dec 11 2024, 16:28:39) [GCC 11.2.0]\n",
      "pandas     : 2.2.3\n",
      "PIL        : 11.1.0\n",
      "\n"
     ]
    }
   ],
   "source": [
    "%watermark -iv"
   ]
  }
 ],
 "metadata": {
  "accelerator": "GPU",
  "colab": {
   "collapsed_sections": [],
   "default_view": {},
   "name": "convnet-vgg16.ipynb",
   "provenance": [],
   "version": "0.3.2",
   "views": {}
  },
  "kernelspec": {
   "display_name": "Python 3 (ipykernel)",
   "language": "python",
   "name": "python3"
  },
  "language_info": {
   "codemirror_mode": {
    "name": "ipython",
    "version": 3
   },
   "file_extension": ".py",
   "mimetype": "text/x-python",
   "name": "python",
   "nbconvert_exporter": "python",
   "pygments_lexer": "ipython3",
   "version": "3.11.11"
  },
  "toc": {
   "nav_menu": {},
   "number_sections": true,
   "sideBar": true,
   "skip_h1_title": false,
   "title_cell": "Table of Contents",
   "title_sidebar": "Contents",
   "toc_cell": true,
   "toc_position": {
    "height": "calc(100% - 180px)",
    "left": "10px",
    "top": "150px",
    "width": "371px"
   },
   "toc_section_display": true,
   "toc_window_display": true
  }
 },
 "nbformat": 4,
 "nbformat_minor": 4
}
