{
 "cells": [
  {
   "cell_type": "markdown",
   "metadata": {},
   "source": [
    "*Accompanying code examples of the book \"Introduction to Artificial Neural Networks and Deep Learning: A Practical Guide with Applications in Python\" by [Sebastian Raschka](https://sebastianraschka.com). All code examples are released under the [MIT license](https://github.com/rasbt/deep-learning-book/blob/master/LICENSE). If you find this content useful, please consider supporting the work by buying a [copy of the book](https://leanpub.com/ann-and-deeplearning).*\n",
    "  \n",
    "Other code examples and content are available on [GitHub](https://github.com/rasbt/deep-learning-book). The PDF and ebook versions of the book are available through [Leanpub](https://leanpub.com/ann-and-deeplearning)."
   ]
  },
  {
   "cell_type": "code",
   "execution_count": 1,
   "metadata": {},
   "outputs": [
    {
     "name": "stdout",
     "output_type": "stream",
     "text": [
      "Author: Sebastian Raschka\n",
      "\n",
      "Python implementation: CPython\n",
      "Python version       : 3.11.11\n",
      "IPython version      : 9.0.2\n",
      "\n",
      "torch: 2.6.0+cu126\n",
      "\n"
     ]
    }
   ],
   "source": [
    "%load_ext watermark\n",
    "%watermark -a 'Sebastian Raschka' -v -p torch"
   ]
  },
  {
   "cell_type": "markdown",
   "metadata": {},
   "source": [
    "- Runs on CPU or GPU (if available)"
   ]
  },
  {
   "cell_type": "markdown",
   "metadata": {},
   "source": [
    "# Model Zoo -- Convolutional Neural Network"
   ]
  },
  {
   "cell_type": "markdown",
   "metadata": {},
   "source": [
    "## Imports"
   ]
  },
  {
   "cell_type": "code",
   "execution_count": 2,
   "metadata": {},
   "outputs": [],
   "source": [
    "import time\n",
    "import numpy as np\n",
    "import torch\n",
    "import torch.nn.functional as F\n",
    "from torchvision import datasets\n",
    "from torchvision import transforms\n",
    "from torch.utils.data import DataLoader\n",
    "\n",
    "\n",
    "if torch.cuda.is_available():\n",
    "    torch.backends.cudnn.deterministic = True"
   ]
  },
  {
   "cell_type": "markdown",
   "metadata": {},
   "source": [
    "## Settings and Dataset"
   ]
  },
  {
   "cell_type": "code",
   "execution_count": 3,
   "metadata": {},
   "outputs": [
    {
     "name": "stdout",
     "output_type": "stream",
     "text": [
      "图像批次的尺寸: torch.Size([128, 1, 28, 28])\n",
      "标签批次的尺寸: torch.Size([128])\n"
     ]
    }
   ],
   "source": [
    "##########################\n",
    "### 设置部分\n",
    "##########################\n",
    "\n",
    "# 设备选择：如果有可用的GPU（CUDA），则使用GPU，否则使用CPU\n",
    "device = torch.device(\"cuda:0\" if torch.cuda.is_available() else \"cpu\")\n",
    "\n",
    "# 超参数设置\n",
    "random_seed = 1          # 随机种子，确保实验可复现\n",
    "learning_rate = 0.05     # 学习率\n",
    "num_epochs = 10          # 训练轮数\n",
    "batch_size = 128         # 每批训练样本数量\n",
    "\n",
    "# 网络结构相关\n",
    "num_classes = 10         # 分类数量（MNIST是0-9共10类）\n",
    "\n",
    "\n",
    "##########################\n",
    "### MNIST 数据集加载\n",
    "##########################\n",
    "\n",
    "# 注意：transforms.ToTensor() 会将图像数据归一化到0-1范围\n",
    "train_dataset = datasets.MNIST(root='data',           # 数据存储路径\n",
    "                               train=True,            # 加载训练集\n",
    "                               transform=transforms.ToTensor(),  # 数据预处理：转为Tensor并归一化\n",
    "                               download=True)         # 如果数据不存在则下载\n",
    "\n",
    "test_dataset = datasets.MNIST(root='data',            # 数据存储路径\n",
    "                              train=False,            # 加载测试集\n",
    "                              transform=transforms.ToTensor())   # 数据预处理\n",
    "\n",
    "# 构建训练集数据加载器\n",
    "train_loader = DataLoader(dataset=train_dataset, \n",
    "                          batch_size=batch_size,      # 每批样本数量\n",
    "                          shuffle=True)              # 每个epoch打乱数据顺序\n",
    "\n",
    "# 构建测试集数据加载器\n",
    "test_loader = DataLoader(dataset=test_dataset, \n",
    "                         batch_size=batch_size, \n",
    "                         shuffle=False)              # 测试时不需要打乱顺序\n",
    "\n",
    "# 检查加载的数据形状（调试用）\n",
    "for images, labels in train_loader:  \n",
    "    print('图像批次的尺寸:', images.shape)        # 输出图像批次的尺寸：[batch_size, 1, 28, 28]\n",
    "    print('标签批次的尺寸:', labels.shape)        # 输出标签批次的尺寸：[batch_size]\n",
    "    break  # 只检查第一批数据\n"
   ]
  },
  {
   "cell_type": "markdown",
   "metadata": {},
   "source": [
    "## Model"
   ]
  },
  {
   "cell_type": "code",
   "execution_count": 5,
   "metadata": {},
   "outputs": [],
   "source": [
    "##########################\n",
    "### MODEL\n",
    "##########################\n",
    "\n",
    "class ConvNet(torch.nn.Module):\n",
    "\n",
    "    def __init__(self, num_classes):\n",
    "        super(ConvNet, self).__init__()\n",
    "        \n",
    "        # 计算 same padding（相同输出尺寸时所需的填充量）：\n",
    "        # (w - k + 2*p)/s + 1 = o\n",
    "        # => p = (s(o-1) - w + k)/2\n",
    "        \n",
    "        # 输入：28x28x1 => 经过 conv_1 后输出为 28x28x4\n",
    "        self.conv_1 = torch.nn.Conv2d(in_channels=1,          # 输入通道数为1（灰度图）\n",
    "                                      out_channels=4,          # 输出通道数为4（提取4种特征）\n",
    "                                      kernel_size=(3, 3),      # 卷积核大小为 3x3\n",
    "                                      stride=(1, 1),           # 步长为1\n",
    "                                      padding=1)               # 填充为1，使得输出尺寸不变\n",
    "                                      # 计算：p = (1*(28-1) - 28 + 3)/2 = 1\n",
    "        \n",
    "        # 28x28x4 => 经过 pool_1 后输出为 14x14x4\n",
    "        self.pool_1 = torch.nn.MaxPool2d(kernel_size=(2, 2),   # 池化窗口为 2x2\n",
    "                                         stride=(2, 2),         # 步长为2，尺寸减半\n",
    "                                         padding=0)             # 无填充\n",
    "                                         # 计算：p = (2*(14-1) - 28 + 2) = 0                                       \n",
    "        \n",
    "        # 14x14x4 => 经过 conv_2 后输出为 14x14x8\n",
    "        self.conv_2 = torch.nn.Conv2d(in_channels=4,           # 输入通道数为4\n",
    "                                      out_channels=8,          # 输出通道数为8\n",
    "                                      kernel_size=(3, 3),      # 卷积核大小为 3x3\n",
    "                                      stride=(1, 1),           # 步长为1\n",
    "                                      padding=1)               # 填充为1，保持尺寸不变\n",
    "                                      # 计算：p = (1*(14-1) - 14 + 3)/2 = 1                 \n",
    "        \n",
    "        # 14x14x8 => 经过 pool_2 后输出为 7x7x8                             \n",
    "        self.pool_2 = torch.nn.MaxPool2d(kernel_size=(2, 2),   # 池化窗口为 2x2\n",
    "                                         stride=(2, 2),         # 步长为2\n",
    "                                         padding=0)             # 无填充\n",
    "                                         # 计算：p = (2*(7-1) - 14 + 2) = 0\n",
    "        \n",
    "        # 全连接层，将 7x7x8 展平成一个向量，输出类别数个神经元\n",
    "        self.linear_1 = torch.nn.Linear(7*7*8, num_classes)\n",
    "\n",
    "        \n",
    "    def forward(self, x):\n",
    "        # 前向传播逻辑\n",
    "        out = self.conv_1(x)\n",
    "        out = F.relu(out)              # 激活函数ReLU\n",
    "        out = self.pool_1(out)         # 第一次最大池化\n",
    "\n",
    "        out = self.conv_2(out)\n",
    "        out = F.relu(out)              # 第二次卷积后的ReLU激活\n",
    "        out = self.pool_2(out)         # 第二次最大池化\n",
    "        \n",
    "        # 将输出展平为(batch_size, 7*7*8)的张量，输入全连接层\n",
    "        logits = self.linear_1(out.view(-1, 7*7*8))  \n",
    "        probas = F.softmax(logits, dim=1)  # 使用softmax计算每个类别的概率分布\n",
    "        return logits, probas\n",
    "\n",
    "# 设置随机种子，确保实验可复现\n",
    "torch.manual_seed(random_seed)\n",
    "\n",
    "# 实例化模型\n",
    "model = ConvNet(num_classes=num_classes)\n",
    "\n",
    "# 将模型移动到指定设备（CPU或GPU）\n",
    "model = model.to(device)\n",
    "\n",
    "# 使用SGD优化器，并设定学习率\n",
    "optimizer = torch.optim.SGD(model.parameters(), lr=learning_rate)\n"
   ]
  },
  {
   "cell_type": "markdown",
   "metadata": {},
   "source": [
    "## Training"
   ]
  },
  {
   "cell_type": "code",
   "execution_count": 6,
   "metadata": {},
   "outputs": [
    {
     "name": "stdout",
     "output_type": "stream",
     "text": [
      "Epoch: 001/010 | Batch 000/469 | Cost: 2.3087\n",
      "Epoch: 001/010 | Batch 050/469 | Cost: 2.2788\n",
      "Epoch: 001/010 | Batch 100/469 | Cost: 1.4371\n",
      "Epoch: 001/010 | Batch 150/469 | Cost: 0.4326\n",
      "Epoch: 001/010 | Batch 200/469 | Cost: 0.4182\n",
      "Epoch: 001/010 | Batch 250/469 | Cost: 0.2271\n",
      "Epoch: 001/010 | Batch 300/469 | Cost: 0.2526\n",
      "Epoch: 001/010 | Batch 350/469 | Cost: 0.3004\n",
      "Epoch: 001/010 | Batch 400/469 | Cost: 0.2788\n",
      "Epoch: 001/010 | Batch 450/469 | Cost: 0.2298\n",
      "Epoch: 001/010 training accuracy: 90.90%\n",
      "Time elapsed: 0.06 min\n",
      "Epoch: 002/010 | Batch 000/469 | Cost: 0.4991\n",
      "Epoch: 002/010 | Batch 050/469 | Cost: 0.1725\n",
      "Epoch: 002/010 | Batch 100/469 | Cost: 0.2281\n",
      "Epoch: 002/010 | Batch 150/469 | Cost: 0.1696\n",
      "Epoch: 002/010 | Batch 200/469 | Cost: 0.3248\n",
      "Epoch: 002/010 | Batch 250/469 | Cost: 0.2216\n",
      "Epoch: 002/010 | Batch 300/469 | Cost: 0.1407\n",
      "Epoch: 002/010 | Batch 350/469 | Cost: 0.2157\n",
      "Epoch: 002/010 | Batch 400/469 | Cost: 0.1855\n",
      "Epoch: 002/010 | Batch 450/469 | Cost: 0.1759\n",
      "Epoch: 002/010 training accuracy: 94.82%\n",
      "Time elapsed: 0.11 min\n",
      "Epoch: 003/010 | Batch 000/469 | Cost: 0.2327\n",
      "Epoch: 003/010 | Batch 050/469 | Cost: 0.2323\n",
      "Epoch: 003/010 | Batch 100/469 | Cost: 0.1766\n",
      "Epoch: 003/010 | Batch 150/469 | Cost: 0.3151\n",
      "Epoch: 003/010 | Batch 200/469 | Cost: 0.1934\n",
      "Epoch: 003/010 | Batch 250/469 | Cost: 0.0962\n",
      "Epoch: 003/010 | Batch 300/469 | Cost: 0.1627\n",
      "Epoch: 003/010 | Batch 350/469 | Cost: 0.1066\n",
      "Epoch: 003/010 | Batch 400/469 | Cost: 0.0956\n",
      "Epoch: 003/010 | Batch 450/469 | Cost: 0.1398\n",
      "Epoch: 003/010 training accuracy: 95.87%\n",
      "Time elapsed: 0.16 min\n",
      "Epoch: 004/010 | Batch 000/469 | Cost: 0.0786\n",
      "Epoch: 004/010 | Batch 050/469 | Cost: 0.1273\n",
      "Epoch: 004/010 | Batch 100/469 | Cost: 0.1632\n",
      "Epoch: 004/010 | Batch 150/469 | Cost: 0.1193\n",
      "Epoch: 004/010 | Batch 200/469 | Cost: 0.0751\n",
      "Epoch: 004/010 | Batch 250/469 | Cost: 0.1286\n",
      "Epoch: 004/010 | Batch 300/469 | Cost: 0.1197\n",
      "Epoch: 004/010 | Batch 350/469 | Cost: 0.1252\n",
      "Epoch: 004/010 | Batch 400/469 | Cost: 0.0704\n",
      "Epoch: 004/010 | Batch 450/469 | Cost: 0.1095\n",
      "Epoch: 004/010 training accuracy: 96.15%\n",
      "Time elapsed: 0.21 min\n",
      "Epoch: 005/010 | Batch 000/469 | Cost: 0.1072\n",
      "Epoch: 005/010 | Batch 050/469 | Cost: 0.1128\n",
      "Epoch: 005/010 | Batch 100/469 | Cost: 0.0779\n",
      "Epoch: 005/010 | Batch 150/469 | Cost: 0.1255\n",
      "Epoch: 005/010 | Batch 200/469 | Cost: 0.0445\n",
      "Epoch: 005/010 | Batch 250/469 | Cost: 0.0523\n",
      "Epoch: 005/010 | Batch 300/469 | Cost: 0.0519\n",
      "Epoch: 005/010 | Batch 350/469 | Cost: 0.0969\n",
      "Epoch: 005/010 | Batch 400/469 | Cost: 0.0907\n",
      "Epoch: 005/010 | Batch 450/469 | Cost: 0.1033\n",
      "Epoch: 005/010 training accuracy: 97.11%\n",
      "Time elapsed: 0.26 min\n",
      "Epoch: 006/010 | Batch 000/469 | Cost: 0.0847\n",
      "Epoch: 006/010 | Batch 050/469 | Cost: 0.1127\n",
      "Epoch: 006/010 | Batch 100/469 | Cost: 0.1899\n",
      "Epoch: 006/010 | Batch 150/469 | Cost: 0.0844\n",
      "Epoch: 006/010 | Batch 200/469 | Cost: 0.0763\n",
      "Epoch: 006/010 | Batch 250/469 | Cost: 0.1288\n",
      "Epoch: 006/010 | Batch 300/469 | Cost: 0.1576\n",
      "Epoch: 006/010 | Batch 350/469 | Cost: 0.0943\n",
      "Epoch: 006/010 | Batch 400/469 | Cost: 0.0698\n",
      "Epoch: 006/010 | Batch 450/469 | Cost: 0.0404\n",
      "Epoch: 006/010 training accuracy: 97.37%\n",
      "Time elapsed: 0.31 min\n",
      "Epoch: 007/010 | Batch 000/469 | Cost: 0.1236\n",
      "Epoch: 007/010 | Batch 050/469 | Cost: 0.0601\n",
      "Epoch: 007/010 | Batch 100/469 | Cost: 0.0680\n",
      "Epoch: 007/010 | Batch 150/469 | Cost: 0.0553\n",
      "Epoch: 007/010 | Batch 200/469 | Cost: 0.0341\n",
      "Epoch: 007/010 | Batch 250/469 | Cost: 0.1771\n",
      "Epoch: 007/010 | Batch 300/469 | Cost: 0.1124\n",
      "Epoch: 007/010 | Batch 350/469 | Cost: 0.1654\n",
      "Epoch: 007/010 | Batch 400/469 | Cost: 0.0999\n",
      "Epoch: 007/010 | Batch 450/469 | Cost: 0.1050\n",
      "Epoch: 007/010 training accuracy: 97.67%\n",
      "Time elapsed: 0.37 min\n",
      "Epoch: 008/010 | Batch 000/469 | Cost: 0.0651\n",
      "Epoch: 008/010 | Batch 050/469 | Cost: 0.0625\n",
      "Epoch: 008/010 | Batch 100/469 | Cost: 0.0481\n",
      "Epoch: 008/010 | Batch 150/469 | Cost: 0.0788\n",
      "Epoch: 008/010 | Batch 200/469 | Cost: 0.0815\n",
      "Epoch: 008/010 | Batch 250/469 | Cost: 0.0524\n",
      "Epoch: 008/010 | Batch 300/469 | Cost: 0.0258\n",
      "Epoch: 008/010 | Batch 350/469 | Cost: 0.1538\n",
      "Epoch: 008/010 | Batch 400/469 | Cost: 0.0783\n",
      "Epoch: 008/010 | Batch 450/469 | Cost: 0.0888\n",
      "Epoch: 008/010 training accuracy: 97.71%\n",
      "Time elapsed: 0.43 min\n",
      "Epoch: 009/010 | Batch 000/469 | Cost: 0.1641\n",
      "Epoch: 009/010 | Batch 050/469 | Cost: 0.1056\n",
      "Epoch: 009/010 | Batch 100/469 | Cost: 0.0446\n",
      "Epoch: 009/010 | Batch 150/469 | Cost: 0.0575\n",
      "Epoch: 009/010 | Batch 200/469 | Cost: 0.1306\n",
      "Epoch: 009/010 | Batch 250/469 | Cost: 0.0447\n",
      "Epoch: 009/010 | Batch 300/469 | Cost: 0.0736\n",
      "Epoch: 009/010 | Batch 350/469 | Cost: 0.1414\n",
      "Epoch: 009/010 | Batch 400/469 | Cost: 0.0406\n",
      "Epoch: 009/010 | Batch 450/469 | Cost: 0.0547\n",
      "Epoch: 009/010 training accuracy: 97.74%\n",
      "Time elapsed: 0.49 min\n",
      "Epoch: 010/010 | Batch 000/469 | Cost: 0.1360\n",
      "Epoch: 010/010 | Batch 050/469 | Cost: 0.0204\n",
      "Epoch: 010/010 | Batch 100/469 | Cost: 0.0373\n",
      "Epoch: 010/010 | Batch 150/469 | Cost: 0.0952\n",
      "Epoch: 010/010 | Batch 200/469 | Cost: 0.0405\n",
      "Epoch: 010/010 | Batch 250/469 | Cost: 0.0663\n",
      "Epoch: 010/010 | Batch 300/469 | Cost: 0.0681\n",
      "Epoch: 010/010 | Batch 350/469 | Cost: 0.0583\n",
      "Epoch: 010/010 | Batch 400/469 | Cost: 0.0473\n",
      "Epoch: 010/010 | Batch 450/469 | Cost: 0.0728\n",
      "Epoch: 010/010 training accuracy: 97.87%\n",
      "Time elapsed: 0.56 min\n",
      "Total Training Time: 0.56 min\n"
     ]
    }
   ],
   "source": [
    "# 计算模型在数据集上的准确率\n",
    "def compute_accuracy(model, data_loader):\n",
    "    correct_pred, num_examples = 0, 0\n",
    "    for features, targets in data_loader:\n",
    "        features = features.to(device)  # 将特征数据移动到GPU或CPU\n",
    "        targets = targets.to(device)    # 将标签移动到GPU或CPU\n",
    "        logits, probas = model(features)  # 前向传播，得到输出logits和softmax后的概率\n",
    "        _, predicted_labels = torch.max(probas, 1)  # 获取最大概率对应的预测类别\n",
    "        num_examples += targets.size(0)             # 统计总样本数\n",
    "        correct_pred += (predicted_labels == targets).sum()  # 统计预测正确的样本数\n",
    "    return correct_pred.float()/num_examples * 100  # 返回百分比准确率\n",
    "\n",
    "\n",
    "start_time = time.time()  # 记录训练开始时间    \n",
    "\n",
    "# 训练多个epoch\n",
    "for epoch in range(num_epochs):\n",
    "    model = model.train()  # 设置为训练模式（启用dropout、BN等）\n",
    "\n",
    "    # 遍历训练数据的每一个batch\n",
    "    for batch_idx, (features, targets) in enumerate(train_loader):\n",
    "        \n",
    "        features = features.to(device)  # 将输入特征转移到GPU或CPU\n",
    "        targets = targets.to(device)    # 将目标标签转移到GPU或CPU\n",
    "\n",
    "        ### 正向传播和反向传播\n",
    "        logits, probas = model(features)              # 正向传播\n",
    "        cost = F.cross_entropy(logits, targets)       # 计算交叉熵损失\n",
    "        optimizer.zero_grad()                         # 清空上一次的梯度（避免累加）\n",
    "        \n",
    "        cost.backward()                               # 反向传播，计算梯度\n",
    "        \n",
    "        ### 更新模型参数\n",
    "        optimizer.step()                              # 使用优化器更新参数\n",
    "        \n",
    "        ### 训练过程日志打印\n",
    "        if not batch_idx % 50:  # 每隔50个batch打印一次信息\n",
    "            print ('Epoch: %03d/%03d | Batch %03d/%03d | Cost: %.4f' \n",
    "                   % (epoch+1, num_epochs, batch_idx, \n",
    "                      len(train_loader), cost))\n",
    "    \n",
    "    # 每个epoch结束后进行模型评估\n",
    "    model = model.eval()  # 设置为评估模式（禁用dropout等）\n",
    "    print('Epoch: %03d/%03d training accuracy: %.2f%%' % (\n",
    "          epoch+1, num_epochs, \n",
    "          compute_accuracy(model, train_loader)))  # 评估在训练集上的准确率\n",
    "\n",
    "    # 打印已用时间\n",
    "    print('Time elapsed: %.2f min' % ((time.time() - start_time)/60))\n",
    "    \n",
    "# 打印总训练时间\n",
    "print('Total Training Time: %.2f min' % ((time.time() - start_time)/60))\n"
   ]
  },
  {
   "cell_type": "markdown",
   "metadata": {},
   "source": [
    "## Evaluation"
   ]
  },
  {
   "cell_type": "code",
   "execution_count": 7,
   "metadata": {},
   "outputs": [
    {
     "name": "stdout",
     "output_type": "stream",
     "text": [
      "测试集准确率: 97.85%\n"
     ]
    }
   ],
   "source": [
    "# 使用 torch.set_grad_enabled(False) 可以在推理阶段关闭梯度计算，从而节省内存\n",
    "with torch.set_grad_enabled(False):  # 推理阶段关闭梯度计算，节省内存\n",
    "    print('测试集准确率: %.2f%%' % (compute_accuracy(model, test_loader)))  # 输出模型在测试集上的准确率"
   ]
  },
  {
   "cell_type": "code",
   "execution_count": 8,
   "metadata": {},
   "outputs": [
    {
     "name": "stdout",
     "output_type": "stream",
     "text": [
      "numpy      : 1.26.4\n",
      "torch      : 2.6.0+cu126\n",
      "torchvision: 0.21.0+cu126\n",
      "\n"
     ]
    }
   ],
   "source": [
    "%watermark -iv"
   ]
  }
 ],
 "metadata": {
  "kernelspec": {
   "display_name": "Python (pytorch_env)",
   "language": "python",
   "name": "pytorch_env"
  },
  "language_info": {
   "codemirror_mode": {
    "name": "ipython",
    "version": 3
   },
   "file_extension": ".py",
   "mimetype": "text/x-python",
   "name": "python",
   "nbconvert_exporter": "python",
   "pygments_lexer": "ipython3",
   "version": "3.11.11"
  },
  "toc": {
   "nav_menu": {},
   "number_sections": true,
   "sideBar": true,
   "skip_h1_title": false,
   "title_cell": "Table of Contents",
   "title_sidebar": "Contents",
   "toc_cell": false,
   "toc_position": {},
   "toc_section_display": true,
   "toc_window_display": false
  }
 },
 "nbformat": 4,
 "nbformat_minor": 4
}
