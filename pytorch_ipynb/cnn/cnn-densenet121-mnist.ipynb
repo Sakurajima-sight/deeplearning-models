{
 "cells": [
  {
   "cell_type": "markdown",
   "metadata": {
    "colab_type": "text",
    "id": "UEBilEjLj5wY"
   },
   "source": [
    "Deep Learning Models -- A collection of various deep learning architectures, models, and tips for TensorFlow and PyTorch in Jupyter Notebooks.\n",
    "- Author: Sebastian Raschka\n",
    "- GitHub Repository: https://github.com/rasbt/deeplearning-models"
   ]
  },
  {
   "cell_type": "code",
   "execution_count": 1,
   "metadata": {
    "colab": {
     "autoexec": {
      "startup": false,
      "wait_interval": 0
     },
     "base_uri": "https://localhost:8080/",
     "height": 119
    },
    "colab_type": "code",
    "executionInfo": {
     "elapsed": 536,
     "status": "ok",
     "timestamp": 1524974472601,
     "user": {
      "displayName": "Sebastian Raschka",
      "photoUrl": "//lh6.googleusercontent.com/-cxK6yOSQ6uE/AAAAAAAAAAI/AAAAAAAAIfw/P9ar_CHsKOQ/s50-c-k-no/photo.jpg",
      "userId": "118404394130788869227"
     },
     "user_tz": 240
    },
    "id": "GOzuY8Yvj5wb",
    "outputId": "c19362ce-f87a-4cc2-84cc-8d7b4b9e6007"
   },
   "outputs": [
    {
     "name": "stdout",
     "output_type": "stream",
     "text": [
      "Author: Sebastian Raschka\n",
      "\n",
      "Python implementation: CPython\n",
      "Python version       : 3.11.11\n",
      "IPython version      : 9.0.2\n",
      "\n",
      "torch: 2.6.0+cu126\n",
      "\n"
     ]
    }
   ],
   "source": [
    "%load_ext watermark\n",
    "%watermark -a 'Sebastian Raschka' -v -p torch"
   ]
  },
  {
   "cell_type": "markdown",
   "metadata": {
    "colab_type": "text",
    "id": "rH4XmErYj5wm"
   },
   "source": [
    "# DenseNet-121 MNIST Digits Classifier"
   ]
  },
  {
   "cell_type": "markdown",
   "metadata": {},
   "source": [
    "### Network Architecture"
   ]
  },
  {
   "cell_type": "markdown",
   "metadata": {},
   "source": [
    "The network in this notebook is an implementation of the DenseNet-121 [1] architecture on the MNIST digits dataset (http://yann.lecun.com/exdb/mnist/) to train a handwritten digit classifier.  \n",
    "本笔记本中的网络是基于MNIST数字数据集（http://yann.lecun.com/exdb/mnist/）实现的DenseNet-121 [1]架构，用于训练手写数字分类器。\n",
    "\n",
    "The following figure illustrates the main concept of DenseNet: within each \"dense\" block, each layer is connected with each previous layer -- the feature maps are concatenated.  \n",
    "下图展示了DenseNet的主要概念：在每个“密集”块中，每一层与之前的每一层相连接——特征图被连接在一起。\n",
    "\n",
    "![](../images/densenet/densenet-fig-2.jpg)  \n",
    "\n",
    "Note that this is somewhat related yet very different to ResNets. ResNets have skip connections approx. between every other layer (but don't connect all layers with each other).  \n",
    "请注意，这与ResNets有些关系，但也有很大不同。ResNets大约在每隔一层之间有跳跃连接（但并不连接所有层）。\n",
    "\n",
    "Also, ResNets skip connections work via addition  \n",
    "此外，ResNets的跳跃连接通过加法实现\n",
    "\n",
    "$$\\mathbf{x}_{\\ell}=H_{\\ell}\\left(\\mathbf{X}_{\\ell-1}\\right)+\\mathbf{X}_{\\ell-1}$$,  \n",
    "\n",
    "whereas $H_{\\ell}(\\cdot)$ can be a composite function of operations such as Batch Normalization (BN), rectified linear units (ReLU), Pooling, or Convolution (Conv).  \n",
    "而$H_{\\ell}(\\cdot)$可以是由批量归一化（BN）、修正线性单元（ReLU）、池化或卷积（Conv）等操作组成的复合函数。\n",
    "\n",
    "In DenseNets, all the previous feature maps $\\mathbf{X}_{0}, \\dots, \\mathbf{X}_{\\ell}-1$ of a feature map $\\mathbf{X}_{\\ell}$ are concatenated:  \n",
    "在DenseNets中，所有之前的特征图$\\mathbf{X}_{0}, \\dots, \\mathbf{X}_{\\ell}-1$与特征图$\\mathbf{X}_{\\ell}$连接在一起：\n",
    "\n",
    "$$\\mathbf{x}_{\\ell}=H_{\\ell}\\left(\\left[\\mathbf{x}_{0}, \\mathbf{x}_{1}, \\ldots, \\mathbf{x}_{\\ell-1}\\right]\\right).$$  \n",
    "\n",
    "Furthermore, in this particular notebook, we are considering the DenseNet-121, which is depicted below:  \n",
    "此外，在本笔记本中，我们考虑使用DenseNet-121，如下图所示：\n",
    "\n",
    "![](../images/densenet/densenet-tab-1-dnet121.jpg)  \n",
    "\n",
    "**References**  \n",
    "**参考文献**\n",
    "\n",
    "- [1] Huang, G., Liu, Z., Van Der Maaten, L., & Weinberger, K. Q. (2017). Densely connected convolutional networks. In Proceedings of the IEEE conference on computer vision and pattern recognition (pp. 4700-4708), http://openaccess.thecvf.com/content_cvpr_2017/html/Huang_Densely_Connected_Convolutional_CVPR_2017_paper.html  \n",
    "- [1] Huang, G., Liu, Z., Van Der Maaten, L., & Weinberger, K. Q. (2017). 《密集连接卷积网络》. 载于IEEE计算机视觉与模式识别会议论文集（第4700-4708页），http://openaccess.thecvf.com/content_cvpr_2017/html/Huang_Densely_Connected_Convolutional_CVPR_2017_paper.html  \n",
    "\n",
    "- [2] http://yann.lecun.com/exdb/mnist/  "
   ]
  },
  {
   "cell_type": "markdown",
   "metadata": {
    "colab_type": "text",
    "id": "MkoGLH_Tj5wn"
   },
   "source": [
    "## Imports"
   ]
  },
  {
   "cell_type": "code",
   "execution_count": 2,
   "metadata": {
    "colab": {
     "autoexec": {
      "startup": false,
      "wait_interval": 0
     }
    },
    "colab_type": "code",
    "id": "ORj09gnrj5wp"
   },
   "outputs": [],
   "source": [
    "import os\n",
    "import time\n",
    "\n",
    "import numpy as np\n",
    "import pandas as pd\n",
    "\n",
    "import torch\n",
    "import torch.nn as nn\n",
    "import torch.nn.functional as F\n",
    "from torch.utils.data import DataLoader\n",
    "from torch.utils.data.dataset import Subset\n",
    "\n",
    "from torchvision import datasets\n",
    "from torchvision import transforms\n",
    "\n",
    "import matplotlib.pyplot as plt\n",
    "from PIL import Image\n",
    "\n",
    "\n",
    "if torch.cuda.is_available():\n",
    "    torch.backends.cudnn.deterministic = True"
   ]
  },
  {
   "cell_type": "code",
   "execution_count": 3,
   "metadata": {},
   "outputs": [],
   "source": [
    "import matplotlib.pyplot as plt\n",
    "%matplotlib inline"
   ]
  },
  {
   "cell_type": "markdown",
   "metadata": {
    "colab_type": "text",
    "id": "I6hghKPxj5w0"
   },
   "source": [
    "## Model Settings"
   ]
  },
  {
   "cell_type": "code",
   "execution_count": 4,
   "metadata": {
    "colab": {
     "autoexec": {
      "startup": false,
      "wait_interval": 0
     },
     "base_uri": "https://localhost:8080/",
     "height": 85
    },
    "colab_type": "code",
    "executionInfo": {
     "elapsed": 23936,
     "status": "ok",
     "timestamp": 1524974497505,
     "user": {
      "displayName": "Sebastian Raschka",
      "photoUrl": "//lh6.googleusercontent.com/-cxK6yOSQ6uE/AAAAAAAAAAI/AAAAAAAAIfw/P9ar_CHsKOQ/s50-c-k-no/photo.jpg",
      "userId": "118404394130788869227"
     },
     "user_tz": 240
    },
    "id": "NnT0sZIwj5wu",
    "outputId": "55aed925-d17e-4c6a-8c71-0d9b3bde5637"
   },
   "outputs": [],
   "source": [
    "##########################\n",
    "### 设置\n",
    "##########################\n",
    "\n",
    "# 超参数\n",
    "RANDOM_SEED = 1\n",
    "LEARNING_RATE = 0.0001\n",
    "BATCH_SIZE = 128\n",
    "NUM_EPOCHS = 10\n",
    "\n",
    "# 网络结构\n",
    "NUM_CLASSES = 10\n",
    "\n",
    "# 其他\n",
    "DEVICE = \"cuda:0\"\n",
    "GRAYSCALE = True"
   ]
  },
  {
   "cell_type": "markdown",
   "metadata": {},
   "source": [
    "### MNIST Dataset"
   ]
  },
  {
   "cell_type": "code",
   "execution_count": 5,
   "metadata": {},
   "outputs": [],
   "source": [
    "train_indices = torch.arange(0, 59000)\n",
    "valid_indices = torch.arange(59000, 60000)\n",
    "\n",
    "resize_transform = transforms.Compose([transforms.Resize((32, 32)),\n",
    "                                       transforms.ToTensor()])\n",
    "\n",
    "\n",
    "train_and_valid = datasets.MNIST(root='data', \n",
    "                                 train=True, \n",
    "                                 transform=resize_transform,\n",
    "                                 download=True)\n",
    "\n",
    "test_dataset = datasets.MNIST(root='data', \n",
    "                              train=False, \n",
    "                              transform=resize_transform,\n",
    "                              download=True)\n",
    "\n",
    "train_dataset = Subset(train_and_valid, train_indices)\n",
    "valid_dataset = Subset(train_and_valid, valid_indices)\n",
    "\n",
    "train_loader = DataLoader(dataset=train_dataset, \n",
    "                          batch_size=BATCH_SIZE,\n",
    "                          num_workers=4,\n",
    "                          shuffle=True)\n",
    "\n",
    "valid_loader = DataLoader(dataset=valid_dataset, \n",
    "                          batch_size=BATCH_SIZE,\n",
    "                          num_workers=4,\n",
    "                          shuffle=False)\n",
    "\n",
    "test_loader = DataLoader(dataset=test_dataset, \n",
    "                         batch_size=BATCH_SIZE,\n",
    "                         num_workers=4,\n",
    "                         shuffle=False)"
   ]
  },
  {
   "cell_type": "code",
   "execution_count": 6,
   "metadata": {},
   "outputs": [
    {
     "name": "stdout",
     "output_type": "stream",
     "text": [
      "Epoch: 1 | Batch index: 0 | Batch size: 128\n",
      "Epoch: 2 | Batch index: 0 | Batch size: 128\n"
     ]
    }
   ],
   "source": [
    "device = torch.device(DEVICE)\n",
    "torch.manual_seed(0)\n",
    "\n",
    "for epoch in range(2):\n",
    "\n",
    "    for batch_idx, (x, y) in enumerate(train_loader):\n",
    "        \n",
    "        print('Epoch:', epoch+1, end='')\n",
    "        print(' | Batch index:', batch_idx, end='')\n",
    "        print(' | Batch size:', y.size()[0])\n",
    "        \n",
    "        x = x.to(device)\n",
    "        y = y.to(device)\n",
    "        break"
   ]
  },
  {
   "cell_type": "code",
   "execution_count": 7,
   "metadata": {},
   "outputs": [
    {
     "name": "stdout",
     "output_type": "stream",
     "text": [
      "tensor([3, 0, 1, 7, 9, 8, 4, 4, 0, 5])\n",
      "tensor([9, 9, 9, 3, 8, 1, 5, 1, 6, 7])\n"
     ]
    }
   ],
   "source": [
    "# 检查数据洗牌是否正常工作\n",
    "# 即标签的索引应该是随机顺序的。\n",
    "# 此外，第二个epoch中的标签顺序应该与第一个不同。\n",
    "\n",
    "for images, labels in train_loader:  \n",
    "    pass\n",
    "print(labels[:10])  # 输出第一次训练时前10个标签\n",
    "\n",
    "for images, labels in train_loader:  \n",
    "    pass\n",
    "print(labels[:10])  # 输出第二次训练时前10个标签"
   ]
  },
  {
   "cell_type": "code",
   "execution_count": 8,
   "metadata": {},
   "outputs": [
    {
     "name": "stdout",
     "output_type": "stream",
     "text": [
      "tensor([2, 2, 0, 9, 4, 0, 1, 2, 3, 4])\n",
      "tensor([1, 2, 3, 4, 5, 6, 7, 8, 9, 0])\n"
     ]
    }
   ],
   "source": [
    "# 检查验证集和测试集是否具有多样性\n",
    "# 即，它们应该包含所有类别\n",
    "\n",
    "for images, labels in valid_loader:  \n",
    "    pass\n",
    "print(labels[:10])  # 输出验证集中的前10个标签\n",
    "\n",
    "for images, labels in test_loader:  \n",
    "    pass\n",
    "print(labels[:10])  # 输出测试集中的前10个标签"
   ]
  },
  {
   "cell_type": "code",
   "execution_count": 9,
   "metadata": {},
   "outputs": [],
   "source": [
    "##########################\n",
    "### 模型\n",
    "##########################\n",
    "\n",
    "# 以下代码实现了DenseNet-121架构\n",
    "# 该代码是基于来自https://github.com/pytorch/vision/blob/master/torchvision/models/densenet.py的代码\n",
    "\n",
    "import re\n",
    "import torch\n",
    "import torch.nn as nn\n",
    "import torch.nn.functional as F\n",
    "import torch.utils.checkpoint as cp\n",
    "from collections import OrderedDict\n",
    "\n",
    "\n",
    "def _bn_function_factory(norm, relu, conv):\n",
    "    def bn_function(*inputs):\n",
    "        concated_features = torch.cat(inputs, 1)  # 拼接输入特征\n",
    "        bottleneck_output = conv(relu(norm(concated_features)))  # 通过卷积层和激活函数处理拼接的特征\n",
    "        return bottleneck_output\n",
    "\n",
    "    return bn_function\n",
    "\n",
    "\n",
    "class _DenseLayer(nn.Sequential):\n",
    "    def __init__(self, num_input_features, growth_rate, bn_size, drop_rate, memory_efficient=False):\n",
    "        super(_DenseLayer, self).__init__()\n",
    "        self.add_module('norm1', nn.BatchNorm2d(num_input_features)),  # 第一层批归一化\n",
    "        self.add_module('relu1', nn.ReLU(inplace=True))  # 第一层ReLU激活函数\n",
    "        self.add_module('conv1', nn.Conv2d(num_input_features, bn_size *\n",
    "                                           growth_rate, kernel_size=1, stride=1,\n",
    "                                           bias=False))  # 第一层卷积\n",
    "        self.add_module('norm2', nn.BatchNorm2d(bn_size * growth_rate))  # 第二层批归一化\n",
    "        self.add_module('relu2', nn.ReLU(inplace=True))  # 第二层ReLU激活函数\n",
    "        self.add_module('conv2', nn.Conv2d(bn_size * growth_rate, growth_rate,\n",
    "                                           kernel_size=3, stride=1, padding=1,\n",
    "                                           bias=False))  # 第二层卷积\n",
    "        self.drop_rate = drop_rate  # Dropout概率\n",
    "        self.memory_efficient = memory_efficient  # 是否使用内存高效的方式\n",
    "\n",
    "    def forward(self, *prev_features):\n",
    "        bn_function = _bn_function_factory(self.norm1, self.relu1, self.conv1)  # 获取批归一化和卷积函数\n",
    "        if self.memory_efficient and any(prev_feature.requires_grad for prev_feature in prev_features):\n",
    "            bottleneck_output = cp.checkpoint(bn_function, *prev_features)  # 如果需要梯度，则使用checkpoint\n",
    "        else:\n",
    "            bottleneck_output = bn_function(*prev_features)  # 否则直接通过卷积\n",
    "        new_features = self.conv2(self.relu2(self.norm2(bottleneck_output)))  # 通过第二层卷积得到新的特征\n",
    "        if self.drop_rate > 0:  # 如果dropout率大于0，则应用dropout\n",
    "            new_features = F.dropout(new_features, p=self.drop_rate,\n",
    "                                     training=self.training)\n",
    "        return new_features\n",
    "\n",
    "\n",
    "class _DenseBlock(nn.Module):\n",
    "    def __init__(self, num_layers, num_input_features, bn_size, growth_rate, drop_rate, memory_efficient=False):\n",
    "        super(_DenseBlock, self).__init__()\n",
    "        for i in range(num_layers):\n",
    "            layer = _DenseLayer(\n",
    "                num_input_features + i * growth_rate,\n",
    "                growth_rate=growth_rate,\n",
    "                bn_size=bn_size,\n",
    "                drop_rate=drop_rate,\n",
    "                memory_efficient=memory_efficient,\n",
    "            )\n",
    "            self.add_module('denselayer%d' % (i + 1), layer)  # 添加每一层的DenseLayer\n",
    "\n",
    "    def forward(self, init_features):\n",
    "        features = [init_features]  # 初始化特征\n",
    "        for name, layer in self.named_children():  # 按照顺序通过每一层\n",
    "            new_features = layer(*features)\n",
    "            features.append(new_features)\n",
    "        return torch.cat(features, 1)  # 将所有特征拼接在一起\n",
    "\n",
    "\n",
    "class _Transition(nn.Sequential):\n",
    "    def __init__(self, num_input_features, num_output_features):\n",
    "        super(_Transition, self).__init__()\n",
    "        self.add_module('norm', nn.BatchNorm2d(num_input_features))  # 批归一化层\n",
    "        self.add_module('relu', nn.ReLU(inplace=True))  # ReLU激活层\n",
    "        self.add_module('conv', nn.Conv2d(num_input_features, num_output_features,\n",
    "                                          kernel_size=1, stride=1, bias=False))  # 卷积层\n",
    "        self.add_module('pool', nn.AvgPool2d(kernel_size=2, stride=2))  # 平均池化层\n",
    "\n",
    "\n",
    "class DenseNet121(nn.Module):\n",
    "    r\"\"\"Densenet-BC模型类，基于\n",
    "    `\"Densely Connected Convolutional Networks\" <https://arxiv.org/pdf/1608.06993.pdf>`_\n",
    "\n",
    "    参数:\n",
    "        growth_rate (int) - 每层添加的过滤器数量（论文中的`k`）\n",
    "        block_config (list of 4 ints) - 每个池化块中的层数\n",
    "        num_init_featuremaps (int) - 第一个卷积层的过滤器数量\n",
    "        bn_size (int) - 瓶颈层的大小倍数（即bn_size * k）\n",
    "        drop_rate (float) - 每个dense层后的dropout率\n",
    "        num_classes (int) - 分类类别数\n",
    "        memory_efficient (bool) - 如果为True，使用checkpoint，内存使用更高效但更慢。默认值为*False*。\n",
    "    \"\"\"\n",
    "\n",
    "    def __init__(self, growth_rate=32, block_config=(6, 12, 24, 16),\n",
    "                 num_init_featuremaps=64, bn_size=4, drop_rate=0, num_classes=1000, memory_efficient=False,\n",
    "                 grayscale=False):\n",
    "\n",
    "        super(DenseNet121, self).__init__()\n",
    "\n",
    "        # 第一个卷积层\n",
    "        if grayscale:\n",
    "            in_channels=1  # 如果是灰度图像，输入通道数为1\n",
    "        else:\n",
    "            in_channels=3  # 如果是彩色图像，输入通道数为3\n",
    "        \n",
    "        self.features = nn.Sequential(OrderedDict([\n",
    "            ('conv0', nn.Conv2d(in_channels=in_channels, out_channels=num_init_featuremaps,\n",
    "                                kernel_size=7, stride=2,\n",
    "                                padding=3, bias=False)),  # 第一个卷积层\n",
    "            ('norm0', nn.BatchNorm2d(num_features=num_init_featuremaps)),  # 批归一化\n",
    "            ('relu0', nn.ReLU(inplace=True)),  # ReLU激活函数\n",
    "            ('pool0', nn.MaxPool2d(kernel_size=3, stride=2, padding=1)),  # 最大池化层\n",
    "        ]))\n",
    "\n",
    "        # 每个denseblock\n",
    "        num_features = num_init_featuremaps\n",
    "        for i, num_layers in enumerate(block_config):\n",
    "            block = _DenseBlock(\n",
    "                num_layers=num_layers,\n",
    "                num_input_features=num_features,\n",
    "                bn_size=bn_size,\n",
    "                growth_rate=growth_rate,\n",
    "                drop_rate=drop_rate,\n",
    "                memory_efficient=memory_efficient\n",
    "            )\n",
    "            self.features.add_module('denseblock%d' % (i + 1), block)  # 添加每个denseblock\n",
    "            num_features = num_features + num_layers * growth_rate\n",
    "            if i != len(block_config) - 1:\n",
    "                trans = _Transition(num_input_features=num_features,\n",
    "                                    num_output_features=num_features // 2)  # 添加transition层\n",
    "                self.features.add_module('transition%d' % (i + 1), trans)\n",
    "                num_features = num_features // 2\n",
    "\n",
    "        # 最后的批归一化层\n",
    "        self.features.add_module('norm5', nn.BatchNorm2d(num_features))\n",
    "\n",
    "        # 全连接层\n",
    "        self.classifier = nn.Linear(num_features, num_classes)\n",
    "\n",
    "        # 使用torch官方初始化方法\n",
    "        for m in self.modules():\n",
    "            if isinstance(m, nn.Conv2d):\n",
    "                nn.init.kaiming_normal_(m.weight)  # 初始化卷积层权重\n",
    "            elif isinstance(m, nn.BatchNorm2d):\n",
    "                nn.init.constant_(m.weight, 1)  # 初始化批归一化层权重\n",
    "                nn.init.constant_(m.bias, 0)  # 初始化批归一化层偏置\n",
    "            elif isinstance(m, nn.Linear):\n",
    "                nn.init.constant_(m.bias, 0)  # 初始化全连接层偏置\n",
    "\n",
    "    def forward(self, x):\n",
    "        features = self.features(x)  # 获取特征\n",
    "        out = F.relu(features, inplace=True)  # ReLU激活\n",
    "        out = F.adaptive_avg_pool2d(out, (1, 1))  # 自适应平均池化\n",
    "        out = torch.flatten(out, 1)  # 展平\n",
    "        logits = self.classifier(out)  # 通过全连接层\n",
    "        probas = F.softmax(logits, dim=1)  # 使用Softmax函数输出分类概率\n",
    "        return logits, probas  # 返回logits和分类概率"
   ]
  },
  {
   "cell_type": "code",
   "execution_count": 10,
   "metadata": {
    "colab": {
     "autoexec": {
      "startup": false,
      "wait_interval": 0
     }
    },
    "colab_type": "code",
    "id": "_lza9t_uj5w1"
   },
   "outputs": [],
   "source": [
    "torch.manual_seed(RANDOM_SEED)\n",
    "\n",
    "model = DenseNet121(num_classes=NUM_CLASSES, grayscale=GRAYSCALE)\n",
    "model.to(DEVICE)\n",
    "\n",
    "optimizer = torch.optim.Adam(model.parameters(), lr=LEARNING_RATE)  "
   ]
  },
  {
   "cell_type": "markdown",
   "metadata": {
    "colab_type": "text",
    "id": "RAodboScj5w6"
   },
   "source": [
    "## Training"
   ]
  },
  {
   "cell_type": "code",
   "execution_count": 11,
   "metadata": {},
   "outputs": [],
   "source": [
    "def compute_acc(model, data_loader, device):\n",
    "    correct_pred, num_examples = 0, 0\n",
    "    model.eval()\n",
    "    for i, (features, targets) in enumerate(data_loader):\n",
    "            \n",
    "        features = features.to(device)\n",
    "        targets = targets.to(device)\n",
    "\n",
    "        logits, probas = model(features)\n",
    "        _, predicted_labels = torch.max(probas, 1)\n",
    "        num_examples += targets.size(0)\n",
    "        assert predicted_labels.size() == targets.size()\n",
    "        correct_pred += (predicted_labels == targets).sum()\n",
    "    return correct_pred.float()/num_examples * 100"
   ]
  },
  {
   "cell_type": "code",
   "execution_count": 12,
   "metadata": {
    "colab": {
     "autoexec": {
      "startup": false,
      "wait_interval": 0
     },
     "base_uri": "https://localhost:8080/",
     "height": 1547
    },
    "colab_type": "code",
    "executionInfo": {
     "elapsed": 2384585,
     "status": "ok",
     "timestamp": 1524976888520,
     "user": {
      "displayName": "Sebastian Raschka",
      "photoUrl": "//lh6.googleusercontent.com/-cxK6yOSQ6uE/AAAAAAAAAAI/AAAAAAAAIfw/P9ar_CHsKOQ/s50-c-k-no/photo.jpg",
      "userId": "118404394130788869227"
     },
     "user_tz": 240
    },
    "id": "Dzh3ROmRj5w7",
    "outputId": "5f8fd8c9-b076-403a-b0b7-fd2d498b48d7"
   },
   "outputs": [
    {
     "name": "stdout",
     "output_type": "stream",
     "text": [
      "Epoch: 001/010 | Batch 000/461 | Cost: 2.4445\n",
      "Epoch: 001/010 | Batch 150/461 | Cost: 0.1726\n",
      "Epoch: 001/010 | Batch 300/461 | Cost: 0.1456\n",
      "Epoch: 001/010 | Batch 450/461 | Cost: 0.0892\n",
      "Epoch: 001/010\n",
      "Train ACC: 98.80 | Validation ACC: 97.90\n",
      "Time elapsed: 0.38 min\n",
      "Epoch: 002/010 | Batch 000/461 | Cost: 0.0816\n",
      "Epoch: 002/010 | Batch 150/461 | Cost: 0.0223\n",
      "Epoch: 002/010 | Batch 300/461 | Cost: 0.0388\n",
      "Epoch: 002/010 | Batch 450/461 | Cost: 0.0092\n",
      "Epoch: 002/010\n",
      "Train ACC: 99.46 | Validation ACC: 98.00\n",
      "Time elapsed: 0.75 min\n",
      "Epoch: 003/010 | Batch 000/461 | Cost: 0.0065\n",
      "Epoch: 003/010 | Batch 150/461 | Cost: 0.0070\n",
      "Epoch: 003/010 | Batch 300/461 | Cost: 0.0177\n",
      "Epoch: 003/010 | Batch 450/461 | Cost: 0.0583\n",
      "Epoch: 003/010\n",
      "Train ACC: 99.69 | Validation ACC: 98.40\n",
      "Time elapsed: 1.14 min\n",
      "Epoch: 004/010 | Batch 000/461 | Cost: 0.0284\n",
      "Epoch: 004/010 | Batch 150/461 | Cost: 0.0138\n",
      "Epoch: 004/010 | Batch 300/461 | Cost: 0.0577\n",
      "Epoch: 004/010 | Batch 450/461 | Cost: 0.0082\n",
      "Epoch: 004/010\n",
      "Train ACC: 99.88 | Validation ACC: 98.60\n",
      "Time elapsed: 1.51 min\n",
      "Epoch: 005/010 | Batch 000/461 | Cost: 0.0090\n",
      "Epoch: 005/010 | Batch 150/461 | Cost: 0.0051\n",
      "Epoch: 005/010 | Batch 300/461 | Cost: 0.0116\n",
      "Epoch: 005/010 | Batch 450/461 | Cost: 0.0140\n",
      "Epoch: 005/010\n",
      "Train ACC: 99.73 | Validation ACC: 98.50\n",
      "Time elapsed: 1.89 min\n",
      "Epoch: 006/010 | Batch 000/461 | Cost: 0.0018\n",
      "Epoch: 006/010 | Batch 150/461 | Cost: 0.0395\n",
      "Epoch: 006/010 | Batch 300/461 | Cost: 0.0046\n",
      "Epoch: 006/010 | Batch 450/461 | Cost: 0.0036\n",
      "Epoch: 006/010\n",
      "Train ACC: 99.73 | Validation ACC: 98.70\n",
      "Time elapsed: 2.27 min\n",
      "Epoch: 007/010 | Batch 000/461 | Cost: 0.0010\n",
      "Epoch: 007/010 | Batch 150/461 | Cost: 0.0115\n",
      "Epoch: 007/010 | Batch 300/461 | Cost: 0.0067\n",
      "Epoch: 007/010 | Batch 450/461 | Cost: 0.0009\n",
      "Epoch: 007/010\n",
      "Train ACC: 99.80 | Validation ACC: 98.90\n",
      "Time elapsed: 2.64 min\n",
      "Epoch: 008/010 | Batch 000/461 | Cost: 0.0005\n",
      "Epoch: 008/010 | Batch 150/461 | Cost: 0.0417\n",
      "Epoch: 008/010 | Batch 300/461 | Cost: 0.0078\n",
      "Epoch: 008/010 | Batch 450/461 | Cost: 0.0096\n",
      "Epoch: 008/010\n",
      "Train ACC: 99.71 | Validation ACC: 98.70\n",
      "Time elapsed: 3.04 min\n",
      "Epoch: 009/010 | Batch 000/461 | Cost: 0.0478\n",
      "Epoch: 009/010 | Batch 150/461 | Cost: 0.0172\n",
      "Epoch: 009/010 | Batch 300/461 | Cost: 0.0030\n",
      "Epoch: 009/010 | Batch 450/461 | Cost: 0.0806\n",
      "Epoch: 009/010\n",
      "Train ACC: 99.83 | Validation ACC: 98.50\n",
      "Time elapsed: 3.41 min\n",
      "Epoch: 010/010 | Batch 000/461 | Cost: 0.0115\n",
      "Epoch: 010/010 | Batch 150/461 | Cost: 0.0087\n",
      "Epoch: 010/010 | Batch 300/461 | Cost: 0.0034\n",
      "Epoch: 010/010 | Batch 450/461 | Cost: 0.0009\n",
      "Epoch: 010/010\n",
      "Train ACC: 99.86 | Validation ACC: 98.30\n",
      "Time elapsed: 3.80 min\n",
      "Total Training Time: 3.80 min\n"
     ]
    }
   ],
   "source": [
    "start_time = time.time()  # 记录开始时间\n",
    "\n",
    "cost_list = []  # 存储每个batch的损失值\n",
    "train_acc_list, valid_acc_list = [], []  # 存储训练集和验证集的准确率\n",
    "\n",
    "\n",
    "for epoch in range(NUM_EPOCHS):  # 遍历每个训练轮次\n",
    "    \n",
    "    model.train()  # 设置模型为训练模式\n",
    "    for batch_idx, (features, targets) in enumerate(train_loader):  # 遍历训练数据集\n",
    "        \n",
    "        features = features.to(DEVICE)  # 将输入数据移动到指定设备（GPU/CPU）\n",
    "        targets = targets.to(DEVICE)  # 将标签数据移动到指定设备\n",
    "            \n",
    "        ### 前向传播和反向传播\n",
    "        logits, probas = model(features)  # 获取模型输出\n",
    "        cost = F.cross_entropy(logits, targets)  # 计算交叉熵损失\n",
    "        optimizer.zero_grad()  # 清空梯度\n",
    "        \n",
    "        cost.backward()  # 反向传播计算梯度\n",
    "        \n",
    "        ### 更新模型参数\n",
    "        optimizer.step()  # 更新模型参数\n",
    "        \n",
    "        #################################################\n",
    "        ### 仅用于日志记录，下面的代码用于输出训练信息\n",
    "        ################################################\n",
    "        cost_list.append(cost.item())  # 记录损失值\n",
    "        if not batch_idx % 150:  # 每150个batch打印一次训练进度\n",
    "            print (f'Epoch: {epoch+1:03d}/{NUM_EPOCHS:03d} | '\n",
    "                   f'Batch {batch_idx:03d}/{len(train_loader):03d} |' \n",
    "                   f' Cost: {cost:.4f}')  # 输出当前轮次、batch和损失值\n",
    "\n",
    "        \n",
    "\n",
    "    model.eval()  # 设置模型为评估模式\n",
    "    with torch.set_grad_enabled(False):  # 在推理过程中不计算梯度，以节省内存\n",
    "        \n",
    "        train_acc = compute_acc(model, train_loader, device=DEVICE)  # 计算训练集准确率\n",
    "        valid_acc = compute_acc(model, valid_loader, device=DEVICE)  # 计算验证集准确率\n",
    "        \n",
    "        print(f'Epoch: {epoch+1:03d}/{NUM_EPOCHS:03d}\\n'\n",
    "              f'Train ACC: {train_acc:.2f} | Validation ACC: {valid_acc:.2f}')  # 输出训练集和验证集准确率\n",
    "        \n",
    "        train_acc_list.append(train_acc)  # 记录训练集准确率\n",
    "        valid_acc_list.append(valid_acc)  # 记录验证集准确率\n",
    "        \n",
    "    elapsed = (time.time() - start_time) / 60  # 计算当前已用时间\n",
    "    print(f'Time elapsed: {elapsed:.2f} min')  # 输出当前已用时间\n",
    "  \n",
    "elapsed = (time.time() - start_time) / 60  # 计算总训练时间\n",
    "print(f'Total Training Time: {elapsed:.2f} min')  # 输出总训练时间"
   ]
  },
  {
   "cell_type": "markdown",
   "metadata": {
    "colab_type": "text",
    "id": "paaeEQHQj5xC"
   },
   "source": [
    "## Evaluation"
   ]
  },
  {
   "cell_type": "code",
   "execution_count": 13,
   "metadata": {
    "colab": {
     "autoexec": {
      "startup": false,
      "wait_interval": 0
     },
     "base_uri": "https://localhost:8080/",
     "height": 34
    },
    "colab_type": "code",
    "executionInfo": {
     "elapsed": 6514,
     "status": "ok",
     "timestamp": 1524976895054,
     "user": {
      "displayName": "Sebastian Raschka",
      "photoUrl": "//lh6.googleusercontent.com/-cxK6yOSQ6uE/AAAAAAAAAAI/AAAAAAAAIfw/P9ar_CHsKOQ/s50-c-k-no/photo.jpg",
      "userId": "118404394130788869227"
     },
     "user_tz": 240
    },
    "id": "gzQMWKq5j5xE",
    "outputId": "de7dc005-5eeb-4177-9f9f-d9b5d1358db9"
   },
   "outputs": [
    {
     "data": {
      "image/png": "[encoded data removed]",
      "text/plain": [
       "<Figure size 640x480 with 1 Axes>"
      ]
     },
     "metadata": {},
     "output_type": "display_data"
    }
   ],
   "source": [
    "plt.plot(cost_list, label='Minibatch cost')\n",
    "plt.plot(np.convolve(cost_list, \n",
    "                     np.ones(200,)/200, mode='valid'), \n",
    "         label='Running average')\n",
    "\n",
    "plt.ylabel('Cross Entropy')\n",
    "plt.xlabel('Iteration')\n",
    "plt.legend()\n",
    "plt.show()\n"
   ]
  },
  {
   "cell_type": "code",
   "execution_count": 18,
   "metadata": {},
   "outputs": [
    {
     "data": {
      "image/png": "[encoded data removed]",
      "text/plain": [
       "<Figure size 640x480 with 1 Axes>"
      ]
     },
     "metadata": {},
     "output_type": "display_data"
    }
   ],
   "source": [
    "train_acc_list_cpu = [x.cpu().numpy() for x in train_acc_list]   # 将张量移到 CPU 并转换为 numpy 数组\n",
    "valid_acc_list_cpu = [x.cpu().numpy() for x in valid_acc_list]\n",
    "plt.plot(np.arange(1, NUM_EPOCHS+1), train_acc_list_cpu, label='Training')\n",
    "plt.plot(np.arange(1, NUM_EPOCHS+1), valid_acc_list_cpu, label='Validation')\n",
    "\n",
    "plt.xlabel('Epoch')\n",
    "plt.ylabel('Accuracy')\n",
    "plt.legend()\n",
    "plt.show()"
   ]
  },
  {
   "cell_type": "code",
   "execution_count": 19,
   "metadata": {},
   "outputs": [
    {
     "name": "stdout",
     "output_type": "stream",
     "text": [
      "Validation ACC: 98.30%\n",
      "Test ACC: 98.84%\n"
     ]
    }
   ],
   "source": [
    "with torch.set_grad_enabled(False):\n",
    "    test_acc = compute_acc(model=model,\n",
    "                           data_loader=test_loader,\n",
    "                           device=DEVICE)\n",
    "    \n",
    "    valid_acc = compute_acc(model=model,\n",
    "                            data_loader=valid_loader,\n",
    "                            device=DEVICE)\n",
    "    \n",
    "\n",
    "print(f'Validation ACC: {valid_acc:.2f}%')\n",
    "print(f'Test ACC: {test_acc:.2f}%')"
   ]
  },
  {
   "cell_type": "code",
   "execution_count": 20,
   "metadata": {},
   "outputs": [
    {
     "name": "stdout",
     "output_type": "stream",
     "text": [
      "torchvision: 0.21.0+cu126\n",
      "matplotlib : 3.10.1\n",
      "pandas     : 2.2.3\n",
      "numpy      : 1.26.4\n",
      "re         : 2.2.1\n",
      "PIL        : 11.1.0\n",
      "torch      : 2.6.0+cu126\n",
      "\n"
     ]
    }
   ],
   "source": [
    "%watermark -iv"
   ]
  }
 ],
 "metadata": {
  "accelerator": "GPU",
  "colab": {
   "collapsed_sections": [],
   "default_view": {},
   "name": "convnet-vgg16.ipynb",
   "provenance": [],
   "version": "0.3.2",
   "views": {}
  },
  "kernelspec": {
   "display_name": "Python 3 (ipykernel)",
   "language": "python",
   "name": "python3"
  },
  "language_info": {
   "codemirror_mode": {
    "name": "ipython",
    "version": 3
   },
   "file_extension": ".py",
   "mimetype": "text/x-python",
   "name": "python",
   "nbconvert_exporter": "python",
   "pygments_lexer": "ipython3",
   "version": "3.11.11"
  },
  "toc": {
   "nav_menu": {},
   "number_sections": true,
   "sideBar": true,
   "skip_h1_title": false,
   "title_cell": "Table of Contents",
   "title_sidebar": "Contents",
   "toc_cell": true,
   "toc_position": {
    "height": "calc(100% - 180px)",
    "left": "10px",
    "top": "150px",
    "width": "371px"
   },
   "toc_section_display": true,
   "toc_window_display": true
  }
 },
 "nbformat": 4,
 "nbformat_minor": 4
}
