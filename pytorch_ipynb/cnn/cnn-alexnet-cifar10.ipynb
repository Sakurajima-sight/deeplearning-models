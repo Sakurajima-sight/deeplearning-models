{
 "cells": [
  {
   "cell_type": "markdown",
   "metadata": {
    "colab_type": "text",
    "id": "UEBilEjLj5wY"
   },
   "source": [
    "Deep Learning Models -- A collection of various deep learning architectures, models, and tips for TensorFlow and PyTorch in Jupyter Notebooks.\n",
    "- Author: Sebastian Raschka\n",
    "- GitHub Repository: https://github.com/rasbt/deeplearning-models\n",
    "\n",
    "---"
   ]
  },
  {
   "cell_type": "code",
   "execution_count": 1,
   "metadata": {
    "colab": {
     "autoexec": {
      "startup": false,
      "wait_interval": 0
     },
     "base_uri": "https://localhost:8080/",
     "height": 119
    },
    "colab_type": "code",
    "executionInfo": {
     "elapsed": 536,
     "status": "ok",
     "timestamp": 1524974472601,
     "user": {
      "displayName": "Sebastian Raschka",
      "photoUrl": "//lh6.googleusercontent.com/-cxK6yOSQ6uE/AAAAAAAAAAI/AAAAAAAAIfw/P9ar_CHsKOQ/s50-c-k-no/photo.jpg",
      "userId": "118404394130788869227"
     },
     "user_tz": 240
    },
    "id": "GOzuY8Yvj5wb",
    "outputId": "c19362ce-f87a-4cc2-84cc-8d7b4b9e6007"
   },
   "outputs": [
    {
     "name": "stdout",
     "output_type": "stream",
     "text": [
      "Author: Sebastian Raschka\n",
      "\n",
      "Python implementation: CPython\n",
      "Python version       : 3.11.11\n",
      "IPython version      : 9.0.2\n",
      "\n",
      "torch: 2.6.0+cu126\n",
      "\n"
     ]
    }
   ],
   "source": [
    "%load_ext watermark\n",
    "%watermark -a 'Sebastian Raschka' -v -p torch"
   ]
  },
  {
   "cell_type": "markdown",
   "metadata": {
    "colab_type": "text",
    "id": "rH4XmErYj5wm"
   },
   "source": [
    "# AlexNet CIFAR-10 Classifier"
   ]
  },
  {
   "cell_type": "markdown",
   "metadata": {},
   "source": [
    "### Network Architecture"
   ]
  },
  {
   "cell_type": "markdown",
   "metadata": {},
   "source": [
    "References  \n",
    "参考文献  \n",
    "\n",
    "- [1] Krizhevsky, Alex, Ilya Sutskever, and Geoffrey E. Hinton. \"[Imagenet classification with deep convolutional neural networks.](https://papers.nips.cc/paper/4824-imagenet-classification-with-deep-convolutional-neural-networks.pdf)\" In Advances in Neural Information Processing Systems, pp. 1097-1105. 2012.  \n",
    "- [1] Krizhevsky, Alex, Ilya Sutskever 和 Geoffrey E. Hinton. \"[使用深度卷积神经网络进行Imagenet分类.](https://papers.nips.cc/paper/4824-imagenet-classification-with-deep-convolutional-neural-networks.pdf)\" 载于《神经信息处理系统的进展》，第1097-1105页，2012年。  "
   ]
  },
  {
   "cell_type": "markdown",
   "metadata": {
    "colab_type": "text",
    "id": "MkoGLH_Tj5wn"
   },
   "source": [
    "## Imports"
   ]
  },
  {
   "cell_type": "code",
   "execution_count": 2,
   "metadata": {
    "colab": {
     "autoexec": {
      "startup": false,
      "wait_interval": 0
     }
    },
    "colab_type": "code",
    "id": "ORj09gnrj5wp"
   },
   "outputs": [],
   "source": [
    "import os\n",
    "import time\n",
    "import random\n",
    "\n",
    "import numpy as np\n",
    "import pandas as pd\n",
    "\n",
    "import torch\n",
    "import torch.nn as nn\n",
    "import torch.nn.functional as F\n",
    "from torch.utils.data import DataLoader\n",
    "from torch.utils.data.dataset import Subset\n",
    "\n",
    "from torchvision import datasets\n",
    "from torchvision import transforms\n",
    "\n",
    "import matplotlib.pyplot as plt\n",
    "from PIL import Image\n",
    "\n",
    "\n",
    "if torch.cuda.is_available():\n",
    "    torch.backends.cudnn.deterministic = True"
   ]
  },
  {
   "cell_type": "markdown",
   "metadata": {
    "colab_type": "text",
    "id": "I6hghKPxj5w0"
   },
   "source": [
    "## Model Settings"
   ]
  },
  {
   "cell_type": "markdown",
   "metadata": {},
   "source": [
    "#### Setting a random seed"
   ]
  },
  {
   "cell_type": "markdown",
   "metadata": {},
   "source": [
    "I recommend using a function like the following one prior to using dataset loaders and initializing a model if you want to ensure the data is shuffled in the same manner if you rerun this notebook and the model gets the same initial random weights:  \n",
    "如果你想确保数据在重新运行该笔记本并且模型得到相同的初始随机权重时以相同的方式被打乱，我建议在使用数据集加载器和初始化模型之前使用如下函数：\n"
   ]
  },
  {
   "cell_type": "code",
   "execution_count": 3,
   "metadata": {},
   "outputs": [],
   "source": [
    "def set_all_seeds(seed):\n",
    "    os.environ[\"PL_GLOBAL_SEED\"] = str(seed)\n",
    "    random.seed(seed)\n",
    "    np.random.seed(seed)\n",
    "    torch.manual_seed(seed)\n",
    "    torch.cuda.manual_seed_all(seed)"
   ]
  },
  {
   "cell_type": "markdown",
   "metadata": {},
   "source": [
    "#### Setting cuDNN and PyTorch algorithmic behavior to deterministic"
   ]
  },
  {
   "cell_type": "markdown",
   "metadata": {},
   "source": [
    "Similar to the `set_all_seeds` function above, I recommend setting the behavior of PyTorch and cuDNN to deterministic (this is particularly relevant when using GPUs).  \n",
    "类似于上面的 `set_all_seeds` 函数，我建议将PyTorch和cuDNN的行为设置为确定性（这在使用GPU时特别重要）。\n",
    "\n",
    "We can also define a function for that:  \n",
    "我们也可以为此定义一个函数："
   ]
  },
  {
   "cell_type": "code",
   "execution_count": 4,
   "metadata": {},
   "outputs": [],
   "source": [
    "def set_deterministic():\n",
    "    if torch.cuda.is_available():\n",
    "        torch.backends.cudnn.benchmark = False\n",
    "        torch.backends.cudnn.deterministic = True\n",
    "    torch.set_deterministic(True)"
   ]
  },
  {
   "cell_type": "code",
   "execution_count": 5,
   "metadata": {
    "colab": {
     "autoexec": {
      "startup": false,
      "wait_interval": 0
     },
     "base_uri": "https://localhost:8080/",
     "height": 85
    },
    "colab_type": "code",
    "executionInfo": {
     "elapsed": 23936,
     "status": "ok",
     "timestamp": 1524974497505,
     "user": {
      "displayName": "Sebastian Raschka",
      "photoUrl": "//lh6.googleusercontent.com/-cxK6yOSQ6uE/AAAAAAAAAAI/AAAAAAAAIfw/P9ar_CHsKOQ/s50-c-k-no/photo.jpg",
      "userId": "118404394130788869227"
     },
     "user_tz": 240
    },
    "id": "NnT0sZIwj5wu",
    "outputId": "55aed925-d17e-4c6a-8c71-0d9b3bde5637"
   },
   "outputs": [],
   "source": [
    "##########################\n",
    "### 设置\n",
    "##########################\n",
    "\n",
    "# 超参数\n",
    "RANDOM_SEED = 1\n",
    "LEARNING_RATE = 0.0001\n",
    "BATCH_SIZE = 256\n",
    "NUM_EPOCHS = 40\n",
    "\n",
    "# 网络结构\n",
    "NUM_CLASSES = 10\n",
    "\n",
    "# 其他\n",
    "DEVICE = \"cuda:0\"\n",
    "\n",
    "set_all_seeds(RANDOM_SEED)\n",
    "\n",
    "# AdaptiveAvgPool2d 当前不支持确定性行为\n",
    "#set_deterministic()  # 此函数确保在训练过程中具有确定性，但可能会与某些操作（如AdaptiveAvgPool2d）不兼容"
   ]
  },
  {
   "cell_type": "markdown",
   "metadata": {},
   "source": [
    "#### Import utility functions"
   ]
  },
  {
   "cell_type": "code",
   "execution_count": 6,
   "metadata": {},
   "outputs": [],
   "source": [
    "import sys\n",
    "\n",
    "sys.path.insert(0, \"..\") # 包含 ../helper_evaluate.py 等文件\n",
    "\n",
    "from helper_evaluate import compute_accuracy\n",
    "from helper_data import get_dataloaders_cifar10\n",
    "from helper_train import train_classifier_simple_v1"
   ]
  },
  {
   "cell_type": "markdown",
   "metadata": {},
   "source": [
    "## Dataset"
   ]
  },
  {
   "cell_type": "code",
   "execution_count": 7,
   "metadata": {},
   "outputs": [],
   "source": [
    "##########################\n",
    "### 数据集\n",
    "##########################\n",
    "\n",
    "# 定义训练数据的预处理操作\n",
    "train_transforms = transforms.Compose([transforms.Resize((70, 70)),  # 调整图片大小为70x70\n",
    "                                       transforms.RandomCrop((64, 64)),  # 随机裁剪为64x64\n",
    "                                       transforms.ToTensor()])  # 转换为Tensor格式\n",
    "\n",
    "# 定义测试数据的预处理操作\n",
    "test_transforms = transforms.Compose([transforms.Resize((70, 70)),  # 调整图片大小为70x70\n",
    "                                      transforms.CenterCrop((64, 64)),  # 中心裁剪为64x64\n",
    "                                      transforms.ToTensor()])  # 转换为Tensor格式\n",
    "\n",
    "\n",
    "# 获取 CIFAR-10 数据集的加载器\n",
    "train_loader, valid_loader, test_loader = get_dataloaders_cifar10(\n",
    "    batch_size=BATCH_SIZE, \n",
    "    num_workers=2, \n",
    "    train_transforms=train_transforms,\n",
    "    test_transforms=test_transforms,\n",
    "    validation_fraction=0.1)"
   ]
  },
  {
   "cell_type": "code",
   "execution_count": 8,
   "metadata": {},
   "outputs": [
    {
     "name": "stdout",
     "output_type": "stream",
     "text": [
      "Training Set:\n",
      "\n",
      "Image batch dimensions: torch.Size([256, 3, 64, 64])\n",
      "Image label dimensions: torch.Size([256])\n",
      "tensor([0, 2, 3, 5, 4, 8, 9, 6, 9, 7])\n",
      "\n",
      "Validation Set:\n",
      "Image batch dimensions: torch.Size([256, 3, 64, 64])\n",
      "Image label dimensions: torch.Size([256])\n",
      "tensor([6, 9, 3, 5, 7, 3, 4, 1, 8, 0])\n",
      "\n",
      "Testing Set:\n",
      "Image batch dimensions: torch.Size([256, 3, 64, 64])\n",
      "Image label dimensions: torch.Size([256])\n",
      "tensor([2, 6, 3, 1, 1, 1, 1, 2, 4, 8])\n"
     ]
    }
   ],
   "source": [
    "# 检查验证数据集\n",
    "print('Training Set:\\n')\n",
    "for images, labels in train_loader:  \n",
    "    print('Image batch dimensions:', images.size())\n",
    "    print('Image label dimensions:', labels.size())\n",
    "    print(labels[:10])\n",
    "    break\n",
    "    \n",
    "# 检查验证数据集\n",
    "print('\\nValidation Set:')\n",
    "for images, labels in valid_loader:  \n",
    "    print('Image batch dimensions:', images.size())\n",
    "    print('Image label dimensions:', labels.size())\n",
    "    print(labels[:10])\n",
    "    break\n",
    "\n",
    "# 检查验证数据集\n",
    "print('\\nTesting Set:')\n",
    "for images, labels in train_loader:  \n",
    "    print('Image batch dimensions:', images.size())\n",
    "    print('Image label dimensions:', labels.size())\n",
    "    print(labels[:10])\n",
    "    break"
   ]
  },
  {
   "cell_type": "markdown",
   "metadata": {},
   "source": [
    "## Model"
   ]
  },
  {
   "cell_type": "code",
   "execution_count": 9,
   "metadata": {},
   "outputs": [],
   "source": [
    "##########################\n",
    "### 模型\n",
    "##########################\n",
    "\n",
    "class AlexNet(nn.Module):\n",
    "\n",
    "    def __init__(self, num_classes):\n",
    "        super(AlexNet, self).__init__()\n",
    "        self.features = nn.Sequential(\n",
    "            nn.Conv2d(3, 64, kernel_size=11, stride=4, padding=2),\n",
    "            nn.ReLU(inplace=True),\n",
    "            nn.MaxPool2d(kernel_size=3, stride=2),\n",
    "            \n",
    "            nn.Conv2d(64, 192, kernel_size=5, padding=2),\n",
    "            nn.ReLU(inplace=True),\n",
    "            nn.MaxPool2d(kernel_size=3, stride=2),\n",
    "            \n",
    "            nn.Conv2d(192, 384, kernel_size=3, padding=1),\n",
    "            nn.ReLU(inplace=True),\n",
    "            \n",
    "            nn.Conv2d(384, 256, kernel_size=3, padding=1),\n",
    "            nn.ReLU(inplace=True),\n",
    "            \n",
    "            nn.Conv2d(256, 256, kernel_size=3, padding=1),\n",
    "            nn.ReLU(inplace=True),\n",
    "            nn.MaxPool2d(kernel_size=3, stride=2),\n",
    "        )\n",
    "        self.avgpool = nn.AdaptiveAvgPool2d((6, 6))\n",
    "        self.classifier = nn.Sequential(\n",
    "            nn.Dropout(0.5),\n",
    "            nn.Linear(256 * 6 * 6, 4096),\n",
    "            nn.ReLU(inplace=True),\n",
    "            nn.Dropout(0.5),\n",
    "            nn.Linear(4096, 4096),\n",
    "            nn.ReLU(inplace=True),\n",
    "            nn.Linear(4096, num_classes)\n",
    "        )\n",
    "\n",
    "    def forward(self, x):\n",
    "        x = self.features(x)\n",
    "        x = self.avgpool(x)\n",
    "        x = x.view(x.size(0), 256 * 6 * 6)\n",
    "        logits = self.classifier(x)\n",
    "        probas = F.softmax(logits, dim=1)\n",
    "        return logits"
   ]
  },
  {
   "cell_type": "code",
   "execution_count": 10,
   "metadata": {
    "colab": {
     "autoexec": {
      "startup": false,
      "wait_interval": 0
     }
    },
    "colab_type": "code",
    "id": "_lza9t_uj5w1"
   },
   "outputs": [],
   "source": [
    "torch.manual_seed(RANDOM_SEED)\n",
    "\n",
    "model = AlexNet(NUM_CLASSES)\n",
    "model.to(DEVICE)\n",
    "\n",
    "optimizer = torch.optim.Adam(model.parameters(), lr=LEARNING_RATE)  "
   ]
  },
  {
   "cell_type": "markdown",
   "metadata": {
    "colab_type": "text",
    "id": "RAodboScj5w6"
   },
   "source": [
    "## Training"
   ]
  },
  {
   "cell_type": "code",
   "execution_count": 11,
   "metadata": {
    "colab": {
     "autoexec": {
      "startup": false,
      "wait_interval": 0
     },
     "base_uri": "https://localhost:8080/",
     "height": 1547
    },
    "colab_type": "code",
    "executionInfo": {
     "elapsed": 2384585,
     "status": "ok",
     "timestamp": 1524976888520,
     "user": {
      "displayName": "Sebastian Raschka",
      "photoUrl": "//lh6.googleusercontent.com/-cxK6yOSQ6uE/AAAAAAAAAAI/AAAAAAAAIfw/P9ar_CHsKOQ/s50-c-k-no/photo.jpg",
      "userId": "118404394130788869227"
     },
     "user_tz": 240
    },
    "id": "Dzh3ROmRj5w7",
    "outputId": "5f8fd8c9-b076-403a-b0b7-fd2d498b48d7",
    "scrolled": true
   },
   "outputs": [
    {
     "name": "stdout",
     "output_type": "stream",
     "text": [
      "Epoch: 001/040 | Batch 0000/0175 | Loss: 2.3035\n",
      "Epoch: 001/040 | Batch 0050/0175 | Loss: 2.0657\n",
      "Epoch: 001/040 | Batch 0100/0175 | Loss: 1.9149\n",
      "Epoch: 001/040 | Batch 0150/0175 | Loss: 1.8351\n",
      "***Epoch: 001/040 | Train. Acc.: 35.951% | Loss: 1.661\n",
      "***Epoch: 001/040 | Valid. Acc.: 36.680% | Loss: 1.634\n",
      "Time elapsed: 0.23 min\n",
      "Epoch: 002/040 | Batch 0000/0175 | Loss: 1.6928\n",
      "Epoch: 002/040 | Batch 0050/0175 | Loss: 1.5638\n",
      "Epoch: 002/040 | Batch 0100/0175 | Loss: 1.4921\n",
      "Epoch: 002/040 | Batch 0150/0175 | Loss: 1.5325\n",
      "***Epoch: 002/040 | Train. Acc.: 43.049% | Loss: 1.497\n",
      "***Epoch: 002/040 | Valid. Acc.: 44.140% | Loss: 1.483\n",
      "Time elapsed: 0.46 min\n",
      "Epoch: 003/040 | Batch 0000/0175 | Loss: 1.5442\n",
      "Epoch: 003/040 | Batch 0050/0175 | Loss: 1.4346\n",
      "Epoch: 003/040 | Batch 0100/0175 | Loss: 1.4500\n",
      "Epoch: 003/040 | Batch 0150/0175 | Loss: 1.3207\n",
      "***Epoch: 003/040 | Train. Acc.: 50.192% | Loss: 1.341\n",
      "***Epoch: 003/040 | Valid. Acc.: 50.060% | Loss: 1.334\n",
      "Time elapsed: 0.69 min\n",
      "Epoch: 004/040 | Batch 0000/0175 | Loss: 1.4299\n",
      "Epoch: 004/040 | Batch 0050/0175 | Loss: 1.4660\n",
      "Epoch: 004/040 | Batch 0100/0175 | Loss: 1.2964\n",
      "Epoch: 004/040 | Batch 0150/0175 | Loss: 1.1787\n",
      "***Epoch: 004/040 | Train. Acc.: 55.150% | Loss: 1.214\n",
      "***Epoch: 004/040 | Valid. Acc.: 55.800% | Loss: 1.202\n",
      "Time elapsed: 0.92 min\n",
      "Epoch: 005/040 | Batch 0000/0175 | Loss: 1.1101\n",
      "Epoch: 005/040 | Batch 0050/0175 | Loss: 1.1837\n",
      "Epoch: 005/040 | Batch 0100/0175 | Loss: 1.3256\n",
      "Epoch: 005/040 | Batch 0150/0175 | Loss: 1.1307\n",
      "***Epoch: 005/040 | Train. Acc.: 59.933% | Loss: 1.105\n",
      "***Epoch: 005/040 | Valid. Acc.: 59.540% | Loss: 1.114\n",
      "Time elapsed: 1.14 min\n",
      "Epoch: 006/040 | Batch 0000/0175 | Loss: 1.0566\n",
      "Epoch: 006/040 | Batch 0050/0175 | Loss: 1.0872\n",
      "Epoch: 006/040 | Batch 0100/0175 | Loss: 1.1498\n",
      "Epoch: 006/040 | Batch 0150/0175 | Loss: 1.0306\n",
      "***Epoch: 006/040 | Train. Acc.: 60.143% | Loss: 1.089\n",
      "***Epoch: 006/040 | Valid. Acc.: 59.420% | Loss: 1.117\n",
      "Time elapsed: 1.37 min\n",
      "Epoch: 007/040 | Batch 0000/0175 | Loss: 0.9368\n",
      "Epoch: 007/040 | Batch 0050/0175 | Loss: 1.2864\n",
      "Epoch: 007/040 | Batch 0100/0175 | Loss: 0.9405\n",
      "Epoch: 007/040 | Batch 0150/0175 | Loss: 1.0062\n",
      "***Epoch: 007/040 | Train. Acc.: 65.241% | Loss: 0.964\n",
      "***Epoch: 007/040 | Valid. Acc.: 63.580% | Loss: 0.999\n",
      "Time elapsed: 1.60 min\n",
      "Epoch: 008/040 | Batch 0000/0175 | Loss: 0.8960\n",
      "Epoch: 008/040 | Batch 0050/0175 | Loss: 0.9842\n",
      "Epoch: 008/040 | Batch 0100/0175 | Loss: 1.0130\n",
      "Epoch: 008/040 | Batch 0150/0175 | Loss: 1.0364\n",
      "***Epoch: 008/040 | Train. Acc.: 67.701% | Loss: 0.903\n",
      "***Epoch: 008/040 | Valid. Acc.: 65.600% | Loss: 0.964\n",
      "Time elapsed: 1.83 min\n",
      "Epoch: 009/040 | Batch 0000/0175 | Loss: 0.9316\n",
      "Epoch: 009/040 | Batch 0050/0175 | Loss: 0.7596\n",
      "Epoch: 009/040 | Batch 0100/0175 | Loss: 1.0336\n",
      "Epoch: 009/040 | Batch 0150/0175 | Loss: 0.8975\n",
      "***Epoch: 009/040 | Train. Acc.: 68.542% | Loss: 0.877\n",
      "***Epoch: 009/040 | Valid. Acc.: 65.480% | Loss: 0.960\n",
      "Time elapsed: 2.05 min\n",
      "Epoch: 010/040 | Batch 0000/0175 | Loss: 0.8046\n",
      "Epoch: 010/040 | Batch 0050/0175 | Loss: 0.7749\n",
      "Epoch: 010/040 | Batch 0100/0175 | Loss: 0.8528\n",
      "Epoch: 010/040 | Batch 0150/0175 | Loss: 0.8486\n",
      "***Epoch: 010/040 | Train. Acc.: 71.455% | Loss: 0.811\n",
      "***Epoch: 010/040 | Valid. Acc.: 67.900% | Loss: 0.913\n",
      "Time elapsed: 2.28 min\n",
      "Epoch: 011/040 | Batch 0000/0175 | Loss: 0.8442\n",
      "Epoch: 011/040 | Batch 0050/0175 | Loss: 0.7502\n",
      "Epoch: 011/040 | Batch 0100/0175 | Loss: 0.9175\n",
      "Epoch: 011/040 | Batch 0150/0175 | Loss: 0.7578\n",
      "***Epoch: 011/040 | Train. Acc.: 73.540% | Loss: 0.747\n",
      "***Epoch: 011/040 | Valid. Acc.: 68.960% | Loss: 0.876\n",
      "Time elapsed: 2.51 min\n",
      "Epoch: 012/040 | Batch 0000/0175 | Loss: 0.6631\n",
      "Epoch: 012/040 | Batch 0050/0175 | Loss: 0.8515\n",
      "Epoch: 012/040 | Batch 0100/0175 | Loss: 0.8027\n",
      "Epoch: 012/040 | Batch 0150/0175 | Loss: 0.8845\n",
      "***Epoch: 012/040 | Train. Acc.: 74.587% | Loss: 0.720\n",
      "***Epoch: 012/040 | Valid. Acc.: 69.340% | Loss: 0.879\n",
      "Time elapsed: 2.74 min\n",
      "Epoch: 013/040 | Batch 0000/0175 | Loss: 0.7851\n",
      "Epoch: 013/040 | Batch 0050/0175 | Loss: 0.7827\n",
      "Epoch: 013/040 | Batch 0100/0175 | Loss: 0.6532\n",
      "Epoch: 013/040 | Batch 0150/0175 | Loss: 0.8714\n",
      "***Epoch: 013/040 | Train. Acc.: 77.594% | Loss: 0.645\n",
      "***Epoch: 013/040 | Valid. Acc.: 70.180% | Loss: 0.849\n",
      "Time elapsed: 2.97 min\n",
      "Epoch: 014/040 | Batch 0000/0175 | Loss: 0.6220\n",
      "Epoch: 014/040 | Batch 0050/0175 | Loss: 0.7824\n",
      "Epoch: 014/040 | Batch 0100/0175 | Loss: 0.8510\n",
      "Epoch: 014/040 | Batch 0150/0175 | Loss: 0.6468\n",
      "***Epoch: 014/040 | Train. Acc.: 76.973% | Loss: 0.644\n",
      "***Epoch: 014/040 | Valid. Acc.: 69.580% | Loss: 0.873\n",
      "Time elapsed: 3.21 min\n",
      "Epoch: 015/040 | Batch 0000/0175 | Loss: 0.7530\n",
      "Epoch: 015/040 | Batch 0050/0175 | Loss: 0.7359\n",
      "Epoch: 015/040 | Batch 0100/0175 | Loss: 0.6652\n",
      "Epoch: 015/040 | Batch 0150/0175 | Loss: 0.7239\n",
      "***Epoch: 015/040 | Train. Acc.: 78.612% | Loss: 0.614\n",
      "***Epoch: 015/040 | Valid. Acc.: 70.000% | Loss: 0.862\n",
      "Time elapsed: 3.44 min\n",
      "Epoch: 016/040 | Batch 0000/0175 | Loss: 0.5981\n",
      "Epoch: 016/040 | Batch 0050/0175 | Loss: 0.6727\n",
      "Epoch: 016/040 | Batch 0100/0175 | Loss: 0.5539\n",
      "Epoch: 016/040 | Batch 0150/0175 | Loss: 0.6213\n",
      "***Epoch: 016/040 | Train. Acc.: 80.734% | Loss: 0.550\n",
      "***Epoch: 016/040 | Valid. Acc.: 71.780% | Loss: 0.833\n",
      "Time elapsed: 3.67 min\n",
      "Epoch: 017/040 | Batch 0000/0175 | Loss: 0.6256\n",
      "Epoch: 017/040 | Batch 0050/0175 | Loss: 0.5744\n",
      "Epoch: 017/040 | Batch 0100/0175 | Loss: 0.5691\n",
      "Epoch: 017/040 | Batch 0150/0175 | Loss: 0.6129\n",
      "***Epoch: 017/040 | Train. Acc.: 82.395% | Loss: 0.502\n",
      "***Epoch: 017/040 | Valid. Acc.: 72.420% | Loss: 0.819\n",
      "Time elapsed: 3.91 min\n",
      "Epoch: 018/040 | Batch 0000/0175 | Loss: 0.5085\n",
      "Epoch: 018/040 | Batch 0050/0175 | Loss: 0.4334\n",
      "Epoch: 018/040 | Batch 0100/0175 | Loss: 0.3935\n",
      "Epoch: 018/040 | Batch 0150/0175 | Loss: 0.6321\n",
      "***Epoch: 018/040 | Train. Acc.: 83.020% | Loss: 0.484\n",
      "***Epoch: 018/040 | Valid. Acc.: 71.360% | Loss: 0.867\n",
      "Time elapsed: 4.14 min\n",
      "Epoch: 019/040 | Batch 0000/0175 | Loss: 0.4557\n",
      "Epoch: 019/040 | Batch 0050/0175 | Loss: 0.4109\n",
      "Epoch: 019/040 | Batch 0100/0175 | Loss: 0.4997\n",
      "Epoch: 019/040 | Batch 0150/0175 | Loss: 0.5311\n",
      "***Epoch: 019/040 | Train. Acc.: 83.228% | Loss: 0.471\n",
      "***Epoch: 019/040 | Valid. Acc.: 71.180% | Loss: 0.875\n",
      "Time elapsed: 4.37 min\n",
      "Epoch: 020/040 | Batch 0000/0175 | Loss: 0.4605\n",
      "Epoch: 020/040 | Batch 0050/0175 | Loss: 0.4729\n",
      "Epoch: 020/040 | Batch 0100/0175 | Loss: 0.4508\n",
      "Epoch: 020/040 | Batch 0150/0175 | Loss: 0.5067\n",
      "***Epoch: 020/040 | Train. Acc.: 86.917% | Loss: 0.382\n",
      "***Epoch: 020/040 | Valid. Acc.: 73.580% | Loss: 0.815\n",
      "Time elapsed: 4.60 min\n",
      "Epoch: 021/040 | Batch 0000/0175 | Loss: 0.3361\n",
      "Epoch: 021/040 | Batch 0050/0175 | Loss: 0.5182\n",
      "Epoch: 021/040 | Batch 0100/0175 | Loss: 0.4532\n",
      "Epoch: 021/040 | Batch 0150/0175 | Loss: 0.3526\n",
      "***Epoch: 021/040 | Train. Acc.: 86.940% | Loss: 0.380\n",
      "***Epoch: 021/040 | Valid. Acc.: 72.140% | Loss: 0.877\n",
      "Time elapsed: 4.84 min\n",
      "Epoch: 022/040 | Batch 0000/0175 | Loss: 0.3573\n",
      "Epoch: 022/040 | Batch 0050/0175 | Loss: 0.3861\n",
      "Epoch: 022/040 | Batch 0100/0175 | Loss: 0.4497\n",
      "Epoch: 022/040 | Batch 0150/0175 | Loss: 0.4251\n",
      "***Epoch: 022/040 | Train. Acc.: 88.134% | Loss: 0.349\n",
      "***Epoch: 022/040 | Valid. Acc.: 72.500% | Loss: 0.881\n",
      "Time elapsed: 5.07 min\n",
      "Epoch: 023/040 | Batch 0000/0175 | Loss: 0.3397\n",
      "Epoch: 023/040 | Batch 0050/0175 | Loss: 0.3559\n",
      "Epoch: 023/040 | Batch 0100/0175 | Loss: 0.3831\n",
      "Epoch: 023/040 | Batch 0150/0175 | Loss: 0.2588\n",
      "***Epoch: 023/040 | Train. Acc.: 88.705% | Loss: 0.328\n",
      "***Epoch: 023/040 | Valid. Acc.: 72.120% | Loss: 0.906\n",
      "Time elapsed: 5.30 min\n",
      "Epoch: 024/040 | Batch 0000/0175 | Loss: 0.3759\n",
      "Epoch: 024/040 | Batch 0050/0175 | Loss: 0.3982\n",
      "Epoch: 024/040 | Batch 0100/0175 | Loss: 0.2979\n",
      "Epoch: 024/040 | Batch 0150/0175 | Loss: 0.3904\n",
      "***Epoch: 024/040 | Train. Acc.: 89.471% | Loss: 0.305\n",
      "***Epoch: 024/040 | Valid. Acc.: 72.100% | Loss: 0.947\n",
      "Time elapsed: 5.53 min\n",
      "Epoch: 025/040 | Batch 0000/0175 | Loss: 0.2737\n",
      "Epoch: 025/040 | Batch 0050/0175 | Loss: 0.2614\n",
      "Epoch: 025/040 | Batch 0100/0175 | Loss: 0.3027\n",
      "Epoch: 025/040 | Batch 0150/0175 | Loss: 0.4323\n",
      "***Epoch: 025/040 | Train. Acc.: 90.862% | Loss: 0.265\n",
      "***Epoch: 025/040 | Valid. Acc.: 72.920% | Loss: 0.950\n",
      "Time elapsed: 5.76 min\n",
      "Epoch: 026/040 | Batch 0000/0175 | Loss: 0.2612\n",
      "Epoch: 026/040 | Batch 0050/0175 | Loss: 0.2764\n",
      "Epoch: 026/040 | Batch 0100/0175 | Loss: 0.3802\n",
      "Epoch: 026/040 | Batch 0150/0175 | Loss: 0.2547\n",
      "***Epoch: 026/040 | Train. Acc.: 91.609% | Loss: 0.242\n",
      "***Epoch: 026/040 | Valid. Acc.: 73.040% | Loss: 0.971\n",
      "Time elapsed: 5.99 min\n",
      "Epoch: 027/040 | Batch 0000/0175 | Loss: 0.2928\n",
      "Epoch: 027/040 | Batch 0050/0175 | Loss: 0.3150\n",
      "Epoch: 027/040 | Batch 0100/0175 | Loss: 0.2544\n",
      "Epoch: 027/040 | Batch 0150/0175 | Loss: 0.3183\n",
      "***Epoch: 027/040 | Train. Acc.: 93.230% | Loss: 0.207\n",
      "***Epoch: 027/040 | Valid. Acc.: 73.820% | Loss: 0.981\n",
      "Time elapsed: 6.22 min\n",
      "Epoch: 028/040 | Batch 0000/0175 | Loss: 0.1907\n",
      "Epoch: 028/040 | Batch 0050/0175 | Loss: 0.1944\n",
      "Epoch: 028/040 | Batch 0100/0175 | Loss: 0.2185\n",
      "Epoch: 028/040 | Batch 0150/0175 | Loss: 0.3634\n",
      "***Epoch: 028/040 | Train. Acc.: 93.266% | Loss: 0.199\n",
      "***Epoch: 028/040 | Valid. Acc.: 73.200% | Loss: 1.027\n",
      "Time elapsed: 6.45 min\n",
      "Epoch: 029/040 | Batch 0000/0175 | Loss: 0.2062\n",
      "Epoch: 029/040 | Batch 0050/0175 | Loss: 0.2216\n",
      "Epoch: 029/040 | Batch 0100/0175 | Loss: 0.1674\n",
      "Epoch: 029/040 | Batch 0150/0175 | Loss: 0.2949\n",
      "***Epoch: 029/040 | Train. Acc.: 93.335% | Loss: 0.197\n",
      "***Epoch: 029/040 | Valid. Acc.: 73.400% | Loss: 1.040\n",
      "Time elapsed: 6.68 min\n",
      "Epoch: 030/040 | Batch 0000/0175 | Loss: 0.1587\n",
      "Epoch: 030/040 | Batch 0050/0175 | Loss: 0.2236\n",
      "Epoch: 030/040 | Batch 0100/0175 | Loss: 0.2043\n",
      "Epoch: 030/040 | Batch 0150/0175 | Loss: 0.2651\n",
      "***Epoch: 030/040 | Train. Acc.: 94.482% | Loss: 0.157\n",
      "***Epoch: 030/040 | Valid. Acc.: 72.880% | Loss: 1.063\n",
      "Time elapsed: 6.91 min\n",
      "Epoch: 031/040 | Batch 0000/0175 | Loss: 0.1691\n",
      "Epoch: 031/040 | Batch 0050/0175 | Loss: 0.1831\n",
      "Epoch: 031/040 | Batch 0100/0175 | Loss: 0.2117\n",
      "Epoch: 031/040 | Batch 0150/0175 | Loss: 0.1478\n",
      "***Epoch: 031/040 | Train. Acc.: 94.808% | Loss: 0.155\n",
      "***Epoch: 031/040 | Valid. Acc.: 72.240% | Loss: 1.076\n",
      "Time elapsed: 7.14 min\n",
      "Epoch: 032/040 | Batch 0000/0175 | Loss: 0.1651\n",
      "Epoch: 032/040 | Batch 0050/0175 | Loss: 0.2203\n",
      "Epoch: 032/040 | Batch 0100/0175 | Loss: 0.2349\n",
      "Epoch: 032/040 | Batch 0150/0175 | Loss: 0.2134\n",
      "***Epoch: 032/040 | Train. Acc.: 94.969% | Loss: 0.143\n",
      "***Epoch: 032/040 | Valid. Acc.: 73.180% | Loss: 1.090\n",
      "Time elapsed: 7.38 min\n",
      "Epoch: 033/040 | Batch 0000/0175 | Loss: 0.1679\n",
      "Epoch: 033/040 | Batch 0050/0175 | Loss: 0.1126\n",
      "Epoch: 033/040 | Batch 0100/0175 | Loss: 0.1804\n",
      "Epoch: 033/040 | Batch 0150/0175 | Loss: 0.1900\n",
      "***Epoch: 033/040 | Train. Acc.: 95.074% | Loss: 0.149\n",
      "***Epoch: 033/040 | Valid. Acc.: 72.640% | Loss: 1.081\n",
      "Time elapsed: 7.61 min\n",
      "Epoch: 034/040 | Batch 0000/0175 | Loss: 0.0972\n",
      "Epoch: 034/040 | Batch 0050/0175 | Loss: 0.2328\n",
      "Epoch: 034/040 | Batch 0100/0175 | Loss: 0.1271\n",
      "Epoch: 034/040 | Batch 0150/0175 | Loss: 0.1436\n",
      "***Epoch: 034/040 | Train. Acc.: 95.971% | Loss: 0.125\n",
      "***Epoch: 034/040 | Valid. Acc.: 72.720% | Loss: 1.133\n",
      "Time elapsed: 7.86 min\n",
      "Epoch: 035/040 | Batch 0000/0175 | Loss: 0.0969\n",
      "Epoch: 035/040 | Batch 0050/0175 | Loss: 0.0799\n",
      "Epoch: 035/040 | Batch 0100/0175 | Loss: 0.1598\n",
      "Epoch: 035/040 | Batch 0150/0175 | Loss: 0.2598\n",
      "***Epoch: 035/040 | Train. Acc.: 95.219% | Loss: 0.137\n",
      "***Epoch: 035/040 | Valid. Acc.: 72.120% | Loss: 1.196\n",
      "Time elapsed: 8.09 min\n",
      "Epoch: 036/040 | Batch 0000/0175 | Loss: 0.2005\n",
      "Epoch: 036/040 | Batch 0050/0175 | Loss: 0.1118\n",
      "Epoch: 036/040 | Batch 0100/0175 | Loss: 0.1247\n",
      "Epoch: 036/040 | Batch 0150/0175 | Loss: 0.1337\n",
      "***Epoch: 036/040 | Train. Acc.: 96.442% | Loss: 0.103\n",
      "***Epoch: 036/040 | Valid. Acc.: 73.540% | Loss: 1.161\n",
      "Time elapsed: 8.33 min\n",
      "Epoch: 037/040 | Batch 0000/0175 | Loss: 0.1497\n",
      "Epoch: 037/040 | Batch 0050/0175 | Loss: 0.1554\n",
      "Epoch: 037/040 | Batch 0100/0175 | Loss: 0.1099\n",
      "Epoch: 037/040 | Batch 0150/0175 | Loss: 0.0604\n",
      "***Epoch: 037/040 | Train. Acc.: 95.609% | Loss: 0.128\n",
      "***Epoch: 037/040 | Valid. Acc.: 72.940% | Loss: 1.232\n",
      "Time elapsed: 8.56 min\n",
      "Epoch: 038/040 | Batch 0000/0175 | Loss: 0.1304\n",
      "Epoch: 038/040 | Batch 0050/0175 | Loss: 0.0868\n",
      "Epoch: 038/040 | Batch 0100/0175 | Loss: 0.1029\n",
      "Epoch: 038/040 | Batch 0150/0175 | Loss: 0.1217\n",
      "***Epoch: 038/040 | Train. Acc.: 96.520% | Loss: 0.101\n",
      "***Epoch: 038/040 | Valid. Acc.: 72.760% | Loss: 1.243\n",
      "Time elapsed: 8.80 min\n",
      "Epoch: 039/040 | Batch 0000/0175 | Loss: 0.1245\n",
      "Epoch: 039/040 | Batch 0050/0175 | Loss: 0.0995\n",
      "Epoch: 039/040 | Batch 0100/0175 | Loss: 0.1374\n",
      "Epoch: 039/040 | Batch 0150/0175 | Loss: 0.1672\n",
      "***Epoch: 039/040 | Train. Acc.: 97.185% | Loss: 0.082\n",
      "***Epoch: 039/040 | Valid. Acc.: 73.580% | Loss: 1.179\n",
      "Time elapsed: 9.03 min\n",
      "Epoch: 040/040 | Batch 0000/0175 | Loss: 0.1068\n",
      "Epoch: 040/040 | Batch 0050/0175 | Loss: 0.1138\n",
      "Epoch: 040/040 | Batch 0100/0175 | Loss: 0.1496\n",
      "Epoch: 040/040 | Batch 0150/0175 | Loss: 0.2434\n",
      "***Epoch: 040/040 | Train. Acc.: 96.797% | Loss: 0.094\n",
      "***Epoch: 040/040 | Valid. Acc.: 73.440% | Loss: 1.186\n",
      "Time elapsed: 9.26 min\n",
      "Total Training Time: 9.26 min\n"
     ]
    }
   ],
   "source": [
    "log_dict = train_classifier_simple_v1(num_epochs=NUM_EPOCHS, model=model, \n",
    "                                      optimizer=optimizer, device=DEVICE, \n",
    "                                      train_loader=train_loader, valid_loader=valid_loader, \n",
    "                                      logging_interval=50)"
   ]
  },
  {
   "cell_type": "markdown",
   "metadata": {},
   "source": [
    "## Evaluation"
   ]
  },
  {
   "cell_type": "code",
   "execution_count": 12,
   "metadata": {},
   "outputs": [],
   "source": [
    "import matplotlib.pyplot as plt\n",
    "%matplotlib inline\n"
   ]
  },
  {
   "cell_type": "code",
   "execution_count": 13,
   "metadata": {},
   "outputs": [
    {
     "data": {
      "image/png": "[encoded data removed]",
      "text/plain": [
       "<Figure size 640x480 with 1 Axes>"
      ]
     },
     "metadata": {},
     "output_type": "display_data"
    }
   ],
   "source": [
    "loss_list = log_dict['train_loss_per_batch']\n",
    "\n",
    "plt.plot(loss_list, label='Minibatch loss')\n",
    "plt.plot(np.convolve(loss_list, \n",
    "                     np.ones(200,)/200, mode='valid'), \n",
    "         label='Running average')\n",
    "\n",
    "plt.ylabel('Cross Entropy')\n",
    "plt.xlabel('Iteration')\n",
    "plt.legend()\n",
    "plt.show()"
   ]
  },
  {
   "cell_type": "code",
   "execution_count": 14,
   "metadata": {},
   "outputs": [
    {
     "data": {
      "image/png": "[encoded data removed]",
      "text/plain": [
       "<Figure size 640x480 with 1 Axes>"
      ]
     },
     "metadata": {},
     "output_type": "display_data"
    }
   ],
   "source": [
    "plt.plot(np.arange(1, NUM_EPOCHS+1), log_dict['train_acc_per_epoch'], label='Training')\n",
    "plt.plot(np.arange(1, NUM_EPOCHS+1), log_dict['valid_acc_per_epoch'], label='Validation')\n",
    "\n",
    "plt.xlabel('Epoch')\n",
    "plt.ylabel('Accuracy')\n",
    "plt.legend()\n",
    "plt.show()"
   ]
  },
  {
   "cell_type": "code",
   "execution_count": 15,
   "metadata": {},
   "outputs": [
    {
     "name": "stdout",
     "output_type": "stream",
     "text": [
      "Train ACC: 73.44%\n",
      "Validation ACC: 73.44%\n",
      "Test ACC: 73.06%\n"
     ]
    }
   ],
   "source": [
    "with torch.set_grad_enabled(False):\n",
    "    \n",
    "    train_acc = compute_accuracy(model=model,\n",
    "                                 data_loader=test_loader,\n",
    "                                 device=DEVICE)\n",
    "    \n",
    "    test_acc = compute_accuracy(model=model,\n",
    "                                data_loader=test_loader,\n",
    "                                device=DEVICE)\n",
    "    \n",
    "    valid_acc = compute_accuracy(model=model,\n",
    "                                 data_loader=valid_loader,\n",
    "                                 device=DEVICE)\n",
    "    \n",
    "\n",
    "print(f'Train ACC: {valid_acc:.2f}%')\n",
    "print(f'Validation ACC: {valid_acc:.2f}%')\n",
    "print(f'Test ACC: {test_acc:.2f}%')"
   ]
  },
  {
   "cell_type": "code",
   "execution_count": 16,
   "metadata": {},
   "outputs": [
    {
     "name": "stdout",
     "output_type": "stream",
     "text": [
      "matplotlib : 3.10.1\n",
      "torch      : 2.6.0+cu126\n",
      "PIL        : 11.1.0\n",
      "pandas     : 2.2.3\n",
      "sys        : 3.11.11 (main, Dec 11 2024, 16:28:39) [GCC 11.2.0]\n",
      "numpy      : 1.26.4\n",
      "torchvision: 0.21.0+cu126\n",
      "\n"
     ]
    }
   ],
   "source": [
    "%watermark -iv"
   ]
  }
 ],
 "metadata": {
  "accelerator": "GPU",
  "colab": {
   "collapsed_sections": [],
   "default_view": {},
   "name": "convnet-vgg16.ipynb",
   "provenance": [],
   "version": "0.3.2",
   "views": {}
  },
  "kernelspec": {
   "display_name": "Python (pytorch_env)",
   "language": "python",
   "name": "pytorch_env"
  },
  "language_info": {
   "codemirror_mode": {
    "name": "ipython",
    "version": 3
   },
   "file_extension": ".py",
   "mimetype": "text/x-python",
   "name": "python",
   "nbconvert_exporter": "python",
   "pygments_lexer": "ipython3",
   "version": "3.11.11"
  },
  "toc": {
   "nav_menu": {},
   "number_sections": true,
   "sideBar": true,
   "skip_h1_title": false,
   "title_cell": "Table of Contents",
   "title_sidebar": "Contents",
   "toc_cell": true,
   "toc_position": {
    "height": "calc(100% - 180px)",
    "left": "10px",
    "top": "150px",
    "width": "371px"
   },
   "toc_section_display": true,
   "toc_window_display": true
  }
 },
 "nbformat": 4,
 "nbformat_minor": 4
}
