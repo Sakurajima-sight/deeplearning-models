{
 "cells": [
  {
   "cell_type": "code",
   "execution_count": 9,
   "id": "bab02d4c-c953-4345-8383-93ede9d50e33",
   "metadata": {},
   "outputs": [
    {
     "name": "stdout",
     "output_type": "stream",
     "text": [
      "Downloading lollipop from https://storage.googleapis.com/quickdraw_dataset/full/numpy_bitmap/lollipop.npy ...\n",
      "Downloaded lollipop ✅\n",
      "Processing lollipop ...\n"
     ]
    },
    {
     "name": "stderr",
     "output_type": "stream",
     "text": [
      "Saving lollipop: 100%|█████████████████████████████████████████████████████████████| 7000/7000 [00:21<00:00, 328.44it/s]\n"
     ]
    },
    {
     "name": "stdout",
     "output_type": "stream",
     "text": [
      "Downloading binoculars from https://storage.googleapis.com/quickdraw_dataset/full/numpy_bitmap/binoculars.npy ...\n",
      "Downloaded binoculars ✅\n",
      "Processing binoculars ...\n"
     ]
    },
    {
     "name": "stderr",
     "output_type": "stream",
     "text": [
      "Saving binoculars: 100%|███████████████████████████████████████████████████████████| 7000/7000 [00:15<00:00, 439.06it/s]\n"
     ]
    },
    {
     "name": "stdout",
     "output_type": "stream",
     "text": [
      "Downloading mouse from https://storage.googleapis.com/quickdraw_dataset/full/numpy_bitmap/mouse.npy ...\n",
      "Downloaded mouse ✅\n",
      "Processing mouse ...\n"
     ]
    },
    {
     "name": "stderr",
     "output_type": "stream",
     "text": [
      "Saving mouse: 100%|████████████████████████████████████████████████████████████████| 7000/7000 [00:15<00:00, 448.03it/s]\n"
     ]
    },
    {
     "name": "stdout",
     "output_type": "stream",
     "text": [
      "Downloading basket from https://storage.googleapis.com/quickdraw_dataset/full/numpy_bitmap/basket.npy ...\n",
      "Downloaded basket ✅\n",
      "Processing basket ...\n"
     ]
    },
    {
     "name": "stderr",
     "output_type": "stream",
     "text": [
      "Saving basket: 100%|███████████████████████████████████████████████████████████████| 7000/7000 [00:15<00:00, 442.51it/s]\n"
     ]
    },
    {
     "name": "stdout",
     "output_type": "stream",
     "text": [
      "Downloading penguin from https://storage.googleapis.com/quickdraw_dataset/full/numpy_bitmap/penguin.npy ...\n",
      "Downloaded penguin ✅\n",
      "Processing penguin ...\n"
     ]
    },
    {
     "name": "stderr",
     "output_type": "stream",
     "text": [
      "Saving penguin: 100%|██████████████████████████████████████████████████████████████| 7000/7000 [00:16<00:00, 432.14it/s]\n"
     ]
    },
    {
     "name": "stdout",
     "output_type": "stream",
     "text": [
      "Downloading washing machine from https://storage.googleapis.com/quickdraw_dataset/full/numpy_bitmap/washing%20machine.npy ...\n",
      "Downloaded washing machine ✅\n",
      "Processing washing machine ...\n"
     ]
    },
    {
     "name": "stderr",
     "output_type": "stream",
     "text": [
      "Saving washing machine: 100%|██████████████████████████████████████████████████████| 7000/7000 [00:16<00:00, 429.23it/s]\n"
     ]
    },
    {
     "name": "stdout",
     "output_type": "stream",
     "text": [
      "Downloading canoe from https://storage.googleapis.com/quickdraw_dataset/full/numpy_bitmap/canoe.npy ...\n",
      "Downloaded canoe ✅\n",
      "Processing canoe ...\n"
     ]
    },
    {
     "name": "stderr",
     "output_type": "stream",
     "text": [
      "Saving canoe: 100%|████████████████████████████████████████████████████████████████| 7000/7000 [00:16<00:00, 437.47it/s]\n"
     ]
    },
    {
     "name": "stdout",
     "output_type": "stream",
     "text": [
      "Downloading eyeglasses from https://storage.googleapis.com/quickdraw_dataset/full/numpy_bitmap/eyeglasses.npy ...\n",
      "Downloaded eyeglasses ✅\n",
      "Processing eyeglasses ...\n"
     ]
    },
    {
     "name": "stderr",
     "output_type": "stream",
     "text": [
      "Saving eyeglasses: 100%|███████████████████████████████████████████████████████████| 7000/7000 [00:15<00:00, 438.98it/s]\n"
     ]
    },
    {
     "name": "stdout",
     "output_type": "stream",
     "text": [
      "Downloading beach from https://storage.googleapis.com/quickdraw_dataset/full/numpy_bitmap/beach.npy ...\n",
      "Downloaded beach ✅\n",
      "Processing beach ...\n"
     ]
    },
    {
     "name": "stderr",
     "output_type": "stream",
     "text": [
      "Saving beach: 100%|████████████████████████████████████████████████████████████████| 7000/7000 [00:15<00:00, 441.69it/s]\n"
     ]
    },
    {
     "name": "stdout",
     "output_type": "stream",
     "text": [
      "Downloading screwdriver from https://storage.googleapis.com/quickdraw_dataset/full/numpy_bitmap/screwdriver.npy ...\n",
      "Downloaded screwdriver ✅\n",
      "Processing screwdriver ...\n"
     ]
    },
    {
     "name": "stderr",
     "output_type": "stream",
     "text": [
      "Saving screwdriver: 100%|██████████████████████████████████████████████████████████| 7000/7000 [00:16<00:00, 435.36it/s]\n"
     ]
    }
   ],
   "source": [
    "import os\n",
    "import numpy as np\n",
    "from PIL import Image\n",
    "from tqdm import tqdm\n",
    "import urllib.request\n",
    "import shutil\n",
    "\n",
    "# 类别标签 → 数字标签\n",
    "label_dict = {\n",
    "    \"lollipop\": 0,\n",
    "    \"binoculars\": 1,\n",
    "    \"mouse\": 2,\n",
    "    \"basket\": 3,\n",
    "    \"penguin\": 4,\n",
    "    \"washing machine\": 5,\n",
    "    \"canoe\": 6,\n",
    "    \"eyeglasses\": 7,\n",
    "    \"beach\": 8,\n",
    "    \"screwdriver\": 9,\n",
    "}\n",
    "\n",
    "# 参数：每类最多下载多少张图像（默认 7000，可修改）\n",
    "max_images_per_class = 7000\n",
    "\n",
    "# 下载源链接（修正后）\n",
    "npy_base_url = \"https://storage.googleapis.com/quickdraw_dataset/full/numpy_bitmap/\"\n",
    "\n",
    "# 本地路径\n",
    "npy_dir = \"./npy_files/\"\n",
    "output_dir = \"./quickdraw-png_set1/\"\n",
    "\n",
    "# 创建文件夹\n",
    "os.makedirs(npy_dir, exist_ok=True)\n",
    "os.makedirs(output_dir, exist_ok=True)\n",
    "\n",
    "# 遍历类目\n",
    "for label_name, label_index in label_dict.items():\n",
    "    npy_filename = f\"{label_name}.npy\"\n",
    "    npy_path = os.path.join(npy_dir, npy_filename)\n",
    "\n",
    "    # ✅ 下载 .npy 文件（如果不存在）\n",
    "    if not os.path.exists(npy_path):\n",
    "        url = npy_base_url + urllib.parse.quote(npy_filename)\n",
    "        print(f\"Downloading {label_name} from {url} ...\")\n",
    "        try:\n",
    "            urllib.request.urlretrieve(url, npy_path)\n",
    "            print(f\"Downloaded {label_name} ✅\")\n",
    "        except Exception as e:\n",
    "            print(f\"Failed to download {label_name}: {e}\")\n",
    "            continue\n",
    "    else:\n",
    "        print(f\"{label_name} already downloaded ✅\")\n",
    "\n",
    "    # ✅ 加载并保存 PNG\n",
    "    print(f\"Processing {label_name} ...\")\n",
    "    data = np.load(npy_path, allow_pickle=False)  # shape: (N, 784)\n",
    "    total = min(len(data), max_images_per_class)\n",
    "\n",
    "    class_dir = os.path.join(output_dir, f\"{label_index}_{label_name}\")\n",
    "    os.makedirs(class_dir, exist_ok=True)\n",
    "\n",
    "    for i in tqdm(range(total), desc=f\"Saving {label_name}\"):\n",
    "        img_array = data[i].reshape(28, 28).astype(np.uint8)\n",
    "        img = Image.fromarray(img_array, mode='L')\n",
    "        img.save(os.path.join(class_dir, f\"{label_name}_{i:05d}.png\"))\n",
    "\n",
    "# 删除整个 npy_dir 文件夹（包含其中所有文件）\n",
    "shutil.rmtree(npy_dir)"
   ]
  },
  {
   "cell_type": "code",
   "execution_count": 18,
   "id": "fc971144-3fe6-4844-b4e0-62b120180f24",
   "metadata": {},
   "outputs": [
    {
     "name": "stderr",
     "output_type": "stream",
     "text": [
      "读取类别文件夹: 100%|███████████████████████████████████████████████████████████████████| 10/10 [00:00<00:00, 53.84it/s]\n"
     ]
    },
    {
     "name": "stdout",
     "output_type": "stream",
     "text": [
      "✅ 数据集划分完成并保存为 CSV：\n",
      "- quickdraw_png_set1_train.csv\n",
      "- quickdraw_png_set1_valid.csv\n",
      "- quickdraw_png_set1_test.csv\n"
     ]
    }
   ],
   "source": [
    "import os\n",
    "import pandas as pd\n",
    "from tqdm import tqdm\n",
    "\n",
    "# 指定图像主目录\n",
    "base_dir = \"./quickdraw-png_set1\"\n",
    "\n",
    "# 获取所有子目录（类别）\n",
    "all_classes = sorted([\n",
    "    d for d in os.listdir(base_dir)\n",
    "    if os.path.isdir(os.path.join(base_dir, d))\n",
    "], key=lambda x: int(x.split(\"_\")[0]))  # 按标签数字排序\n",
    "\n",
    "# 存储路径和标签\n",
    "all_data = []\n",
    "\n",
    "for class_folder in tqdm(all_classes, desc=\"读取类别文件夹\"):\n",
    "    label = int(class_folder.split(\"_\")[0])\n",
    "    class_path = os.path.join(base_dir, class_folder)\n",
    "    filenames = sorted(os.listdir(class_path))  # 按文件名排序\n",
    "    \n",
    "    for fname in filenames:\n",
    "        rel_path = os.path.join(class_folder, fname)  # 相对路径\n",
    "        all_data.append((rel_path, label))\n",
    "\n",
    "# 转成 DataFrame\n",
    "df = pd.DataFrame(all_data, columns=[\"Path\", \"Label\"])\n",
    "\n",
    "# 按类别分组划分 train / val / test\n",
    "train_list, val_list, test_list = [], [], []\n",
    "\n",
    "for label in sorted(df['Label'].unique()):\n",
    "    cls_df = df[df[\"Label\"] == label].reset_index(drop=True)\n",
    "    test_list.append(cls_df.iloc[:1000])    # 前1000为测试\n",
    "    val_list.append(cls_df.iloc[1000:2000]) # 中1000为验证\n",
    "    train_list.append(cls_df.iloc[2000:])   # 剩下5000为训练\n",
    "\n",
    "# 拼接并打乱\n",
    "df_train = pd.concat(train_list).sample(frac=1, random_state=42).reset_index(drop=True)  # ✅ 打乱训练集\n",
    "df_val = pd.concat(val_list).reset_index(drop=True)    # ❌ 不打乱验证集\n",
    "df_test = pd.concat(test_list).reset_index(drop=True)  # ❌ 不打乱测试集\n",
    "\n",
    "# 保存 CSV\n",
    "df_train.to_csv(\"quickdraw_png_set1_train.csv\", index=False)\n",
    "df_val.to_csv(\"quickdraw_png_set1_valid.csv\", index=False)\n",
    "df_test.to_csv(\"quickdraw_png_set1_test.csv\", index=False)\n",
    "\n",
    "print(\"✅ 数据集划分完成并保存为 CSV：\")\n",
    "print(\"- quickdraw_png_set1_train.csv\")\n",
    "print(\"- quickdraw_png_set1_valid.csv\")\n",
    "print(\"- quickdraw_png_set1_test.csv\")\n"
   ]
  },
  {
   "cell_type": "code",
   "execution_count": null,
   "id": "508d3c5f-4b6b-47fe-97db-d700729504d3",
   "metadata": {},
   "outputs": [],
   "source": []
  }
 ],
 "metadata": {
  "kernelspec": {
   "display_name": "Python 3 (ipykernel)",
   "language": "python",
   "name": "python3"
  },
  "language_info": {
   "codemirror_mode": {
    "name": "ipython",
    "version": 3
   },
   "file_extension": ".py",
   "mimetype": "text/x-python",
   "name": "python",
   "nbconvert_exporter": "python",
   "pygments_lexer": "ipython3",
   "version": "3.11.11"
  }
 },
 "nbformat": 4,
 "nbformat_minor": 5
}
