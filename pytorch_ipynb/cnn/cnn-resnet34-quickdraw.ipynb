{
 "cells": [
  {
   "cell_type": "markdown",
   "metadata": {
    "colab_type": "text",
    "id": "UEBilEjLj5wY"
   },
   "source": [
    "Deep Learning Models -- A collection of various deep learning architectures, models, and tips for TensorFlow and PyTorch in Jupyter Notebooks.\n",
    "- Author: Sebastian Raschka\n",
    "- GitHub Repository: https://github.com/rasbt/deeplearning-models"
   ]
  },
  {
   "cell_type": "code",
   "execution_count": 1,
   "metadata": {
    "colab": {
     "autoexec": {
      "startup": false,
      "wait_interval": 0
     },
     "base_uri": "https://localhost:8080/",
     "height": 119
    },
    "colab_type": "code",
    "executionInfo": {
     "elapsed": 536,
     "status": "ok",
     "timestamp": 1524974472601,
     "user": {
      "displayName": "Sebastian Raschka",
      "photoUrl": "//lh6.googleusercontent.com/-cxK6yOSQ6uE/AAAAAAAAAAI/AAAAAAAAIfw/P9ar_CHsKOQ/s50-c-k-no/photo.jpg",
      "userId": "118404394130788869227"
     },
     "user_tz": 240
    },
    "id": "GOzuY8Yvj5wb",
    "outputId": "c19362ce-f87a-4cc2-84cc-8d7b4b9e6007"
   },
   "outputs": [
    {
     "name": "stdout",
     "output_type": "stream",
     "text": [
      "Author: Sebastian Raschka\n",
      "\n",
      "Python implementation: CPython\n",
      "Python version       : 3.11.11\n",
      "IPython version      : 9.0.2\n",
      "\n",
      "torch: 2.6.0+cu126\n",
      "\n"
     ]
    }
   ],
   "source": [
    "%load_ext watermark\n",
    "%watermark -a 'Sebastian Raschka' -v -p torch"
   ]
  },
  {
   "cell_type": "markdown",
   "metadata": {
    "colab_type": "text",
    "id": "rH4XmErYj5wm"
   },
   "source": [
    "# ResNet-34 QuickDraw Classifier"
   ]
  },
  {
   "cell_type": "markdown",
   "metadata": {},
   "source": [
    "### Network Architecture"
   ]
  },
  {
   "cell_type": "markdown",
   "metadata": {},
   "source": [
    "The network in this notebook is an implementation of the ResNet-34 [1] architecture on the MNIST digits dataset (http://yann.lecun.com/exdb/mnist/) to train a handwritten digit classifier.  \n",
    "本笔记本中的网络是 ResNet-34 [1] 架构在 MNIST 手写数字数据集（http://yann.lecun.com/exdb/mnist/）上的实现，用于训练一个手写数字分类器。\n",
    "\n",
    "References  \n",
    "参考文献\n",
    "\n",
    "- [1] He, K., Zhang, X., Ren, S., & Sun, J. (2016). Deep residual learning for image recognition. In Proceedings of the IEEE conference on computer vision and pattern recognition (pp. 770-778). ([CVPR Link](https://www.cv-foundation.org/openaccess/content_cvpr_2016/html/He_Deep_Residual_Learning_CVPR_2016_paper.html))  \n",
    "- [1] He, K., Zhang, X., Ren, S., & Sun, J.（2016）。用于图像识别的深度残差学习。发表于 IEEE 计算机视觉与模式识别会议论文集（第770-778页）。([CVPR链接](https://www.cv-foundation.org/openaccess/content_cvpr_2016/html/He_Deep_Residual_Learning_CVPR_2016_paper.html))\n",
    "\n",
    "- [2] http://yann.lecun.com/exdb/mnist/  \n",
    "\n",
    "![](../images/resnets/resnet34/resnet34-arch.png)"
   ]
  },
  {
   "cell_type": "markdown",
   "metadata": {},
   "source": [
    "The following figure illustrates residual blocks with skip connections such that the input passed via the shortcut matches the dimensions of the main path's output, which allows the network to learn identity functions.  \n",
    "下图展示了具有跳跃连接的残差块，其中通过快捷路径传递的输入与主路径输出的维度相匹配，这使得网络可以学习恒等映射函数。\n",
    "\n",
    "![](../images/resnets/resnet-ex-1-1.png)  \n",
    "\n",
    "The ResNet-34 architecture actually uses residual blocks with skip connections such that the input passed via the shortcut matches is resized to dimensions of the main path's output. Such a residual block is illustrated below:  \n",
    "ResNet-34 架构实际上使用的是这样的残差块：跳跃连接中的输入会被调整尺寸，以匹配主路径的输出维度。如下图所示：\n",
    "\n",
    "![](../images/resnets/resnet-ex-1-2.png)  "
   ]
  },
  {
   "cell_type": "markdown",
   "metadata": {},
   "source": [
    "For a more detailed explanation see the other notebook, [resnet-ex-1.ipynb](resnet-ex-1.ipynb)."
   ]
  },
  {
   "cell_type": "markdown",
   "metadata": {
    "colab_type": "text",
    "id": "MkoGLH_Tj5wn"
   },
   "source": [
    "## Imports"
   ]
  },
  {
   "cell_type": "code",
   "execution_count": 2,
   "metadata": {
    "colab": {
     "autoexec": {
      "startup": false,
      "wait_interval": 0
     }
    },
    "colab_type": "code",
    "id": "ORj09gnrj5wp"
   },
   "outputs": [],
   "source": [
    "import os\n",
    "import time\n",
    "\n",
    "import numpy as np\n",
    "import pandas as pd\n",
    "\n",
    "import torch\n",
    "import torch.nn as nn\n",
    "import torch.nn.functional as F\n",
    "from torch.utils.data import DataLoader\n",
    "from torch.utils.data import Dataset\n",
    "\n",
    "from torchvision import transforms\n",
    "\n",
    "import matplotlib.pyplot as plt\n",
    "from PIL import Image\n",
    "\n",
    "\n",
    "if torch.cuda.is_available():\n",
    "    torch.cuda.set_per_process_memory_fraction(0.5, device=0)\n",
    "    torch.backends.cudnn.deterministic = True"
   ]
  },
  {
   "cell_type": "markdown",
   "metadata": {
    "colab_type": "text",
    "id": "I6hghKPxj5w0"
   },
   "source": [
    "## Model Settings"
   ]
  },
  {
   "cell_type": "code",
   "execution_count": 3,
   "metadata": {
    "colab": {
     "autoexec": {
      "startup": false,
      "wait_interval": 0
     },
     "base_uri": "https://localhost:8080/",
     "height": 85
    },
    "colab_type": "code",
    "executionInfo": {
     "elapsed": 23936,
     "status": "ok",
     "timestamp": 1524974497505,
     "user": {
      "displayName": "Sebastian Raschka",
      "photoUrl": "//lh6.googleusercontent.com/-cxK6yOSQ6uE/AAAAAAAAAAI/AAAAAAAAIfw/P9ar_CHsKOQ/s50-c-k-no/photo.jpg",
      "userId": "118404394130788869227"
     },
     "user_tz": 240
    },
    "id": "NnT0sZIwj5wu",
    "outputId": "55aed925-d17e-4c6a-8c71-0d9b3bde5637"
   },
   "outputs": [],
   "source": [
    "##########################\n",
    "### 设置参数\n",
    "##########################\n",
    "\n",
    "# 超参数（Hyperparameters）\n",
    "RANDOM_SEED = 1          # 随机种子，保证实验可复现\n",
    "LEARNING_RATE = 0.001    # 学习率\n",
    "BATCH_SIZE = 128         # 每个批次的样本数量\n",
    "NUM_EPOCHS = 10          # 训练轮数（Epoch数量）\n",
    "\n",
    "# 网络结构相关参数（Architecture）\n",
    "NUM_FEATURES = 28*28     # 输入特征维度（例如用于MNIST 28x28图像）\n",
    "NUM_CLASSES = 10         # 输出类别数量（例如MNIST共10类数字）\n",
    "\n",
    "# 其他设置（Other）\n",
    "DEVICE = \"cuda:0\"        # 训练设备（使用GPU0进行加速）\n",
    "GRAYSCALE = True         # 是否为灰度图像（MNIST为True，RGB图像为False）"
   ]
  },
  {
   "cell_type": "markdown",
   "metadata": {},
   "source": [
    "## Dataset"
   ]
  },
  {
   "cell_type": "markdown",
   "metadata": {},
   "source": [
    "This notebook is based on Google's Quickdraw dataset (https://quickdraw.withgoogle.com).  \n",
    "本笔记本基于 Google 的 Quickdraw 数据集 https://quickdraw.withgoogle.com 。\n",
    "\n",
    "In particular we will be working with an arbitrary subset of 10 categories in png format:  \n",
    "我们将使用其中任意选择的10个类别的 PNG 图像子集：\n",
    "\n",
    "```python\n",
    "label_dict = {\n",
    "     \"lollipop\": 0,\n",
    "     \"binoculars\": 1,\n",
    "     \"mouse\": 2,\n",
    "     \"basket\": 3,\n",
    "     \"penguin\": 4,\n",
    "     \"washing machine\": 5,\n",
    "     \"canoe\": 6,\n",
    "     \"eyeglasses\": 7,\n",
    "     \"beach\": 8,\n",
    "     \"screwdriver\": 9,\n",
    "}\n",
    "```\n",
    "\n",
    "(The class labels 0-9 can be ignored in this notebook).  \n",
    "（本笔记本中可以忽略这些类别标签0-9。）\n",
    "\n",
    "For more details on obtaining and preparing the dataset, please see the  \n",
    "有关如何获取和准备数据集的更多详细信息，请参见：\n",
    "- [custom-data-loader-quickdraw.ipynb](custom-data-loader-quickdraw.ipynb)"
   ]
  },
  {
   "cell_type": "code",
   "execution_count": 4,
   "metadata": {},
   "outputs": [
    {
     "name": "stdout",
     "output_type": "stream",
     "text": [
      "(28, 28)\n"
     ]
    },
    {
     "data": {
      "image/png": "[encoded data removed]",
      "text/plain": [
       "<Figure size 640x480 with 1 Axes>"
      ]
     },
     "metadata": {},
     "output_type": "display_data"
    }
   ],
   "source": [
    "df = pd.read_csv('quickdraw_png_set1_train.csv', index_col=0)\n",
    "df.head()\n",
    "\n",
    "main_dir = 'quickdraw-png_set1/'\n",
    "\n",
    "img = Image.open(os.path.join(main_dir, df.index[99]))\n",
    "img = np.asarray(img, dtype=np.uint8)\n",
    "print(img.shape)\n",
    "plt.imshow(np.array(img), cmap='binary')\n",
    "plt.show()"
   ]
  },
  {
   "cell_type": "markdown",
   "metadata": {},
   "source": [
    "### Create a Custom Data Loader"
   ]
  },
  {
   "cell_type": "code",
   "execution_count": 5,
   "metadata": {},
   "outputs": [],
   "source": [
    "class QuickdrawDataset(Dataset):\n",
    "    \"\"\"自定义数据集类，用于加载Quickdraw图像\"\"\"\n",
    "\n",
    "    def __init__(self, txt_path, img_dir, transform=None):\n",
    "        # 读取图像标签信息（CSV文件），第一列为文件名索引\n",
    "        df = pd.read_csv(txt_path, sep=\",\", index_col=0)\n",
    "        self.img_dir = img_dir              # 图像文件夹路径\n",
    "        self.txt_path = txt_path            # 标签文件路径\n",
    "        self.img_names = df.index.values    # 图像文件名列表\n",
    "        self.y = df['Label'].values         # 图像对应的标签\n",
    "        self.transform = transform          # 图像变换（如Tensor转换、增强等）\n",
    "\n",
    "    def __getitem__(self, index):\n",
    "        # 加载索引对应的图像\n",
    "        img = Image.open(os.path.join(self.img_dir,\n",
    "                                      self.img_names[index]))\n",
    "\n",
    "        # 如果指定了transform（如ToTensor、Normalize等），则进行处理\n",
    "        if self.transform is not None:\n",
    "            img = self.transform(img)\n",
    "        \n",
    "        label = self.y[index]  # 获取对应的标签\n",
    "        return img, label      # 返回图像和标签\n",
    "\n",
    "    def __len__(self):\n",
    "        # 返回数据集中图像的总数量\n",
    "        return self.y.shape[0]\n"
   ]
  },
  {
   "cell_type": "code",
   "execution_count": 6,
   "metadata": {},
   "outputs": [],
   "source": [
    "# 注意：transforms.ToTensor() 会自动将像素值除以255，归一化到[0,1]范围内\n",
    "\n",
    "BATCH_SIZE = 128  # 每个批次的数据量\n",
    "\n",
    "# 图像预处理操作（这里仅使用了ToTensor，可根据需要添加更多变换）\n",
    "custom_transform = transforms.Compose([\n",
    "    # transforms.Lambda(lambda x: x/255.),  # 无需手动除以255，ToTensor已处理\n",
    "    transforms.ToTensor()\n",
    "])\n",
    "\n",
    "# 加载训练集\n",
    "train_dataset = QuickdrawDataset(\n",
    "    txt_path='quickdraw_png_set1_train.csv',     # 标签CSV文件路径\n",
    "    img_dir='quickdraw-png_set1/',               # 图像文件所在文件夹\n",
    "    transform=custom_transform                   # 应用的图像预处理\n",
    ")\n",
    "\n",
    "train_loader = DataLoader(\n",
    "    dataset=train_dataset,\n",
    "    batch_size=BATCH_SIZE,\n",
    "    shuffle=True,         # 打乱数据顺序\n",
    "    num_workers=4         # 使用4个子进程加载数据\n",
    ")\n",
    "\n",
    "# 加载验证集\n",
    "valid_dataset = QuickdrawDataset(\n",
    "    txt_path='quickdraw_png_set1_valid.csv',\n",
    "    img_dir='quickdraw-png_set1/',\n",
    "    transform=custom_transform\n",
    ")\n",
    "\n",
    "valid_loader = DataLoader(\n",
    "    dataset=valid_dataset,\n",
    "    batch_size=BATCH_SIZE,\n",
    "    shuffle=False,        # 验证集不打乱顺序\n",
    "    num_workers=4\n",
    ")\n",
    "\n",
    "# 加载测试集\n",
    "test_dataset = QuickdrawDataset(\n",
    "    txt_path='quickdraw_png_set1_test.csv',\n",
    "    img_dir='quickdraw-png_set1/',\n",
    "    transform=custom_transform\n",
    ")\n",
    "\n",
    "test_loader = DataLoader(\n",
    "    dataset=test_dataset,\n",
    "    batch_size=BATCH_SIZE,\n",
    "    shuffle=False,        # 测试集不打乱顺序\n",
    "    num_workers=4\n",
    ")\n"
   ]
  },
  {
   "cell_type": "code",
   "execution_count": 7,
   "metadata": {},
   "outputs": [
    {
     "name": "stdout",
     "output_type": "stream",
     "text": [
      "Epoch: 1 | Batch index: 0 | Batch size: 128\n",
      "Epoch: 2 | Batch index: 0 | Batch size: 128\n"
     ]
    }
   ],
   "source": [
    "device = torch.device(DEVICE if torch.cuda.is_available() else \"cpu\")\n",
    "torch.manual_seed(0)\n",
    "\n",
    "num_epochs = 2\n",
    "for epoch in range(num_epochs):\n",
    "\n",
    "    for batch_idx, (x, y) in enumerate(train_loader):\n",
    "        \n",
    "        print('Epoch:', epoch+1, end='')\n",
    "        print(' | Batch index:', batch_idx, end='')\n",
    "        print(' | Batch size:', y.size()[0])\n",
    "        \n",
    "        x = x.to(device)\n",
    "        y = y.to(device)\n",
    "        break"
   ]
  },
  {
   "cell_type": "markdown",
   "metadata": {},
   "source": [
    "## Model"
   ]
  },
  {
   "cell_type": "markdown",
   "metadata": {},
   "source": [
    "The following code cell that implements the ResNet-34 architecture is a derivative of the code provided at https://pytorch.org/docs/0.4.0/_modules/torchvision/models/resnet.html."
   ]
  },
  {
   "cell_type": "code",
   "execution_count": 8,
   "metadata": {},
   "outputs": [],
   "source": [
    "##########################\n",
    "### 模型定义\n",
    "##########################\n",
    "\n",
    "def conv3x3(in_planes, out_planes, stride=1):\n",
    "    \"\"\"带padding的3x3卷积层\"\"\"\n",
    "    return nn.Conv2d(in_planes, out_planes, kernel_size=3, stride=stride,\n",
    "                     padding=1, bias=False)\n",
    "\n",
    "\n",
    "class BasicBlock(nn.Module):\n",
    "    expansion = 1  # 通道扩展倍数（BasicBlock为1）\n",
    "\n",
    "    def __init__(self, inplanes, planes, stride=1, downsample=None):\n",
    "        super(BasicBlock, self).__init__()\n",
    "        # 第一层卷积\n",
    "        self.conv1 = conv3x3(inplanes, planes, stride)\n",
    "        self.bn1 = nn.BatchNorm2d(planes)\n",
    "        self.relu = nn.ReLU(inplace=True)\n",
    "        # 第二层卷积\n",
    "        self.conv2 = conv3x3(planes, planes)\n",
    "        self.bn2 = nn.BatchNorm2d(planes)\n",
    "        # 是否进行下采样（用于残差连接对齐维度）\n",
    "        self.downsample = downsample\n",
    "        self.stride = stride\n",
    "\n",
    "    def forward(self, x):\n",
    "        residual = x  # 残差连接的输入（shortcut）\n",
    "\n",
    "        out = self.conv1(x)\n",
    "        out = self.bn1(out)\n",
    "        out = self.relu(out)\n",
    "\n",
    "        out = self.conv2(out)\n",
    "        out = self.bn2(out)\n",
    "\n",
    "        # 如果需要下采样，则对residual进行变换\n",
    "        if self.downsample is not None:\n",
    "            residual = self.downsample(x)\n",
    "\n",
    "        out += residual  # 残差连接\n",
    "        out = self.relu(out)\n",
    "\n",
    "        return out\n",
    "\n",
    "\n",
    "class ResNet(nn.Module):\n",
    "    def __init__(self, block, layers, num_classes, grayscale):\n",
    "        self.inplanes = 64  # 初始通道数\n",
    "        # 灰度图像通道为1，RGB图像为3\n",
    "        in_dim = 1 if grayscale else 3\n",
    "\n",
    "        super(ResNet, self).__init__()\n",
    "        # 输入图像的第一层卷积\n",
    "        self.conv1 = nn.Conv2d(in_dim, 64, kernel_size=7, stride=2, padding=3,\n",
    "                               bias=False)\n",
    "        self.bn1 = nn.BatchNorm2d(64)\n",
    "        self.relu = nn.ReLU(inplace=True)\n",
    "        self.maxpool = nn.MaxPool2d(kernel_size=3, stride=2, padding=1)\n",
    "\n",
    "        # 构建4个残差层，每层包含若干BasicBlock\n",
    "        self.layer1 = self._make_layer(block, 64, layers[0])     # 输出通道64\n",
    "        self.layer2 = self._make_layer(block, 128, layers[1], stride=2)  # 输出通道128\n",
    "        self.layer3 = self._make_layer(block, 256, layers[2], stride=2)  # 输出通道256\n",
    "        self.layer4 = self._make_layer(block, 512, layers[3], stride=2)  # 输出通道512\n",
    "\n",
    "        # 平均池化层（默认不启用，适配MNIST等小图像）\n",
    "        self.avgpool = nn.AvgPool2d(7, stride=1)\n",
    "        # 全连接层用于分类（输入特征 = 512）\n",
    "        self.fc = nn.Linear(512 * block.expansion, num_classes)\n",
    "\n",
    "        # 初始化所有卷积层和BN层参数\n",
    "        for m in self.modules():\n",
    "            if isinstance(m, nn.Conv2d):\n",
    "                n = m.kernel_size[0] * m.kernel_size[1] * m.out_channels\n",
    "                m.weight.data.normal_(0, (2. / n)**0.5)\n",
    "            elif isinstance(m, nn.BatchNorm2d):\n",
    "                m.weight.data.fill_(1)\n",
    "                m.bias.data.zero_()\n",
    "\n",
    "    def _make_layer(self, block, planes, blocks, stride=1):\n",
    "        \"\"\"\n",
    "        构建一个残差层，由多个BasicBlock组成\n",
    "        \"\"\"\n",
    "        downsample = None\n",
    "        # 如果输入输出维度不一致或stride不为1，则使用下采样对齐残差\n",
    "        if stride != 1 or self.inplanes != planes * block.expansion:\n",
    "            downsample = nn.Sequential(\n",
    "                nn.Conv2d(self.inplanes, planes * block.expansion,\n",
    "                          kernel_size=1, stride=stride, bias=False),\n",
    "                nn.BatchNorm2d(planes * block.expansion),\n",
    "            )\n",
    "\n",
    "        layers = []\n",
    "        # 第一个block可能包含下采样\n",
    "        layers.append(block(self.inplanes, planes, stride, downsample))\n",
    "        self.inplanes = planes * block.expansion\n",
    "        # 后续blocks保持维度一致\n",
    "        for i in range(1, blocks):\n",
    "            layers.append(block(self.inplanes, planes))\n",
    "\n",
    "        return nn.Sequential(*layers)\n",
    "\n",
    "    def forward(self, x):\n",
    "        # 输入图像通过初始卷积、BN、ReLU、池化\n",
    "        x = self.conv1(x)\n",
    "        x = self.bn1(x)\n",
    "        x = self.relu(x)\n",
    "        x = self.maxpool(x)\n",
    "\n",
    "        # 依次通过四个残差层\n",
    "        x = self.layer1(x)\n",
    "        x = self.layer2(x)\n",
    "        x = self.layer3(x)\n",
    "        x = self.layer4(x)\n",
    "\n",
    "        # 对于小尺寸图像（如MNIST），可跳过平均池化\n",
    "        # x = self.avgpool(x)\n",
    "        \n",
    "        x = x.view(x.size(0), -1)       # 展平为一维向量\n",
    "        logits = self.fc(x)             # 全连接层输出分类结果\n",
    "        probas = F.softmax(logits, dim=1)  # 计算概率分布\n",
    "        return logits, probas\n",
    "\n",
    "\n",
    "def resnet34(num_classes):\n",
    "    \"\"\"构建 ResNet-34 模型\"\"\"\n",
    "    model = ResNet(block=BasicBlock, \n",
    "                   layers=[3, 4, 6, 3],           # 每个阶段的block数量（ResNet-34结构）\n",
    "                   num_classes=NUM_CLASSES,\n",
    "                   grayscale=GRAYSCALE)\n",
    "    return model"
   ]
  },
  {
   "cell_type": "code",
   "execution_count": 9,
   "metadata": {
    "colab": {
     "autoexec": {
      "startup": false,
      "wait_interval": 0
     }
    },
    "colab_type": "code",
    "id": "_lza9t_uj5w1"
   },
   "outputs": [],
   "source": [
    "torch.manual_seed(RANDOM_SEED)\n",
    "model = resnet34(NUM_CLASSES)\n",
    "model.to(DEVICE)\n",
    "\n",
    "optimizer = torch.optim.Adam(model.parameters(), lr=LEARNING_RATE)  "
   ]
  },
  {
   "cell_type": "markdown",
   "metadata": {
    "colab_type": "text",
    "id": "RAodboScj5w6"
   },
   "source": [
    "## Training"
   ]
  },
  {
   "cell_type": "code",
   "execution_count": 10,
   "metadata": {
    "colab": {
     "autoexec": {
      "startup": false,
      "wait_interval": 0
     },
     "base_uri": "https://localhost:8080/",
     "height": 1547
    },
    "colab_type": "code",
    "executionInfo": {
     "elapsed": 2384585,
     "status": "ok",
     "timestamp": 1524976888520,
     "user": {
      "displayName": "Sebastian Raschka",
      "photoUrl": "//lh6.googleusercontent.com/-cxK6yOSQ6uE/AAAAAAAAAAI/AAAAAAAAIfw/P9ar_CHsKOQ/s50-c-k-no/photo.jpg",
      "userId": "118404394130788869227"
     },
     "user_tz": 240
    },
    "id": "Dzh3ROmRj5w7",
    "outputId": "5f8fd8c9-b076-403a-b0b7-fd2d498b48d7"
   },
   "outputs": [
    {
     "name": "stdout",
     "output_type": "stream",
     "text": [
      "Epoch: 001/010 | Batch 0000/0391 | Cost: 2.6929\n",
      "Epoch: 001/010 | Batch 0050/0391 | Cost: 0.5978\n",
      "Epoch: 001/010 | Batch 0100/0391 | Cost: 0.6248\n",
      "Epoch: 001/010 | Batch 0150/0391 | Cost: 0.5486\n",
      "Epoch: 001/010 | Batch 0200/0391 | Cost: 0.3570\n",
      "Epoch: 001/010 | Batch 0250/0391 | Cost: 0.4750\n",
      "Epoch: 001/010 | Batch 0300/0391 | Cost: 0.4612\n",
      "Epoch: 001/010 | Batch 0350/0391 | Cost: 0.3723\n",
      "Epoch: 001/010 | Train: 86.746%\n",
      "Time elapsed: 0.54 min\n",
      "Epoch: 002/010 | Batch 0000/0391 | Cost: 0.5986\n",
      "Epoch: 002/010 | Batch 0050/0391 | Cost: 0.3201\n",
      "Epoch: 002/010 | Batch 0100/0391 | Cost: 0.3323\n",
      "Epoch: 002/010 | Batch 0150/0391 | Cost: 0.4868\n",
      "Epoch: 002/010 | Batch 0200/0391 | Cost: 0.4517\n",
      "Epoch: 002/010 | Batch 0250/0391 | Cost: 0.3907\n",
      "Epoch: 002/010 | Batch 0300/0391 | Cost: 0.3273\n",
      "Epoch: 002/010 | Batch 0350/0391 | Cost: 0.3549\n",
      "Epoch: 002/010 | Train: 89.732%\n",
      "Time elapsed: 1.07 min\n",
      "Epoch: 003/010 | Batch 0000/0391 | Cost: 0.3395\n",
      "Epoch: 003/010 | Batch 0050/0391 | Cost: 0.2999\n",
      "Epoch: 003/010 | Batch 0100/0391 | Cost: 0.3192\n",
      "Epoch: 003/010 | Batch 0150/0391 | Cost: 0.3536\n",
      "Epoch: 003/010 | Batch 0200/0391 | Cost: 0.3960\n",
      "Epoch: 003/010 | Batch 0250/0391 | Cost: 0.1580\n",
      "Epoch: 003/010 | Batch 0300/0391 | Cost: 0.3192\n",
      "Epoch: 003/010 | Batch 0350/0391 | Cost: 0.3166\n",
      "Epoch: 003/010 | Train: 90.144%\n",
      "Time elapsed: 1.60 min\n",
      "Epoch: 004/010 | Batch 0000/0391 | Cost: 0.2102\n",
      "Epoch: 004/010 | Batch 0050/0391 | Cost: 0.4284\n",
      "Epoch: 004/010 | Batch 0100/0391 | Cost: 0.3674\n",
      "Epoch: 004/010 | Batch 0150/0391 | Cost: 0.2898\n",
      "Epoch: 004/010 | Batch 0200/0391 | Cost: 0.2784\n",
      "Epoch: 004/010 | Batch 0250/0391 | Cost: 0.3261\n",
      "Epoch: 004/010 | Batch 0300/0391 | Cost: 0.3703\n",
      "Epoch: 004/010 | Batch 0350/0391 | Cost: 0.2725\n",
      "Epoch: 004/010 | Train: 92.206%\n",
      "Time elapsed: 2.14 min\n",
      "Epoch: 005/010 | Batch 0000/0391 | Cost: 0.2914\n",
      "Epoch: 005/010 | Batch 0050/0391 | Cost: 0.3148\n",
      "Epoch: 005/010 | Batch 0100/0391 | Cost: 0.3983\n",
      "Epoch: 005/010 | Batch 0150/0391 | Cost: 0.2637\n",
      "Epoch: 005/010 | Batch 0200/0391 | Cost: 0.2552\n",
      "Epoch: 005/010 | Batch 0250/0391 | Cost: 0.2043\n",
      "Epoch: 005/010 | Batch 0300/0391 | Cost: 0.2251\n",
      "Epoch: 005/010 | Batch 0350/0391 | Cost: 0.1593\n",
      "Epoch: 005/010 | Train: 90.614%\n",
      "Time elapsed: 2.66 min\n",
      "Epoch: 006/010 | Batch 0000/0391 | Cost: 0.2319\n",
      "Epoch: 006/010 | Batch 0050/0391 | Cost: 0.1735\n",
      "Epoch: 006/010 | Batch 0100/0391 | Cost: 0.1265\n",
      "Epoch: 006/010 | Batch 0150/0391 | Cost: 0.3461\n",
      "Epoch: 006/010 | Batch 0200/0391 | Cost: 0.1934\n",
      "Epoch: 006/010 | Batch 0250/0391 | Cost: 0.1559\n",
      "Epoch: 006/010 | Batch 0300/0391 | Cost: 0.2460\n",
      "Epoch: 006/010 | Batch 0350/0391 | Cost: 0.2659\n",
      "Epoch: 006/010 | Train: 93.082%\n",
      "Time elapsed: 3.20 min\n",
      "Epoch: 007/010 | Batch 0000/0391 | Cost: 0.2130\n",
      "Epoch: 007/010 | Batch 0050/0391 | Cost: 0.1800\n",
      "Epoch: 007/010 | Batch 0100/0391 | Cost: 0.2906\n",
      "Epoch: 007/010 | Batch 0150/0391 | Cost: 0.2336\n",
      "Epoch: 007/010 | Batch 0200/0391 | Cost: 0.2115\n",
      "Epoch: 007/010 | Batch 0250/0391 | Cost: 0.2202\n",
      "Epoch: 007/010 | Batch 0300/0391 | Cost: 0.2899\n",
      "Epoch: 007/010 | Batch 0350/0391 | Cost: 0.1496\n",
      "Epoch: 007/010 | Train: 93.454%\n",
      "Time elapsed: 3.73 min\n",
      "Epoch: 008/010 | Batch 0000/0391 | Cost: 0.1987\n",
      "Epoch: 008/010 | Batch 0050/0391 | Cost: 0.1517\n",
      "Epoch: 008/010 | Batch 0100/0391 | Cost: 0.2165\n",
      "Epoch: 008/010 | Batch 0150/0391 | Cost: 0.2042\n",
      "Epoch: 008/010 | Batch 0200/0391 | Cost: 0.2084\n",
      "Epoch: 008/010 | Batch 0250/0391 | Cost: 0.2019\n",
      "Epoch: 008/010 | Batch 0300/0391 | Cost: 0.1604\n",
      "Epoch: 008/010 | Batch 0350/0391 | Cost: 0.3389\n",
      "Epoch: 008/010 | Train: 94.152%\n",
      "Time elapsed: 4.26 min\n",
      "Epoch: 009/010 | Batch 0000/0391 | Cost: 0.1365\n",
      "Epoch: 009/010 | Batch 0050/0391 | Cost: 0.1367\n",
      "Epoch: 009/010 | Batch 0100/0391 | Cost: 0.1535\n",
      "Epoch: 009/010 | Batch 0150/0391 | Cost: 0.1805\n",
      "Epoch: 009/010 | Batch 0200/0391 | Cost: 0.1080\n",
      "Epoch: 009/010 | Batch 0250/0391 | Cost: 0.1813\n",
      "Epoch: 009/010 | Batch 0300/0391 | Cost: 0.0882\n",
      "Epoch: 009/010 | Batch 0350/0391 | Cost: 0.1438\n",
      "Epoch: 009/010 | Train: 95.516%\n",
      "Time elapsed: 4.78 min\n",
      "Epoch: 010/010 | Batch 0000/0391 | Cost: 0.1174\n",
      "Epoch: 010/010 | Batch 0050/0391 | Cost: 0.2239\n",
      "Epoch: 010/010 | Batch 0100/0391 | Cost: 0.0840\n",
      "Epoch: 010/010 | Batch 0150/0391 | Cost: 0.1387\n",
      "Epoch: 010/010 | Batch 0200/0391 | Cost: 0.1073\n",
      "Epoch: 010/010 | Batch 0250/0391 | Cost: 0.1665\n",
      "Epoch: 010/010 | Batch 0300/0391 | Cost: 0.1994\n",
      "Epoch: 010/010 | Batch 0350/0391 | Cost: 0.2326\n",
      "Epoch: 010/010 | Train: 95.798%\n",
      "Time elapsed: 5.31 min\n",
      "Total Training Time: 5.31 min\n"
     ]
    }
   ],
   "source": [
    "def compute_accuracy(model, data_loader, device):\n",
    "    correct_pred, num_examples = 0, 0  # 初始化正确预测的数量和总样本数\n",
    "    for i, (features, targets) in enumerate(data_loader):  # 遍历数据加载器中的每个批次\n",
    "        features = features.to(device)  # 将特征移到指定设备\n",
    "        targets = targets.to(device)  # 将标签移到指定设备\n",
    "\n",
    "        logits, probas = model(features)  # 前向传播，得到logits和预测概率\n",
    "        _, predicted_labels = torch.max(probas, 1)  # 获取概率最大的类别\n",
    "        num_examples += targets.size(0)  # 增加批次中的样本数\n",
    "        correct_pred += (predicted_labels == targets).sum()  # 计算正确预测的数量\n",
    "    # 返回准确率（百分比），使用float()转换为浮点数\n",
    "    return correct_pred.float()/num_examples * 100  \n",
    "\n",
    "\n",
    "start_time = time.time()  # 记录训练开始时间\n",
    "for epoch in range(NUM_EPOCHS):  # 遍历所有训练轮次\n",
    "    \n",
    "    model.train()  # 设置模型为训练模式\n",
    "    for batch_idx, (features, targets) in enumerate(train_loader):  # 遍历训练数据\n",
    "        features = features.to(DEVICE)  # 将特征移到指定设备\n",
    "        targets = targets.to(DEVICE)  # 将标签移到指定设备\n",
    "            \n",
    "        ### 正向传播和反向传播\n",
    "        logits, probas = model(features)  # 前向传播，得到logits和预测概率\n",
    "        cost = F.cross_entropy(logits, targets)  # 计算交叉熵损失\n",
    "        optimizer.zero_grad()  # 清空之前的梯度\n",
    "        \n",
    "        cost.backward()  # 反向传播，计算梯度\n",
    "        \n",
    "        ### 更新模型参数\n",
    "        optimizer.step()  # 更新模型参数\n",
    "        \n",
    "        ### 记录日志\n",
    "        if not batch_idx % 50:  # 每50个批次打印一次日志\n",
    "            print ('Epoch: %03d/%03d | Batch %04d/%04d | Cost: %.4f' \n",
    "                   %(epoch+1, NUM_EPOCHS, batch_idx, \n",
    "                     len(train_loader), cost))\n",
    "\n",
    "    # 设置模型为评估模式，以防在推理过程中更新批归一化参数\n",
    "    model.eval()  \n",
    "    with torch.set_grad_enabled(False):  # 在推理过程中禁用梯度计算，节省内存\n",
    "        # 打印训练集上的准确率\n",
    "        print('Epoch: %03d/%03d | Train: %.3f%%' % (\n",
    "              epoch+1, NUM_EPOCHS, \n",
    "              compute_accuracy(model, train_loader, device=DEVICE)))  \n",
    "\n",
    "    # 打印已用时间，单位：分钟\n",
    "    print('Time elapsed: %.2f min' % ((time.time() - start_time)/60))  \n",
    "    \n",
    "# 打印总训练时间，单位：分钟\n",
    "print('Total Training Time: %.2f min' % ((time.time() - start_time)/60))  \n"
   ]
  },
  {
   "cell_type": "markdown",
   "metadata": {
    "colab_type": "text",
    "id": "paaeEQHQj5xC"
   },
   "source": [
    "## Evaluation"
   ]
  },
  {
   "cell_type": "code",
   "execution_count": 11,
   "metadata": {
    "colab": {
     "autoexec": {
      "startup": false,
      "wait_interval": 0
     },
     "base_uri": "https://localhost:8080/",
     "height": 34
    },
    "colab_type": "code",
    "executionInfo": {
     "elapsed": 6514,
     "status": "ok",
     "timestamp": 1524976895054,
     "user": {
      "displayName": "Sebastian Raschka",
      "photoUrl": "//lh6.googleusercontent.com/-cxK6yOSQ6uE/AAAAAAAAAAI/AAAAAAAAIfw/P9ar_CHsKOQ/s50-c-k-no/photo.jpg",
      "userId": "118404394130788869227"
     },
     "user_tz": 240
    },
    "id": "gzQMWKq5j5xE",
    "outputId": "de7dc005-5eeb-4177-9f9f-d9b5d1358db9"
   },
   "outputs": [
    {
     "name": "stdout",
     "output_type": "stream",
     "text": [
      "Test accuracy: 90.42%\n"
     ]
    }
   ],
   "source": [
    "with torch.set_grad_enabled(False): # 在推理过程中禁用梯度计算，节省内存\n",
    "    print('Test accuracy: %.2f%%' % (compute_accuracy(model, test_loader, device=DEVICE)))"
   ]
  },
  {
   "cell_type": "code",
   "execution_count": 12,
   "metadata": {},
   "outputs": [
    {
     "data": {
      "image/png": "[encoded data removed]",
      "text/plain": [
       "<Figure size 640x480 with 1 Axes>"
      ]
     },
     "metadata": {},
     "output_type": "display_data"
    }
   ],
   "source": [
    "for batch_idx, (features, targets) in enumerate(test_loader):\n",
    "    # 获取该 batch 中所有 label=5 的样本索引\n",
    "    indices = (targets == 5).nonzero(as_tuple=True)[0]\n",
    "\n",
    "    if len(indices) > 0:\n",
    "        # ✅ 提取所有 label=5 的样本\n",
    "        imgs_5 = features[indices]     # shape: [N, C, H, W]\n",
    "        labels_5 = targets[indices]    # 全是 5\n",
    "\n",
    "nhwc_img = np.transpose(imgs_5[5], axes=(1, 2, 0))\n",
    "nhw_img = np.squeeze(nhwc_img.numpy(), axis=2)\n",
    "plt.imshow(nhw_img, cmap='Greys');"
   ]
  },
  {
   "cell_type": "code",
   "execution_count": 13,
   "metadata": {},
   "outputs": [
    {
     "name": "stdout",
     "output_type": "stream",
     "text": [
      "Probability Washing Machine 100.00%\n"
     ]
    }
   ],
   "source": [
    "model.eval()\n",
    "logits, probas = model(imgs_5[0].unsqueeze(0).to(device))\n",
    "print('Probability Washing Machine %.2f%%' % (probas[0][5]*100))"
   ]
  },
  {
   "cell_type": "code",
   "execution_count": 14,
   "metadata": {},
   "outputs": [
    {
     "name": "stdout",
     "output_type": "stream",
     "text": [
      "numpy      : 1.26.4\n",
      "torch      : 2.6.0+cu126\n",
      "torchvision: 0.21.0+cu126\n",
      "pandas     : 2.2.3\n",
      "matplotlib : 3.10.1\n",
      "PIL        : 11.1.0\n",
      "\n"
     ]
    }
   ],
   "source": [
    "%watermark -iv"
   ]
  }
 ],
 "metadata": {
  "accelerator": "GPU",
  "colab": {
   "collapsed_sections": [],
   "default_view": {},
   "name": "convnet-vgg16.ipynb",
   "provenance": [],
   "version": "0.3.2",
   "views": {}
  },
  "kernelspec": {
   "display_name": "Python (pytorch_env)",
   "language": "python",
   "name": "pytorch_env"
  },
  "language_info": {
   "codemirror_mode": {
    "name": "ipython",
    "version": 3
   },
   "file_extension": ".py",
   "mimetype": "text/x-python",
   "name": "python",
   "nbconvert_exporter": "python",
   "pygments_lexer": "ipython3",
   "version": "3.11.11"
  },
  "toc": {
   "nav_menu": {},
   "number_sections": true,
   "sideBar": true,
   "skip_h1_title": false,
   "title_cell": "Table of Contents",
   "title_sidebar": "Contents",
   "toc_cell": true,
   "toc_position": {
    "height": "calc(100% - 180px)",
    "left": "10px",
    "top": "150px",
    "width": "371px"
   },
   "toc_section_display": true,
   "toc_window_display": true
  }
 },
 "nbformat": 4,
 "nbformat_minor": 4
}
